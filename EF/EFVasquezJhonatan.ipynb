{
 "cells": [
  {
   "cell_type": "markdown",
   "metadata": {},
   "source": [
    "# EXAMEN FINAL DE IA 2021-0\n",
    "\n",
    "# INTEGRANTES:\n",
    "## -SALGUERO CONTRERAS GINO ESAUL ------------ 17200303\n",
    "## -VASQUEZ MELGAREJO JHONATAN ----------------- 17200306\n",
    "## -VILLEGAS DAUNEY GIANPIERRE ALEXIS --------- 17200311"
   ]
  },
  {
   "cell_type": "markdown",
   "metadata": {},
   "source": [
    "## Importar librerias\n",
    "\n",
    "** Importe las librerias que generalmente usa para el análisis de datos. **"
   ]
  },
  {
   "cell_type": "code",
   "execution_count": 1,
   "metadata": {},
   "outputs": [],
   "source": [
    "import matplotlib.pyplot as plt\n",
    "import pandas as pd\n",
    "import numpy as np\n",
    "import seaborn as sns\n",
    "%matplotlib inline"
   ]
  },
  {
   "cell_type": "markdown",
   "metadata": {},
   "source": [
    "## Obtener los datos"
   ]
  },
  {
   "cell_type": "code",
   "execution_count": 2,
   "metadata": {},
   "outputs": [],
   "source": [
    "df_cov = pd.read_excel('BD_coronavirus.xlsx')"
   ]
  },
  {
   "cell_type": "markdown",
   "metadata": {},
   "source": [
    "Revisamos las primeras filas del dataset, así como algunas estadisticas e información acerca de las columnas."
   ]
  },
  {
   "cell_type": "code",
   "execution_count": 3,
   "metadata": {
    "scrolled": true
   },
   "outputs": [
    {
     "data": {
      "text/html": [
       "<div>\n",
       "<style scoped>\n",
       "    .dataframe tbody tr th:only-of-type {\n",
       "        vertical-align: middle;\n",
       "    }\n",
       "\n",
       "    .dataframe tbody tr th {\n",
       "        vertical-align: top;\n",
       "    }\n",
       "\n",
       "    .dataframe thead th {\n",
       "        text-align: right;\n",
       "    }\n",
       "</style>\n",
       "<table border=\"1\" class=\"dataframe\">\n",
       "  <thead>\n",
       "    <tr style=\"text-align: right;\">\n",
       "      <th></th>\n",
       "      <th>id</th>\n",
       "      <th>edad</th>\n",
       "      <th>sexo</th>\n",
       "      <th>fecha_ini</th>\n",
       "      <th>hospitalizado</th>\n",
       "      <th>evolucion</th>\n",
       "      <th>fiebre</th>\n",
       "      <th>malestar</th>\n",
       "      <th>tos</th>\n",
       "      <th>garganta</th>\n",
       "      <th>...</th>\n",
       "      <th>inmunodeficiencia</th>\n",
       "      <th>renal</th>\n",
       "      <th>hepatico</th>\n",
       "      <th>pulmonar</th>\n",
       "      <th>cancer</th>\n",
       "      <th>otros_comorbilidad</th>\n",
       "      <th>fecha_mue</th>\n",
       "      <th>muestra</th>\n",
       "      <th>prueba</th>\n",
       "      <th>resultado</th>\n",
       "    </tr>\n",
       "  </thead>\n",
       "  <tbody>\n",
       "    <tr>\n",
       "      <th>0</th>\n",
       "      <td>1</td>\n",
       "      <td>40</td>\n",
       "      <td>MASCULINO</td>\n",
       "      <td>17-04-2020</td>\n",
       "      <td>NO</td>\n",
       "      <td>NaN</td>\n",
       "      <td>0</td>\n",
       "      <td>1</td>\n",
       "      <td>1</td>\n",
       "      <td>1</td>\n",
       "      <td>...</td>\n",
       "      <td>0</td>\n",
       "      <td>0</td>\n",
       "      <td>0</td>\n",
       "      <td>0</td>\n",
       "      <td>0</td>\n",
       "      <td>NaN</td>\n",
       "      <td>00-00-0000</td>\n",
       "      <td>NaN</td>\n",
       "      <td>NaN</td>\n",
       "      <td>NaN</td>\n",
       "    </tr>\n",
       "    <tr>\n",
       "      <th>1</th>\n",
       "      <td>539</td>\n",
       "      <td>18</td>\n",
       "      <td>FEMENINO</td>\n",
       "      <td>04-09-2020</td>\n",
       "      <td>NO</td>\n",
       "      <td>NaN</td>\n",
       "      <td>1</td>\n",
       "      <td>1</td>\n",
       "      <td>1</td>\n",
       "      <td>0</td>\n",
       "      <td>...</td>\n",
       "      <td>0</td>\n",
       "      <td>0</td>\n",
       "      <td>0</td>\n",
       "      <td>0</td>\n",
       "      <td>0</td>\n",
       "      <td>NaN</td>\n",
       "      <td>10-03-2020</td>\n",
       "      <td>HISOPADO NASAL Y FARINGEO</td>\n",
       "      <td>NaN</td>\n",
       "      <td>NaN</td>\n",
       "    </tr>\n",
       "    <tr>\n",
       "      <th>2</th>\n",
       "      <td>681</td>\n",
       "      <td>45</td>\n",
       "      <td>MASCULINO</td>\n",
       "      <td>02-03-2020</td>\n",
       "      <td>SI</td>\n",
       "      <td>RECUPERADO</td>\n",
       "      <td>0</td>\n",
       "      <td>1</td>\n",
       "      <td>0</td>\n",
       "      <td>0</td>\n",
       "      <td>...</td>\n",
       "      <td>0</td>\n",
       "      <td>0</td>\n",
       "      <td>0</td>\n",
       "      <td>0</td>\n",
       "      <td>0</td>\n",
       "      <td>NaN</td>\n",
       "      <td>04-03-2020</td>\n",
       "      <td>HISOPADO NASAL Y FARINGEO</td>\n",
       "      <td>PCR-RT</td>\n",
       "      <td>NEGATIVO</td>\n",
       "    </tr>\n",
       "    <tr>\n",
       "      <th>3</th>\n",
       "      <td>692</td>\n",
       "      <td>69</td>\n",
       "      <td>MASCULINO</td>\n",
       "      <td>02-03-2020</td>\n",
       "      <td>NO</td>\n",
       "      <td>RECUPERADO</td>\n",
       "      <td>1</td>\n",
       "      <td>1</td>\n",
       "      <td>1</td>\n",
       "      <td>0</td>\n",
       "      <td>...</td>\n",
       "      <td>0</td>\n",
       "      <td>0</td>\n",
       "      <td>0</td>\n",
       "      <td>0</td>\n",
       "      <td>0</td>\n",
       "      <td>asma</td>\n",
       "      <td>12-03-2020</td>\n",
       "      <td>HISOPADO NASAL Y FARINGEO</td>\n",
       "      <td>NaN</td>\n",
       "      <td>NaN</td>\n",
       "    </tr>\n",
       "    <tr>\n",
       "      <th>4</th>\n",
       "      <td>696</td>\n",
       "      <td>67</td>\n",
       "      <td>FEMENINO</td>\n",
       "      <td>10-03-2020</td>\n",
       "      <td>NO</td>\n",
       "      <td>DESCONOCIDO</td>\n",
       "      <td>1</td>\n",
       "      <td>1</td>\n",
       "      <td>1</td>\n",
       "      <td>0</td>\n",
       "      <td>...</td>\n",
       "      <td>0</td>\n",
       "      <td>0</td>\n",
       "      <td>0</td>\n",
       "      <td>0</td>\n",
       "      <td>0</td>\n",
       "      <td>NaN</td>\n",
       "      <td>12-03-2020</td>\n",
       "      <td>HISOPADO NASAL Y FARINGEO</td>\n",
       "      <td>PCR</td>\n",
       "      <td>NEGATIVO</td>\n",
       "    </tr>\n",
       "  </tbody>\n",
       "</table>\n",
       "<p>5 rows × 47 columns</p>\n",
       "</div>"
      ],
      "text/plain": [
       "    id  edad       sexo   fecha_ini hospitalizado    evolucion  fiebre  \\\n",
       "0    1    40  MASCULINO  17-04-2020            NO          NaN       0   \n",
       "1  539    18   FEMENINO  04-09-2020            NO          NaN       1   \n",
       "2  681    45  MASCULINO  02-03-2020            SI   RECUPERADO       0   \n",
       "3  692    69  MASCULINO  02-03-2020            NO   RECUPERADO       1   \n",
       "4  696    67   FEMENINO  10-03-2020            NO  DESCONOCIDO       1   \n",
       "\n",
       "   malestar  tos  garganta  ...  inmunodeficiencia  renal  hepatico  pulmonar  \\\n",
       "0         1    1         1  ...                  0      0         0         0   \n",
       "1         1    1         0  ...                  0      0         0         0   \n",
       "2         1    0         0  ...                  0      0         0         0   \n",
       "3         1    1         0  ...                  0      0         0         0   \n",
       "4         1    1         0  ...                  0      0         0         0   \n",
       "\n",
       "   cancer  otros_comorbilidad   fecha_mue                    muestra  prueba  \\\n",
       "0       0                 NaN  00-00-0000                        NaN     NaN   \n",
       "1       0                 NaN  10-03-2020  HISOPADO NASAL Y FARINGEO     NaN   \n",
       "2       0                 NaN  04-03-2020  HISOPADO NASAL Y FARINGEO  PCR-RT   \n",
       "3       0                asma  12-03-2020  HISOPADO NASAL Y FARINGEO     NaN   \n",
       "4       0                 NaN  12-03-2020  HISOPADO NASAL Y FARINGEO     PCR   \n",
       "\n",
       "   resultado  \n",
       "0        NaN  \n",
       "1        NaN  \n",
       "2   NEGATIVO  \n",
       "3        NaN  \n",
       "4   NEGATIVO  \n",
       "\n",
       "[5 rows x 47 columns]"
      ]
     },
     "execution_count": 3,
     "metadata": {},
     "output_type": "execute_result"
    }
   ],
   "source": [
    "df_cov.head()"
   ]
  },
  {
   "cell_type": "code",
   "execution_count": 4,
   "metadata": {},
   "outputs": [
    {
     "data": {
      "text/html": [
       "<div>\n",
       "<style scoped>\n",
       "    .dataframe tbody tr th:only-of-type {\n",
       "        vertical-align: middle;\n",
       "    }\n",
       "\n",
       "    .dataframe tbody tr th {\n",
       "        vertical-align: top;\n",
       "    }\n",
       "\n",
       "    .dataframe thead th {\n",
       "        text-align: right;\n",
       "    }\n",
       "</style>\n",
       "<table border=\"1\" class=\"dataframe\">\n",
       "  <thead>\n",
       "    <tr style=\"text-align: right;\">\n",
       "      <th></th>\n",
       "      <th>id</th>\n",
       "      <th>edad</th>\n",
       "      <th>fiebre</th>\n",
       "      <th>malestar</th>\n",
       "      <th>tos</th>\n",
       "      <th>garganta</th>\n",
       "      <th>congestion</th>\n",
       "      <th>respiratoria</th>\n",
       "      <th>diarrea</th>\n",
       "      <th>nauseas</th>\n",
       "      <th>...</th>\n",
       "      <th>postparto</th>\n",
       "      <th>cardiovascular</th>\n",
       "      <th>diabetes</th>\n",
       "      <th>hepatica</th>\n",
       "      <th>neurologica</th>\n",
       "      <th>inmunodeficiencia</th>\n",
       "      <th>renal</th>\n",
       "      <th>hepatico</th>\n",
       "      <th>pulmonar</th>\n",
       "      <th>cancer</th>\n",
       "    </tr>\n",
       "  </thead>\n",
       "  <tbody>\n",
       "    <tr>\n",
       "      <th>count</th>\n",
       "      <td>9.377400e+04</td>\n",
       "      <td>93774.000000</td>\n",
       "      <td>93774.000000</td>\n",
       "      <td>93774.000000</td>\n",
       "      <td>93774.000000</td>\n",
       "      <td>93774.000000</td>\n",
       "      <td>93774.000000</td>\n",
       "      <td>93774.000000</td>\n",
       "      <td>93774.000000</td>\n",
       "      <td>93774.000000</td>\n",
       "      <td>...</td>\n",
       "      <td>93774.000000</td>\n",
       "      <td>93774.000000</td>\n",
       "      <td>93774.000000</td>\n",
       "      <td>93774.000000</td>\n",
       "      <td>93774.000000</td>\n",
       "      <td>93774.000000</td>\n",
       "      <td>93774.000000</td>\n",
       "      <td>93774.000000</td>\n",
       "      <td>93774.000000</td>\n",
       "      <td>93774.000000</td>\n",
       "    </tr>\n",
       "    <tr>\n",
       "      <th>mean</th>\n",
       "      <td>1.272521e+06</td>\n",
       "      <td>40.055847</td>\n",
       "      <td>0.162966</td>\n",
       "      <td>0.192409</td>\n",
       "      <td>0.259134</td>\n",
       "      <td>0.254068</td>\n",
       "      <td>0.107578</td>\n",
       "      <td>0.080235</td>\n",
       "      <td>0.057244</td>\n",
       "      <td>0.038678</td>\n",
       "      <td>...</td>\n",
       "      <td>0.000821</td>\n",
       "      <td>0.015815</td>\n",
       "      <td>0.014791</td>\n",
       "      <td>0.001290</td>\n",
       "      <td>0.001024</td>\n",
       "      <td>0.000821</td>\n",
       "      <td>0.002986</td>\n",
       "      <td>0.000395</td>\n",
       "      <td>0.002698</td>\n",
       "      <td>0.003125</td>\n",
       "    </tr>\n",
       "    <tr>\n",
       "      <th>std</th>\n",
       "      <td>8.312877e+05</td>\n",
       "      <td>16.947560</td>\n",
       "      <td>0.369337</td>\n",
       "      <td>0.394195</td>\n",
       "      <td>0.438161</td>\n",
       "      <td>0.435339</td>\n",
       "      <td>0.309848</td>\n",
       "      <td>0.271659</td>\n",
       "      <td>0.232310</td>\n",
       "      <td>0.192828</td>\n",
       "      <td>...</td>\n",
       "      <td>0.028644</td>\n",
       "      <td>0.124758</td>\n",
       "      <td>0.120716</td>\n",
       "      <td>0.035898</td>\n",
       "      <td>0.031980</td>\n",
       "      <td>0.028644</td>\n",
       "      <td>0.054562</td>\n",
       "      <td>0.019860</td>\n",
       "      <td>0.051872</td>\n",
       "      <td>0.055810</td>\n",
       "    </tr>\n",
       "    <tr>\n",
       "      <th>min</th>\n",
       "      <td>1.000000e+00</td>\n",
       "      <td>0.000000</td>\n",
       "      <td>0.000000</td>\n",
       "      <td>0.000000</td>\n",
       "      <td>0.000000</td>\n",
       "      <td>0.000000</td>\n",
       "      <td>0.000000</td>\n",
       "      <td>0.000000</td>\n",
       "      <td>0.000000</td>\n",
       "      <td>0.000000</td>\n",
       "      <td>...</td>\n",
       "      <td>0.000000</td>\n",
       "      <td>0.000000</td>\n",
       "      <td>0.000000</td>\n",
       "      <td>0.000000</td>\n",
       "      <td>0.000000</td>\n",
       "      <td>0.000000</td>\n",
       "      <td>0.000000</td>\n",
       "      <td>0.000000</td>\n",
       "      <td>0.000000</td>\n",
       "      <td>0.000000</td>\n",
       "    </tr>\n",
       "    <tr>\n",
       "      <th>25%</th>\n",
       "      <td>5.310875e+05</td>\n",
       "      <td>28.000000</td>\n",
       "      <td>0.000000</td>\n",
       "      <td>0.000000</td>\n",
       "      <td>0.000000</td>\n",
       "      <td>0.000000</td>\n",
       "      <td>0.000000</td>\n",
       "      <td>0.000000</td>\n",
       "      <td>0.000000</td>\n",
       "      <td>0.000000</td>\n",
       "      <td>...</td>\n",
       "      <td>0.000000</td>\n",
       "      <td>0.000000</td>\n",
       "      <td>0.000000</td>\n",
       "      <td>0.000000</td>\n",
       "      <td>0.000000</td>\n",
       "      <td>0.000000</td>\n",
       "      <td>0.000000</td>\n",
       "      <td>0.000000</td>\n",
       "      <td>0.000000</td>\n",
       "      <td>0.000000</td>\n",
       "    </tr>\n",
       "    <tr>\n",
       "      <th>50%</th>\n",
       "      <td>1.142626e+06</td>\n",
       "      <td>38.000000</td>\n",
       "      <td>0.000000</td>\n",
       "      <td>0.000000</td>\n",
       "      <td>0.000000</td>\n",
       "      <td>0.000000</td>\n",
       "      <td>0.000000</td>\n",
       "      <td>0.000000</td>\n",
       "      <td>0.000000</td>\n",
       "      <td>0.000000</td>\n",
       "      <td>...</td>\n",
       "      <td>0.000000</td>\n",
       "      <td>0.000000</td>\n",
       "      <td>0.000000</td>\n",
       "      <td>0.000000</td>\n",
       "      <td>0.000000</td>\n",
       "      <td>0.000000</td>\n",
       "      <td>0.000000</td>\n",
       "      <td>0.000000</td>\n",
       "      <td>0.000000</td>\n",
       "      <td>0.000000</td>\n",
       "    </tr>\n",
       "    <tr>\n",
       "      <th>75%</th>\n",
       "      <td>2.058179e+06</td>\n",
       "      <td>51.000000</td>\n",
       "      <td>0.000000</td>\n",
       "      <td>0.000000</td>\n",
       "      <td>1.000000</td>\n",
       "      <td>1.000000</td>\n",
       "      <td>0.000000</td>\n",
       "      <td>0.000000</td>\n",
       "      <td>0.000000</td>\n",
       "      <td>0.000000</td>\n",
       "      <td>...</td>\n",
       "      <td>0.000000</td>\n",
       "      <td>0.000000</td>\n",
       "      <td>0.000000</td>\n",
       "      <td>0.000000</td>\n",
       "      <td>0.000000</td>\n",
       "      <td>0.000000</td>\n",
       "      <td>0.000000</td>\n",
       "      <td>0.000000</td>\n",
       "      <td>0.000000</td>\n",
       "      <td>0.000000</td>\n",
       "    </tr>\n",
       "    <tr>\n",
       "      <th>max</th>\n",
       "      <td>2.775205e+06</td>\n",
       "      <td>104.000000</td>\n",
       "      <td>1.000000</td>\n",
       "      <td>1.000000</td>\n",
       "      <td>1.000000</td>\n",
       "      <td>1.000000</td>\n",
       "      <td>1.000000</td>\n",
       "      <td>1.000000</td>\n",
       "      <td>1.000000</td>\n",
       "      <td>1.000000</td>\n",
       "      <td>...</td>\n",
       "      <td>1.000000</td>\n",
       "      <td>1.000000</td>\n",
       "      <td>1.000000</td>\n",
       "      <td>1.000000</td>\n",
       "      <td>1.000000</td>\n",
       "      <td>1.000000</td>\n",
       "      <td>1.000000</td>\n",
       "      <td>1.000000</td>\n",
       "      <td>1.000000</td>\n",
       "      <td>1.000000</td>\n",
       "    </tr>\n",
       "  </tbody>\n",
       "</table>\n",
       "<p>8 rows × 36 columns</p>\n",
       "</div>"
      ],
      "text/plain": [
       "                 id          edad        fiebre      malestar           tos  \\\n",
       "count  9.377400e+04  93774.000000  93774.000000  93774.000000  93774.000000   \n",
       "mean   1.272521e+06     40.055847      0.162966      0.192409      0.259134   \n",
       "std    8.312877e+05     16.947560      0.369337      0.394195      0.438161   \n",
       "min    1.000000e+00      0.000000      0.000000      0.000000      0.000000   \n",
       "25%    5.310875e+05     28.000000      0.000000      0.000000      0.000000   \n",
       "50%    1.142626e+06     38.000000      0.000000      0.000000      0.000000   \n",
       "75%    2.058179e+06     51.000000      0.000000      0.000000      1.000000   \n",
       "max    2.775205e+06    104.000000      1.000000      1.000000      1.000000   \n",
       "\n",
       "           garganta    congestion  respiratoria       diarrea       nauseas  \\\n",
       "count  93774.000000  93774.000000  93774.000000  93774.000000  93774.000000   \n",
       "mean       0.254068      0.107578      0.080235      0.057244      0.038678   \n",
       "std        0.435339      0.309848      0.271659      0.232310      0.192828   \n",
       "min        0.000000      0.000000      0.000000      0.000000      0.000000   \n",
       "25%        0.000000      0.000000      0.000000      0.000000      0.000000   \n",
       "50%        0.000000      0.000000      0.000000      0.000000      0.000000   \n",
       "75%        1.000000      0.000000      0.000000      0.000000      0.000000   \n",
       "max        1.000000      1.000000      1.000000      1.000000      1.000000   \n",
       "\n",
       "       ...     postparto  cardiovascular      diabetes      hepatica  \\\n",
       "count  ...  93774.000000    93774.000000  93774.000000  93774.000000   \n",
       "mean   ...      0.000821        0.015815      0.014791      0.001290   \n",
       "std    ...      0.028644        0.124758      0.120716      0.035898   \n",
       "min    ...      0.000000        0.000000      0.000000      0.000000   \n",
       "25%    ...      0.000000        0.000000      0.000000      0.000000   \n",
       "50%    ...      0.000000        0.000000      0.000000      0.000000   \n",
       "75%    ...      0.000000        0.000000      0.000000      0.000000   \n",
       "max    ...      1.000000        1.000000      1.000000      1.000000   \n",
       "\n",
       "        neurologica  inmunodeficiencia         renal      hepatico  \\\n",
       "count  93774.000000       93774.000000  93774.000000  93774.000000   \n",
       "mean       0.001024           0.000821      0.002986      0.000395   \n",
       "std        0.031980           0.028644      0.054562      0.019860   \n",
       "min        0.000000           0.000000      0.000000      0.000000   \n",
       "25%        0.000000           0.000000      0.000000      0.000000   \n",
       "50%        0.000000           0.000000      0.000000      0.000000   \n",
       "75%        0.000000           0.000000      0.000000      0.000000   \n",
       "max        1.000000           1.000000      1.000000      1.000000   \n",
       "\n",
       "           pulmonar        cancer  \n",
       "count  93774.000000  93774.000000  \n",
       "mean       0.002698      0.003125  \n",
       "std        0.051872      0.055810  \n",
       "min        0.000000      0.000000  \n",
       "25%        0.000000      0.000000  \n",
       "50%        0.000000      0.000000  \n",
       "75%        0.000000      0.000000  \n",
       "max        1.000000      1.000000  \n",
       "\n",
       "[8 rows x 36 columns]"
      ]
     },
     "execution_count": 4,
     "metadata": {},
     "output_type": "execute_result"
    }
   ],
   "source": [
    "df_cov.describe()"
   ]
  },
  {
   "cell_type": "code",
   "execution_count": 5,
   "metadata": {},
   "outputs": [
    {
     "name": "stdout",
     "output_type": "stream",
     "text": [
      "<class 'pandas.core.frame.DataFrame'>\n",
      "RangeIndex: 93774 entries, 0 to 93773\n",
      "Data columns (total 47 columns):\n",
      " #   Column              Non-Null Count  Dtype \n",
      "---  ------              --------------  ----- \n",
      " 0   id                  93774 non-null  int64 \n",
      " 1   edad                93774 non-null  int64 \n",
      " 2   sexo                93774 non-null  object\n",
      " 3   fecha_ini           93774 non-null  object\n",
      " 4   hospitalizado       93774 non-null  object\n",
      " 5   evolucion           10054 non-null  object\n",
      " 6   fiebre              93774 non-null  int64 \n",
      " 7   malestar            93774 non-null  int64 \n",
      " 8   tos                 93774 non-null  int64 \n",
      " 9   garganta            93774 non-null  int64 \n",
      " 10  congestion          93774 non-null  int64 \n",
      " 11  respiratoria        93774 non-null  int64 \n",
      " 12  diarrea             93774 non-null  int64 \n",
      " 13  nauseas             93774 non-null  int64 \n",
      " 14  cefalea             93774 non-null  int64 \n",
      " 15  irritabilidad       93774 non-null  int64 \n",
      " 16  muscular            93774 non-null  int64 \n",
      " 17  abdominal           93774 non-null  int64 \n",
      " 18  pecho               93774 non-null  int64 \n",
      " 19  articulaciones      93774 non-null  int64 \n",
      " 20  otros_sintomas      4654 non-null   object\n",
      " 21  temperatura         93774 non-null  int64 \n",
      " 22  exudado             93774 non-null  int64 \n",
      " 23  conjuntival         93774 non-null  int64 \n",
      " 24  convulsion          93774 non-null  int64 \n",
      " 25  coma                93774 non-null  int64 \n",
      " 26  disnea              93774 non-null  int64 \n",
      " 27  auscultacion        93774 non-null  int64 \n",
      " 28  rxpulmonar          93774 non-null  int64 \n",
      " 29  otros_signos        5652 non-null   object\n",
      " 30  embarazo            93774 non-null  int64 \n",
      " 31  trimestre           93774 non-null  int64 \n",
      " 32  postparto           93774 non-null  int64 \n",
      " 33  cardiovascular      93774 non-null  int64 \n",
      " 34  diabetes            93774 non-null  int64 \n",
      " 35  hepatica            93774 non-null  int64 \n",
      " 36  neurologica         93774 non-null  int64 \n",
      " 37  inmunodeficiencia   93774 non-null  int64 \n",
      " 38  renal               93774 non-null  int64 \n",
      " 39  hepatico            93774 non-null  int64 \n",
      " 40  pulmonar            93774 non-null  int64 \n",
      " 41  cancer              93774 non-null  int64 \n",
      " 42  otros_comorbilidad  11061 non-null  object\n",
      " 43  fecha_mue           93774 non-null  object\n",
      " 44  muestra             6629 non-null   object\n",
      " 45  prueba              6129 non-null   object\n",
      " 46  resultado           5075 non-null   object\n",
      "dtypes: int64(36), object(11)\n",
      "memory usage: 33.6+ MB\n"
     ]
    }
   ],
   "source": [
    "df_cov.info()"
   ]
  },
  {
   "cell_type": "code",
   "execution_count": 6,
   "metadata": {},
   "outputs": [
    {
     "data": {
      "text/plain": [
       "Index(['id', 'edad', 'sexo', 'fecha_ini', 'hospitalizado', 'evolucion',\n",
       "       'fiebre', 'malestar', 'tos', 'garganta', 'congestion', 'respiratoria',\n",
       "       'diarrea', 'nauseas', 'cefalea', 'irritabilidad', 'muscular',\n",
       "       'abdominal', 'pecho', 'articulaciones', 'otros_sintomas', 'temperatura',\n",
       "       'exudado', 'conjuntival', 'convulsion', 'coma', 'disnea',\n",
       "       'auscultacion', 'rxpulmonar', 'otros_signos', 'embarazo', 'trimestre',\n",
       "       'postparto', 'cardiovascular', 'diabetes', 'hepatica', 'neurologica',\n",
       "       'inmunodeficiencia', 'renal', 'hepatico', 'pulmonar', 'cancer',\n",
       "       'otros_comorbilidad', 'fecha_mue', 'muestra', 'prueba', 'resultado'],\n",
       "      dtype='object')"
      ]
     },
     "execution_count": 6,
     "metadata": {},
     "output_type": "execute_result"
    }
   ],
   "source": [
    "df_cov.columns"
   ]
  },
  {
   "cell_type": "markdown",
   "metadata": {},
   "source": [
    "# Análisis exploratorio de datos\n",
    "\n",
    "Hacemos un análisis de datos exploratorio, ¡Comenzaremos por verificar los datos que faltan!\n",
    "\n",
    "## Datos perdidos\n",
    "\n",
    "¡Podemos usar Seaborn para crear un mapa de calor simple para ver dónde nos faltan datos!"
   ]
  },
  {
   "cell_type": "code",
   "execution_count": 7,
   "metadata": {},
   "outputs": [
    {
     "data": {
      "text/plain": [
       "<AxesSubplot:>"
      ]
     },
     "execution_count": 7,
     "metadata": {},
     "output_type": "execute_result"
    },
    {
     "data": {
      "image/png": "[encoded data removed]",
      "text/plain": [
       "<Figure size 432x288 with 1 Axes>"
      ]
     },
     "metadata": {
      "needs_background": "light"
     },
     "output_type": "display_data"
    }
   ],
   "source": [
    "sns.heatmap(df_cov.isnull(),yticklabels=False,cbar=False,cmap='viridis')"
   ]
  },
  {
   "cell_type": "markdown",
   "metadata": {},
   "source": [
    "Usamos un countplot para ver como está la proporción de los resultados negativos con los positivos"
   ]
  },
  {
   "cell_type": "code",
   "execution_count": 8,
   "metadata": {},
   "outputs": [
    {
     "data": {
      "text/plain": [
       "<AxesSubplot:xlabel='resultado', ylabel='count'>"
      ]
     },
     "execution_count": 8,
     "metadata": {},
     "output_type": "execute_result"
    },
    {
     "data": {
      "image/png": "[encoded data removed]",
      "text/plain": [
       "<Figure size 432x288 with 1 Axes>"
      ]
     },
     "metadata": {
      "needs_background": "light"
     },
     "output_type": "display_data"
    }
   ],
   "source": [
    "sns.countplot(x='resultado',data=df_cov,palette='RdBu_r')"
   ]
  },
  {
   "cell_type": "markdown",
   "metadata": {},
   "source": [
    "También podemos agrupar los resultados tomando en cuenta el sexo del paciente"
   ]
  },
  {
   "cell_type": "code",
   "execution_count": 9,
   "metadata": {
    "scrolled": true
   },
   "outputs": [
    {
     "data": {
      "text/plain": [
       "<AxesSubplot:xlabel='resultado', ylabel='count'>"
      ]
     },
     "execution_count": 9,
     "metadata": {},
     "output_type": "execute_result"
    },
    {
     "data": {
      "image/png": "[encoded data removed]",
      "text/plain": [
       "<Figure size 432x288 with 1 Axes>"
      ]
     },
     "metadata": {},
     "output_type": "display_data"
    }
   ],
   "source": [
    "sns.set_style('whitegrid')\n",
    "sns.countplot(x='resultado',hue='sexo',data=df_cov,palette='rainbow')"
   ]
  },
  {
   "cell_type": "markdown",
   "metadata": {},
   "source": [
    "Con un histograma podemos ver como fluctuan las edades de los pacientes"
   ]
  },
  {
   "cell_type": "code",
   "execution_count": 10,
   "metadata": {},
   "outputs": [
    {
     "data": {
      "text/plain": [
       "Text(0.5, 0, 'edad')"
      ]
     },
     "execution_count": 10,
     "metadata": {},
     "output_type": "execute_result"
    },
    {
     "data": {
      "image/png": "[encoded data removed]",
      "text/plain": [
       "<Figure size 432x288 with 1 Axes>"
      ]
     },
     "metadata": {},
     "output_type": "display_data"
    }
   ],
   "source": [
    "sns.set_style('whitegrid')\n",
    "df_cov['edad'].hist(bins=30,color='darkblue',alpha=0.8)\n",
    "plt.xlabel('edad')"
   ]
  },
  {
   "cell_type": "markdown",
   "metadata": {},
   "source": [
    "También podemos ver las edades que tuvieron más positivos"
   ]
  },
  {
   "cell_type": "code",
   "execution_count": 11,
   "metadata": {},
   "outputs": [
    {
     "data": {
      "text/plain": [
       "Text(0.5, 0, 'edad')"
      ]
     },
     "execution_count": 11,
     "metadata": {},
     "output_type": "execute_result"
    },
    {
     "data": {
      "image/png": "[encoded data removed]",
      "text/plain": [
       "<Figure size 432x288 with 1 Axes>"
      ]
     },
     "metadata": {},
     "output_type": "display_data"
    }
   ],
   "source": [
    "sns.set_style('whitegrid')\n",
    "df_cov[df_cov['resultado']=='POSITIVO']['edad'].hist(bins=30,color='darkred',alpha=0.8)\n",
    "plt.xlabel('edad')"
   ]
  },
  {
   "cell_type": "markdown",
   "metadata": {},
   "source": [
    "## LIMPIEZA DE DATOS\n",
    "Primero visualizamos todas las columnas y observamos que existen algunas que cuentan con datos nulos, por eso serán eliminadas."
   ]
  },
  {
   "cell_type": "code",
   "execution_count": 12,
   "metadata": {},
   "outputs": [
    {
     "name": "stdout",
     "output_type": "stream",
     "text": [
      "<class 'pandas.core.frame.DataFrame'>\n",
      "RangeIndex: 93774 entries, 0 to 93773\n",
      "Data columns (total 47 columns):\n",
      " #   Column              Non-Null Count  Dtype \n",
      "---  ------              --------------  ----- \n",
      " 0   id                  93774 non-null  int64 \n",
      " 1   edad                93774 non-null  int64 \n",
      " 2   sexo                93774 non-null  object\n",
      " 3   fecha_ini           93774 non-null  object\n",
      " 4   hospitalizado       93774 non-null  object\n",
      " 5   evolucion           10054 non-null  object\n",
      " 6   fiebre              93774 non-null  int64 \n",
      " 7   malestar            93774 non-null  int64 \n",
      " 8   tos                 93774 non-null  int64 \n",
      " 9   garganta            93774 non-null  int64 \n",
      " 10  congestion          93774 non-null  int64 \n",
      " 11  respiratoria        93774 non-null  int64 \n",
      " 12  diarrea             93774 non-null  int64 \n",
      " 13  nauseas             93774 non-null  int64 \n",
      " 14  cefalea             93774 non-null  int64 \n",
      " 15  irritabilidad       93774 non-null  int64 \n",
      " 16  muscular            93774 non-null  int64 \n",
      " 17  abdominal           93774 non-null  int64 \n",
      " 18  pecho               93774 non-null  int64 \n",
      " 19  articulaciones      93774 non-null  int64 \n",
      " 20  otros_sintomas      4654 non-null   object\n",
      " 21  temperatura         93774 non-null  int64 \n",
      " 22  exudado             93774 non-null  int64 \n",
      " 23  conjuntival         93774 non-null  int64 \n",
      " 24  convulsion          93774 non-null  int64 \n",
      " 25  coma                93774 non-null  int64 \n",
      " 26  disnea              93774 non-null  int64 \n",
      " 27  auscultacion        93774 non-null  int64 \n",
      " 28  rxpulmonar          93774 non-null  int64 \n",
      " 29  otros_signos        5652 non-null   object\n",
      " 30  embarazo            93774 non-null  int64 \n",
      " 31  trimestre           93774 non-null  int64 \n",
      " 32  postparto           93774 non-null  int64 \n",
      " 33  cardiovascular      93774 non-null  int64 \n",
      " 34  diabetes            93774 non-null  int64 \n",
      " 35  hepatica            93774 non-null  int64 \n",
      " 36  neurologica         93774 non-null  int64 \n",
      " 37  inmunodeficiencia   93774 non-null  int64 \n",
      " 38  renal               93774 non-null  int64 \n",
      " 39  hepatico            93774 non-null  int64 \n",
      " 40  pulmonar            93774 non-null  int64 \n",
      " 41  cancer              93774 non-null  int64 \n",
      " 42  otros_comorbilidad  11061 non-null  object\n",
      " 43  fecha_mue           93774 non-null  object\n",
      " 44  muestra             6629 non-null   object\n",
      " 45  prueba              6129 non-null   object\n",
      " 46  resultado           5075 non-null   object\n",
      "dtypes: int64(36), object(11)\n",
      "memory usage: 33.6+ MB\n"
     ]
    }
   ],
   "source": [
    "df_cov.info()"
   ]
  },
  {
   "cell_type": "markdown",
   "metadata": {},
   "source": [
    "**Se eliminaran las columnas de id, fecha_ini, hospitalizado, evolucion, otros_sintomas, otros_signos, otros_comorbilidad, fecha_mue, muestra y prueba**"
   ]
  },
  {
   "cell_type": "code",
   "execution_count": 13,
   "metadata": {},
   "outputs": [],
   "source": [
    "df_cov.drop(['id','fecha_ini','hospitalizado','evolucion','otros_sintomas',\n",
    "             'otros_signos','otros_comorbilidad','fecha_mue','muestra','prueba',], axis = 'columns', inplace=True)"
   ]
  },
  {
   "cell_type": "code",
   "execution_count": 14,
   "metadata": {},
   "outputs": [
    {
     "name": "stdout",
     "output_type": "stream",
     "text": [
      "<class 'pandas.core.frame.DataFrame'>\n",
      "RangeIndex: 93774 entries, 0 to 93773\n",
      "Data columns (total 37 columns):\n",
      " #   Column             Non-Null Count  Dtype \n",
      "---  ------             --------------  ----- \n",
      " 0   edad               93774 non-null  int64 \n",
      " 1   sexo               93774 non-null  object\n",
      " 2   fiebre             93774 non-null  int64 \n",
      " 3   malestar           93774 non-null  int64 \n",
      " 4   tos                93774 non-null  int64 \n",
      " 5   garganta           93774 non-null  int64 \n",
      " 6   congestion         93774 non-null  int64 \n",
      " 7   respiratoria       93774 non-null  int64 \n",
      " 8   diarrea            93774 non-null  int64 \n",
      " 9   nauseas            93774 non-null  int64 \n",
      " 10  cefalea            93774 non-null  int64 \n",
      " 11  irritabilidad      93774 non-null  int64 \n",
      " 12  muscular           93774 non-null  int64 \n",
      " 13  abdominal          93774 non-null  int64 \n",
      " 14  pecho              93774 non-null  int64 \n",
      " 15  articulaciones     93774 non-null  int64 \n",
      " 16  temperatura        93774 non-null  int64 \n",
      " 17  exudado            93774 non-null  int64 \n",
      " 18  conjuntival        93774 non-null  int64 \n",
      " 19  convulsion         93774 non-null  int64 \n",
      " 20  coma               93774 non-null  int64 \n",
      " 21  disnea             93774 non-null  int64 \n",
      " 22  auscultacion       93774 non-null  int64 \n",
      " 23  rxpulmonar         93774 non-null  int64 \n",
      " 24  embarazo           93774 non-null  int64 \n",
      " 25  trimestre          93774 non-null  int64 \n",
      " 26  postparto          93774 non-null  int64 \n",
      " 27  cardiovascular     93774 non-null  int64 \n",
      " 28  diabetes           93774 non-null  int64 \n",
      " 29  hepatica           93774 non-null  int64 \n",
      " 30  neurologica        93774 non-null  int64 \n",
      " 31  inmunodeficiencia  93774 non-null  int64 \n",
      " 32  renal              93774 non-null  int64 \n",
      " 33  hepatico           93774 non-null  int64 \n",
      " 34  pulmonar           93774 non-null  int64 \n",
      " 35  cancer             93774 non-null  int64 \n",
      " 36  resultado          5075 non-null   object\n",
      "dtypes: int64(35), object(2)\n",
      "memory usage: 26.5+ MB\n"
     ]
    }
   ],
   "source": [
    "df_cov.info()"
   ]
  },
  {
   "cell_type": "code",
   "execution_count": 15,
   "metadata": {},
   "outputs": [
    {
     "data": {
      "text/html": [
       "<div>\n",
       "<style scoped>\n",
       "    .dataframe tbody tr th:only-of-type {\n",
       "        vertical-align: middle;\n",
       "    }\n",
       "\n",
       "    .dataframe tbody tr th {\n",
       "        vertical-align: top;\n",
       "    }\n",
       "\n",
       "    .dataframe thead th {\n",
       "        text-align: right;\n",
       "    }\n",
       "</style>\n",
       "<table border=\"1\" class=\"dataframe\">\n",
       "  <thead>\n",
       "    <tr style=\"text-align: right;\">\n",
       "      <th></th>\n",
       "      <th>edad</th>\n",
       "      <th>sexo</th>\n",
       "      <th>fiebre</th>\n",
       "      <th>malestar</th>\n",
       "      <th>tos</th>\n",
       "      <th>garganta</th>\n",
       "      <th>congestion</th>\n",
       "      <th>respiratoria</th>\n",
       "      <th>diarrea</th>\n",
       "      <th>nauseas</th>\n",
       "      <th>...</th>\n",
       "      <th>cardiovascular</th>\n",
       "      <th>diabetes</th>\n",
       "      <th>hepatica</th>\n",
       "      <th>neurologica</th>\n",
       "      <th>inmunodeficiencia</th>\n",
       "      <th>renal</th>\n",
       "      <th>hepatico</th>\n",
       "      <th>pulmonar</th>\n",
       "      <th>cancer</th>\n",
       "      <th>resultado</th>\n",
       "    </tr>\n",
       "  </thead>\n",
       "  <tbody>\n",
       "    <tr>\n",
       "      <th>0</th>\n",
       "      <td>40</td>\n",
       "      <td>MASCULINO</td>\n",
       "      <td>0</td>\n",
       "      <td>1</td>\n",
       "      <td>1</td>\n",
       "      <td>1</td>\n",
       "      <td>1</td>\n",
       "      <td>1</td>\n",
       "      <td>0</td>\n",
       "      <td>0</td>\n",
       "      <td>...</td>\n",
       "      <td>0</td>\n",
       "      <td>0</td>\n",
       "      <td>0</td>\n",
       "      <td>0</td>\n",
       "      <td>0</td>\n",
       "      <td>0</td>\n",
       "      <td>0</td>\n",
       "      <td>0</td>\n",
       "      <td>0</td>\n",
       "      <td>NaN</td>\n",
       "    </tr>\n",
       "    <tr>\n",
       "      <th>1</th>\n",
       "      <td>18</td>\n",
       "      <td>FEMENINO</td>\n",
       "      <td>1</td>\n",
       "      <td>1</td>\n",
       "      <td>1</td>\n",
       "      <td>0</td>\n",
       "      <td>0</td>\n",
       "      <td>0</td>\n",
       "      <td>0</td>\n",
       "      <td>0</td>\n",
       "      <td>...</td>\n",
       "      <td>0</td>\n",
       "      <td>0</td>\n",
       "      <td>0</td>\n",
       "      <td>0</td>\n",
       "      <td>0</td>\n",
       "      <td>0</td>\n",
       "      <td>0</td>\n",
       "      <td>0</td>\n",
       "      <td>0</td>\n",
       "      <td>NaN</td>\n",
       "    </tr>\n",
       "    <tr>\n",
       "      <th>2</th>\n",
       "      <td>45</td>\n",
       "      <td>MASCULINO</td>\n",
       "      <td>0</td>\n",
       "      <td>1</td>\n",
       "      <td>0</td>\n",
       "      <td>0</td>\n",
       "      <td>1</td>\n",
       "      <td>0</td>\n",
       "      <td>0</td>\n",
       "      <td>0</td>\n",
       "      <td>...</td>\n",
       "      <td>0</td>\n",
       "      <td>0</td>\n",
       "      <td>0</td>\n",
       "      <td>0</td>\n",
       "      <td>0</td>\n",
       "      <td>0</td>\n",
       "      <td>0</td>\n",
       "      <td>0</td>\n",
       "      <td>0</td>\n",
       "      <td>NEGATIVO</td>\n",
       "    </tr>\n",
       "    <tr>\n",
       "      <th>3</th>\n",
       "      <td>69</td>\n",
       "      <td>MASCULINO</td>\n",
       "      <td>1</td>\n",
       "      <td>1</td>\n",
       "      <td>1</td>\n",
       "      <td>0</td>\n",
       "      <td>1</td>\n",
       "      <td>1</td>\n",
       "      <td>0</td>\n",
       "      <td>0</td>\n",
       "      <td>...</td>\n",
       "      <td>0</td>\n",
       "      <td>0</td>\n",
       "      <td>0</td>\n",
       "      <td>0</td>\n",
       "      <td>0</td>\n",
       "      <td>0</td>\n",
       "      <td>0</td>\n",
       "      <td>0</td>\n",
       "      <td>0</td>\n",
       "      <td>NaN</td>\n",
       "    </tr>\n",
       "    <tr>\n",
       "      <th>4</th>\n",
       "      <td>67</td>\n",
       "      <td>FEMENINO</td>\n",
       "      <td>1</td>\n",
       "      <td>1</td>\n",
       "      <td>1</td>\n",
       "      <td>0</td>\n",
       "      <td>0</td>\n",
       "      <td>0</td>\n",
       "      <td>0</td>\n",
       "      <td>0</td>\n",
       "      <td>...</td>\n",
       "      <td>1</td>\n",
       "      <td>1</td>\n",
       "      <td>0</td>\n",
       "      <td>0</td>\n",
       "      <td>0</td>\n",
       "      <td>0</td>\n",
       "      <td>0</td>\n",
       "      <td>0</td>\n",
       "      <td>0</td>\n",
       "      <td>NEGATIVO</td>\n",
       "    </tr>\n",
       "  </tbody>\n",
       "</table>\n",
       "<p>5 rows × 37 columns</p>\n",
       "</div>"
      ],
      "text/plain": [
       "   edad       sexo  fiebre  malestar  tos  garganta  congestion  respiratoria  \\\n",
       "0    40  MASCULINO       0         1    1         1           1             1   \n",
       "1    18   FEMENINO       1         1    1         0           0             0   \n",
       "2    45  MASCULINO       0         1    0         0           1             0   \n",
       "3    69  MASCULINO       1         1    1         0           1             1   \n",
       "4    67   FEMENINO       1         1    1         0           0             0   \n",
       "\n",
       "   diarrea  nauseas  ...  cardiovascular  diabetes  hepatica  neurologica  \\\n",
       "0        0        0  ...               0         0         0            0   \n",
       "1        0        0  ...               0         0         0            0   \n",
       "2        0        0  ...               0         0         0            0   \n",
       "3        0        0  ...               0         0         0            0   \n",
       "4        0        0  ...               1         1         0            0   \n",
       "\n",
       "   inmunodeficiencia  renal  hepatico  pulmonar  cancer  resultado  \n",
       "0                  0      0         0         0       0        NaN  \n",
       "1                  0      0         0         0       0        NaN  \n",
       "2                  0      0         0         0       0   NEGATIVO  \n",
       "3                  0      0         0         0       0        NaN  \n",
       "4                  0      0         0         0       0   NEGATIVO  \n",
       "\n",
       "[5 rows x 37 columns]"
      ]
     },
     "execution_count": 15,
     "metadata": {},
     "output_type": "execute_result"
    }
   ],
   "source": [
    "df_cov.head()"
   ]
  },
  {
   "cell_type": "code",
   "execution_count": 16,
   "metadata": {},
   "outputs": [],
   "source": [
    "df_cov.dropna(inplace=True)"
   ]
  },
  {
   "cell_type": "code",
   "execution_count": 17,
   "metadata": {},
   "outputs": [
    {
     "data": {
      "text/html": [
       "<div>\n",
       "<style scoped>\n",
       "    .dataframe tbody tr th:only-of-type {\n",
       "        vertical-align: middle;\n",
       "    }\n",
       "\n",
       "    .dataframe tbody tr th {\n",
       "        vertical-align: top;\n",
       "    }\n",
       "\n",
       "    .dataframe thead th {\n",
       "        text-align: right;\n",
       "    }\n",
       "</style>\n",
       "<table border=\"1\" class=\"dataframe\">\n",
       "  <thead>\n",
       "    <tr style=\"text-align: right;\">\n",
       "      <th></th>\n",
       "      <th>edad</th>\n",
       "      <th>sexo</th>\n",
       "      <th>fiebre</th>\n",
       "      <th>malestar</th>\n",
       "      <th>tos</th>\n",
       "      <th>garganta</th>\n",
       "      <th>congestion</th>\n",
       "      <th>respiratoria</th>\n",
       "      <th>diarrea</th>\n",
       "      <th>nauseas</th>\n",
       "      <th>...</th>\n",
       "      <th>cardiovascular</th>\n",
       "      <th>diabetes</th>\n",
       "      <th>hepatica</th>\n",
       "      <th>neurologica</th>\n",
       "      <th>inmunodeficiencia</th>\n",
       "      <th>renal</th>\n",
       "      <th>hepatico</th>\n",
       "      <th>pulmonar</th>\n",
       "      <th>cancer</th>\n",
       "      <th>resultado</th>\n",
       "    </tr>\n",
       "  </thead>\n",
       "  <tbody>\n",
       "    <tr>\n",
       "      <th>2</th>\n",
       "      <td>45</td>\n",
       "      <td>MASCULINO</td>\n",
       "      <td>0</td>\n",
       "      <td>1</td>\n",
       "      <td>0</td>\n",
       "      <td>0</td>\n",
       "      <td>1</td>\n",
       "      <td>0</td>\n",
       "      <td>0</td>\n",
       "      <td>0</td>\n",
       "      <td>...</td>\n",
       "      <td>0</td>\n",
       "      <td>0</td>\n",
       "      <td>0</td>\n",
       "      <td>0</td>\n",
       "      <td>0</td>\n",
       "      <td>0</td>\n",
       "      <td>0</td>\n",
       "      <td>0</td>\n",
       "      <td>0</td>\n",
       "      <td>NEGATIVO</td>\n",
       "    </tr>\n",
       "    <tr>\n",
       "      <th>4</th>\n",
       "      <td>67</td>\n",
       "      <td>FEMENINO</td>\n",
       "      <td>1</td>\n",
       "      <td>1</td>\n",
       "      <td>1</td>\n",
       "      <td>0</td>\n",
       "      <td>0</td>\n",
       "      <td>0</td>\n",
       "      <td>0</td>\n",
       "      <td>0</td>\n",
       "      <td>...</td>\n",
       "      <td>1</td>\n",
       "      <td>1</td>\n",
       "      <td>0</td>\n",
       "      <td>0</td>\n",
       "      <td>0</td>\n",
       "      <td>0</td>\n",
       "      <td>0</td>\n",
       "      <td>0</td>\n",
       "      <td>0</td>\n",
       "      <td>NEGATIVO</td>\n",
       "    </tr>\n",
       "    <tr>\n",
       "      <th>6</th>\n",
       "      <td>61</td>\n",
       "      <td>MASCULINO</td>\n",
       "      <td>0</td>\n",
       "      <td>0</td>\n",
       "      <td>1</td>\n",
       "      <td>0</td>\n",
       "      <td>1</td>\n",
       "      <td>0</td>\n",
       "      <td>1</td>\n",
       "      <td>0</td>\n",
       "      <td>...</td>\n",
       "      <td>0</td>\n",
       "      <td>0</td>\n",
       "      <td>0</td>\n",
       "      <td>0</td>\n",
       "      <td>0</td>\n",
       "      <td>0</td>\n",
       "      <td>0</td>\n",
       "      <td>0</td>\n",
       "      <td>0</td>\n",
       "      <td>POSITIVO</td>\n",
       "    </tr>\n",
       "    <tr>\n",
       "      <th>8</th>\n",
       "      <td>13</td>\n",
       "      <td>MASCULINO</td>\n",
       "      <td>0</td>\n",
       "      <td>1</td>\n",
       "      <td>1</td>\n",
       "      <td>1</td>\n",
       "      <td>1</td>\n",
       "      <td>0</td>\n",
       "      <td>0</td>\n",
       "      <td>0</td>\n",
       "      <td>...</td>\n",
       "      <td>0</td>\n",
       "      <td>0</td>\n",
       "      <td>0</td>\n",
       "      <td>0</td>\n",
       "      <td>0</td>\n",
       "      <td>0</td>\n",
       "      <td>0</td>\n",
       "      <td>0</td>\n",
       "      <td>0</td>\n",
       "      <td>NEGATIVO</td>\n",
       "    </tr>\n",
       "    <tr>\n",
       "      <th>9</th>\n",
       "      <td>78</td>\n",
       "      <td>MASCULINO</td>\n",
       "      <td>0</td>\n",
       "      <td>0</td>\n",
       "      <td>1</td>\n",
       "      <td>1</td>\n",
       "      <td>1</td>\n",
       "      <td>0</td>\n",
       "      <td>0</td>\n",
       "      <td>0</td>\n",
       "      <td>...</td>\n",
       "      <td>0</td>\n",
       "      <td>0</td>\n",
       "      <td>0</td>\n",
       "      <td>0</td>\n",
       "      <td>0</td>\n",
       "      <td>0</td>\n",
       "      <td>0</td>\n",
       "      <td>0</td>\n",
       "      <td>0</td>\n",
       "      <td>NEGATIVO</td>\n",
       "    </tr>\n",
       "  </tbody>\n",
       "</table>\n",
       "<p>5 rows × 37 columns</p>\n",
       "</div>"
      ],
      "text/plain": [
       "   edad       sexo  fiebre  malestar  tos  garganta  congestion  respiratoria  \\\n",
       "2    45  MASCULINO       0         1    0         0           1             0   \n",
       "4    67   FEMENINO       1         1    1         0           0             0   \n",
       "6    61  MASCULINO       0         0    1         0           1             0   \n",
       "8    13  MASCULINO       0         1    1         1           1             0   \n",
       "9    78  MASCULINO       0         0    1         1           1             0   \n",
       "\n",
       "   diarrea  nauseas  ...  cardiovascular  diabetes  hepatica  neurologica  \\\n",
       "2        0        0  ...               0         0         0            0   \n",
       "4        0        0  ...               1         1         0            0   \n",
       "6        1        0  ...               0         0         0            0   \n",
       "8        0        0  ...               0         0         0            0   \n",
       "9        0        0  ...               0         0         0            0   \n",
       "\n",
       "   inmunodeficiencia  renal  hepatico  pulmonar  cancer  resultado  \n",
       "2                  0      0         0         0       0   NEGATIVO  \n",
       "4                  0      0         0         0       0   NEGATIVO  \n",
       "6                  0      0         0         0       0   POSITIVO  \n",
       "8                  0      0         0         0       0   NEGATIVO  \n",
       "9                  0      0         0         0       0   NEGATIVO  \n",
       "\n",
       "[5 rows x 37 columns]"
      ]
     },
     "execution_count": 17,
     "metadata": {},
     "output_type": "execute_result"
    }
   ],
   "source": [
    "df_cov.head()"
   ]
  },
  {
   "cell_type": "markdown",
   "metadata": {},
   "source": [
    "## Conversión de características categóricas"
   ]
  },
  {
   "cell_type": "markdown",
   "metadata": {},
   "source": [
    "Se convertirán a valores binarios las columnas sexo y resultado. \n",
    "Se muestran las columnas originales y luego ya convertidas"
   ]
  },
  {
   "cell_type": "code",
   "execution_count": 18,
   "metadata": {},
   "outputs": [
    {
     "name": "stdout",
     "output_type": "stream",
     "text": [
      "<class 'pandas.core.frame.DataFrame'>\n",
      "Int64Index: 5075 entries, 2 to 93730\n",
      "Data columns (total 37 columns):\n",
      " #   Column             Non-Null Count  Dtype \n",
      "---  ------             --------------  ----- \n",
      " 0   edad               5075 non-null   int64 \n",
      " 1   sexo               5075 non-null   object\n",
      " 2   fiebre             5075 non-null   int64 \n",
      " 3   malestar           5075 non-null   int64 \n",
      " 4   tos                5075 non-null   int64 \n",
      " 5   garganta           5075 non-null   int64 \n",
      " 6   congestion         5075 non-null   int64 \n",
      " 7   respiratoria       5075 non-null   int64 \n",
      " 8   diarrea            5075 non-null   int64 \n",
      " 9   nauseas            5075 non-null   int64 \n",
      " 10  cefalea            5075 non-null   int64 \n",
      " 11  irritabilidad      5075 non-null   int64 \n",
      " 12  muscular           5075 non-null   int64 \n",
      " 13  abdominal          5075 non-null   int64 \n",
      " 14  pecho              5075 non-null   int64 \n",
      " 15  articulaciones     5075 non-null   int64 \n",
      " 16  temperatura        5075 non-null   int64 \n",
      " 17  exudado            5075 non-null   int64 \n",
      " 18  conjuntival        5075 non-null   int64 \n",
      " 19  convulsion         5075 non-null   int64 \n",
      " 20  coma               5075 non-null   int64 \n",
      " 21  disnea             5075 non-null   int64 \n",
      " 22  auscultacion       5075 non-null   int64 \n",
      " 23  rxpulmonar         5075 non-null   int64 \n",
      " 24  embarazo           5075 non-null   int64 \n",
      " 25  trimestre          5075 non-null   int64 \n",
      " 26  postparto          5075 non-null   int64 \n",
      " 27  cardiovascular     5075 non-null   int64 \n",
      " 28  diabetes           5075 non-null   int64 \n",
      " 29  hepatica           5075 non-null   int64 \n",
      " 30  neurologica        5075 non-null   int64 \n",
      " 31  inmunodeficiencia  5075 non-null   int64 \n",
      " 32  renal              5075 non-null   int64 \n",
      " 33  hepatico           5075 non-null   int64 \n",
      " 34  pulmonar           5075 non-null   int64 \n",
      " 35  cancer             5075 non-null   int64 \n",
      " 36  resultado          5075 non-null   object\n",
      "dtypes: int64(35), object(2)\n",
      "memory usage: 1.5+ MB\n"
     ]
    }
   ],
   "source": [
    "sexo = pd.get_dummies(df_cov['sexo'],drop_first=True)\n",
    "resultado = pd.get_dummies(df_cov['resultado'],drop_first=True)\n",
    "df_cov.info()"
   ]
  },
  {
   "cell_type": "code",
   "execution_count": 19,
   "metadata": {},
   "outputs": [
    {
     "name": "stdout",
     "output_type": "stream",
     "text": [
      "<class 'pandas.core.frame.DataFrame'>\n",
      "Int64Index: 5075 entries, 2 to 93730\n",
      "Data columns (total 37 columns):\n",
      " #   Column             Non-Null Count  Dtype\n",
      "---  ------             --------------  -----\n",
      " 0   edad               5075 non-null   int64\n",
      " 1   fiebre             5075 non-null   int64\n",
      " 2   malestar           5075 non-null   int64\n",
      " 3   tos                5075 non-null   int64\n",
      " 4   garganta           5075 non-null   int64\n",
      " 5   congestion         5075 non-null   int64\n",
      " 6   respiratoria       5075 non-null   int64\n",
      " 7   diarrea            5075 non-null   int64\n",
      " 8   nauseas            5075 non-null   int64\n",
      " 9   cefalea            5075 non-null   int64\n",
      " 10  irritabilidad      5075 non-null   int64\n",
      " 11  muscular           5075 non-null   int64\n",
      " 12  abdominal          5075 non-null   int64\n",
      " 13  pecho              5075 non-null   int64\n",
      " 14  articulaciones     5075 non-null   int64\n",
      " 15  temperatura        5075 non-null   int64\n",
      " 16  exudado            5075 non-null   int64\n",
      " 17  conjuntival        5075 non-null   int64\n",
      " 18  convulsion         5075 non-null   int64\n",
      " 19  coma               5075 non-null   int64\n",
      " 20  disnea             5075 non-null   int64\n",
      " 21  auscultacion       5075 non-null   int64\n",
      " 22  rxpulmonar         5075 non-null   int64\n",
      " 23  embarazo           5075 non-null   int64\n",
      " 24  trimestre          5075 non-null   int64\n",
      " 25  postparto          5075 non-null   int64\n",
      " 26  cardiovascular     5075 non-null   int64\n",
      " 27  diabetes           5075 non-null   int64\n",
      " 28  hepatica           5075 non-null   int64\n",
      " 29  neurologica        5075 non-null   int64\n",
      " 30  inmunodeficiencia  5075 non-null   int64\n",
      " 31  renal              5075 non-null   int64\n",
      " 32  hepatico           5075 non-null   int64\n",
      " 33  pulmonar           5075 non-null   int64\n",
      " 34  cancer             5075 non-null   int64\n",
      " 35  MASCULINO          5075 non-null   uint8\n",
      " 36  POSITIVO           5075 non-null   uint8\n",
      "dtypes: int64(35), uint8(2)\n",
      "memory usage: 1.4 MB\n"
     ]
    }
   ],
   "source": [
    "df_cov.drop(['sexo','resultado'],axis=1,inplace=True)\n",
    "df_cov = pd.concat([df_cov,sexo,resultado],axis=1)\n",
    "df_cov.info()"
   ]
  },
  {
   "cell_type": "code",
   "execution_count": 20,
   "metadata": {},
   "outputs": [
    {
     "data": {
      "text/html": [
       "<div>\n",
       "<style scoped>\n",
       "    .dataframe tbody tr th:only-of-type {\n",
       "        vertical-align: middle;\n",
       "    }\n",
       "\n",
       "    .dataframe tbody tr th {\n",
       "        vertical-align: top;\n",
       "    }\n",
       "\n",
       "    .dataframe thead th {\n",
       "        text-align: right;\n",
       "    }\n",
       "</style>\n",
       "<table border=\"1\" class=\"dataframe\">\n",
       "  <thead>\n",
       "    <tr style=\"text-align: right;\">\n",
       "      <th></th>\n",
       "      <th>edad</th>\n",
       "      <th>fiebre</th>\n",
       "      <th>malestar</th>\n",
       "      <th>tos</th>\n",
       "      <th>garganta</th>\n",
       "      <th>congestion</th>\n",
       "      <th>respiratoria</th>\n",
       "      <th>diarrea</th>\n",
       "      <th>nauseas</th>\n",
       "      <th>cefalea</th>\n",
       "      <th>...</th>\n",
       "      <th>diabetes</th>\n",
       "      <th>hepatica</th>\n",
       "      <th>neurologica</th>\n",
       "      <th>inmunodeficiencia</th>\n",
       "      <th>renal</th>\n",
       "      <th>hepatico</th>\n",
       "      <th>pulmonar</th>\n",
       "      <th>cancer</th>\n",
       "      <th>MASCULINO</th>\n",
       "      <th>POSITIVO</th>\n",
       "    </tr>\n",
       "  </thead>\n",
       "  <tbody>\n",
       "    <tr>\n",
       "      <th>2</th>\n",
       "      <td>45</td>\n",
       "      <td>0</td>\n",
       "      <td>1</td>\n",
       "      <td>0</td>\n",
       "      <td>0</td>\n",
       "      <td>1</td>\n",
       "      <td>0</td>\n",
       "      <td>0</td>\n",
       "      <td>0</td>\n",
       "      <td>0</td>\n",
       "      <td>...</td>\n",
       "      <td>0</td>\n",
       "      <td>0</td>\n",
       "      <td>0</td>\n",
       "      <td>0</td>\n",
       "      <td>0</td>\n",
       "      <td>0</td>\n",
       "      <td>0</td>\n",
       "      <td>0</td>\n",
       "      <td>1</td>\n",
       "      <td>0</td>\n",
       "    </tr>\n",
       "    <tr>\n",
       "      <th>4</th>\n",
       "      <td>67</td>\n",
       "      <td>1</td>\n",
       "      <td>1</td>\n",
       "      <td>1</td>\n",
       "      <td>0</td>\n",
       "      <td>0</td>\n",
       "      <td>0</td>\n",
       "      <td>0</td>\n",
       "      <td>0</td>\n",
       "      <td>1</td>\n",
       "      <td>...</td>\n",
       "      <td>1</td>\n",
       "      <td>0</td>\n",
       "      <td>0</td>\n",
       "      <td>0</td>\n",
       "      <td>0</td>\n",
       "      <td>0</td>\n",
       "      <td>0</td>\n",
       "      <td>0</td>\n",
       "      <td>0</td>\n",
       "      <td>0</td>\n",
       "    </tr>\n",
       "    <tr>\n",
       "      <th>6</th>\n",
       "      <td>61</td>\n",
       "      <td>0</td>\n",
       "      <td>0</td>\n",
       "      <td>1</td>\n",
       "      <td>0</td>\n",
       "      <td>1</td>\n",
       "      <td>0</td>\n",
       "      <td>1</td>\n",
       "      <td>0</td>\n",
       "      <td>0</td>\n",
       "      <td>...</td>\n",
       "      <td>0</td>\n",
       "      <td>0</td>\n",
       "      <td>0</td>\n",
       "      <td>0</td>\n",
       "      <td>0</td>\n",
       "      <td>0</td>\n",
       "      <td>0</td>\n",
       "      <td>0</td>\n",
       "      <td>1</td>\n",
       "      <td>1</td>\n",
       "    </tr>\n",
       "    <tr>\n",
       "      <th>8</th>\n",
       "      <td>13</td>\n",
       "      <td>0</td>\n",
       "      <td>1</td>\n",
       "      <td>1</td>\n",
       "      <td>1</td>\n",
       "      <td>1</td>\n",
       "      <td>0</td>\n",
       "      <td>0</td>\n",
       "      <td>0</td>\n",
       "      <td>0</td>\n",
       "      <td>...</td>\n",
       "      <td>0</td>\n",
       "      <td>0</td>\n",
       "      <td>0</td>\n",
       "      <td>0</td>\n",
       "      <td>0</td>\n",
       "      <td>0</td>\n",
       "      <td>0</td>\n",
       "      <td>0</td>\n",
       "      <td>1</td>\n",
       "      <td>0</td>\n",
       "    </tr>\n",
       "    <tr>\n",
       "      <th>9</th>\n",
       "      <td>78</td>\n",
       "      <td>0</td>\n",
       "      <td>0</td>\n",
       "      <td>1</td>\n",
       "      <td>1</td>\n",
       "      <td>1</td>\n",
       "      <td>0</td>\n",
       "      <td>0</td>\n",
       "      <td>0</td>\n",
       "      <td>0</td>\n",
       "      <td>...</td>\n",
       "      <td>0</td>\n",
       "      <td>0</td>\n",
       "      <td>0</td>\n",
       "      <td>0</td>\n",
       "      <td>0</td>\n",
       "      <td>0</td>\n",
       "      <td>0</td>\n",
       "      <td>0</td>\n",
       "      <td>1</td>\n",
       "      <td>0</td>\n",
       "    </tr>\n",
       "  </tbody>\n",
       "</table>\n",
       "<p>5 rows × 37 columns</p>\n",
       "</div>"
      ],
      "text/plain": [
       "   edad  fiebre  malestar  tos  garganta  congestion  respiratoria  diarrea  \\\n",
       "2    45       0         1    0         0           1             0        0   \n",
       "4    67       1         1    1         0           0             0        0   \n",
       "6    61       0         0    1         0           1             0        1   \n",
       "8    13       0         1    1         1           1             0        0   \n",
       "9    78       0         0    1         1           1             0        0   \n",
       "\n",
       "   nauseas  cefalea  ...  diabetes  hepatica  neurologica  inmunodeficiencia  \\\n",
       "2        0        0  ...         0         0            0                  0   \n",
       "4        0        1  ...         1         0            0                  0   \n",
       "6        0        0  ...         0         0            0                  0   \n",
       "8        0        0  ...         0         0            0                  0   \n",
       "9        0        0  ...         0         0            0                  0   \n",
       "\n",
       "   renal  hepatico  pulmonar  cancer  MASCULINO  POSITIVO  \n",
       "2      0         0         0       0          1         0  \n",
       "4      0         0         0       0          0         0  \n",
       "6      0         0         0       0          1         1  \n",
       "8      0         0         0       0          1         0  \n",
       "9      0         0         0       0          1         0  \n",
       "\n",
       "[5 rows x 37 columns]"
      ]
     },
     "execution_count": 20,
     "metadata": {},
     "output_type": "execute_result"
    }
   ],
   "source": [
    "df_cov.head()"
   ]
  },
  {
   "cell_type": "markdown",
   "metadata": {},
   "source": [
    "# APLICANDO LOS MODELOS DE CLASIFICACIÓN\n",
    "Se usarán 4 modelos de clasificación:\n",
    "1. Regresión Logística\n",
    "2. K vecinos más cercanos\n",
    "3. Árboles de Decisión y Bosques Aleatorios\n",
    "4. Máquinas de Vectores de Soporte"
   ]
  },
  {
   "cell_type": "markdown",
   "metadata": {},
   "source": [
    "## Regresión Logística"
   ]
  },
  {
   "cell_type": "markdown",
   "metadata": {},
   "source": [
    "### Construcción del modelo de Regresión Logística\n",
    "Comencemos dividiendo nuestros datos en un conjunto de entrenamiento y un conjunto de pruebas\n",
    "#### División de datos de entrenamiento y prueba"
   ]
  },
  {
   "cell_type": "code",
   "execution_count": 21,
   "metadata": {},
   "outputs": [],
   "source": [
    "from sklearn.model_selection import train_test_split"
   ]
  },
  {
   "cell_type": "code",
   "execution_count": 22,
   "metadata": {},
   "outputs": [],
   "source": [
    "X_train, X_test, y_train, y_test = train_test_split(df_cov.drop('POSITIVO',axis=1), \n",
    "                                                    df_cov['POSITIVO'], test_size=0.3, \n",
    "                                                    random_state=100)"
   ]
  },
  {
   "cell_type": "markdown",
   "metadata": {},
   "source": [
    "### Entrenamiento y predicción"
   ]
  },
  {
   "cell_type": "code",
   "execution_count": 23,
   "metadata": {},
   "outputs": [],
   "source": [
    "from sklearn.linear_model import LogisticRegression"
   ]
  },
  {
   "cell_type": "code",
   "execution_count": 24,
   "metadata": {},
   "outputs": [
    {
     "data": {
      "text/plain": [
       "LogisticRegression(max_iter=10000, solver='liblinear')"
      ]
     },
     "execution_count": 24,
     "metadata": {},
     "output_type": "execute_result"
    }
   ],
   "source": [
    "logmodel = LogisticRegression(max_iter=10000,solver='liblinear')\n",
    "logmodel.fit(X_train,y_train)"
   ]
  },
  {
   "cell_type": "code",
   "execution_count": 25,
   "metadata": {},
   "outputs": [
    {
     "data": {
      "text/plain": [
       "array([1, 0, 0, ..., 0, 0, 0], dtype=uint8)"
      ]
     },
     "execution_count": 25,
     "metadata": {},
     "output_type": "execute_result"
    }
   ],
   "source": [
    "predictions = logmodel.predict(X_test)\n",
    "predictions"
   ]
  },
  {
   "cell_type": "markdown",
   "metadata": {},
   "source": [
    "### Evaluación\n",
    "¡Podemos verificar la exectitud, precisión, recuperación, puntaje f1 usando el informe de clasificación!"
   ]
  },
  {
   "cell_type": "code",
   "execution_count": 26,
   "metadata": {},
   "outputs": [],
   "source": [
    "from sklearn.metrics import confusion_matrix"
   ]
  },
  {
   "cell_type": "code",
   "execution_count": 27,
   "metadata": {},
   "outputs": [
    {
     "data": {
      "text/plain": [
       "array([[881, 117],\n",
       "       [330, 195]], dtype=int64)"
      ]
     },
     "execution_count": 27,
     "metadata": {},
     "output_type": "execute_result"
    }
   ],
   "source": [
    "confusion_matrix(y_test,predictions)"
   ]
  },
  {
   "cell_type": "code",
   "execution_count": 28,
   "metadata": {},
   "outputs": [],
   "source": [
    "from sklearn.metrics import classification_report"
   ]
  },
  {
   "cell_type": "code",
   "execution_count": 29,
   "metadata": {},
   "outputs": [
    {
     "name": "stdout",
     "output_type": "stream",
     "text": [
      "              precision    recall  f1-score   support\n",
      "\n",
      "           0       0.73      0.88      0.80       998\n",
      "           1       0.62      0.37      0.47       525\n",
      "\n",
      "    accuracy                           0.71      1523\n",
      "   macro avg       0.68      0.63      0.63      1523\n",
      "weighted avg       0.69      0.71      0.68      1523\n",
      "\n"
     ]
    }
   ],
   "source": [
    "print(classification_report(y_test,predictions))"
   ]
  },
  {
   "cell_type": "markdown",
   "metadata": {},
   "source": [
    "**Usando el modelo de regresión logística se obtiene un acurracy de 71%, teniendo una precision del 62% para detectar los casos positivos y 73% para los casos negativos**"
   ]
  },
  {
   "cell_type": "markdown",
   "metadata": {},
   "source": [
    "## K vecinos más cercanos"
   ]
  },
  {
   "cell_type": "markdown",
   "metadata": {},
   "source": [
    "### Uso de KNN (K vecinos más cercanos)\n",
    "Comenzaremos con k = 1 y luego con el método del codo encontraremos un k más optimo"
   ]
  },
  {
   "cell_type": "code",
   "execution_count": 30,
   "metadata": {},
   "outputs": [],
   "source": [
    "from sklearn.neighbors import KNeighborsClassifier"
   ]
  },
  {
   "cell_type": "code",
   "execution_count": 31,
   "metadata": {},
   "outputs": [],
   "source": [
    "knn = KNeighborsClassifier(n_neighbors=1)"
   ]
  },
  {
   "cell_type": "code",
   "execution_count": 32,
   "metadata": {},
   "outputs": [
    {
     "data": {
      "text/plain": [
       "KNeighborsClassifier(n_neighbors=1)"
      ]
     },
     "execution_count": 32,
     "metadata": {},
     "output_type": "execute_result"
    }
   ],
   "source": [
    "knn.fit(X_train,y_train)"
   ]
  },
  {
   "cell_type": "markdown",
   "metadata": {},
   "source": [
    "### Predicciones y Evaluaciones\n"
   ]
  },
  {
   "cell_type": "code",
   "execution_count": 33,
   "metadata": {},
   "outputs": [],
   "source": [
    "pred = knn.predict(X_test)"
   ]
  },
  {
   "cell_type": "code",
   "execution_count": 34,
   "metadata": {},
   "outputs": [],
   "source": [
    "from sklearn.metrics import classification_report,confusion_matrix"
   ]
  },
  {
   "cell_type": "code",
   "execution_count": 35,
   "metadata": {},
   "outputs": [
    {
     "name": "stdout",
     "output_type": "stream",
     "text": [
      "[[740 258]\n",
      " [328 197]]\n"
     ]
    }
   ],
   "source": [
    "print(confusion_matrix(y_test,pred))"
   ]
  },
  {
   "cell_type": "code",
   "execution_count": 36,
   "metadata": {},
   "outputs": [
    {
     "name": "stdout",
     "output_type": "stream",
     "text": [
      "              precision    recall  f1-score   support\n",
      "\n",
      "           0       0.69      0.74      0.72       998\n",
      "           1       0.43      0.38      0.40       525\n",
      "\n",
      "    accuracy                           0.62      1523\n",
      "   macro avg       0.56      0.56      0.56      1523\n",
      "weighted avg       0.60      0.62      0.61      1523\n",
      "\n"
     ]
    }
   ],
   "source": [
    "print(classification_report(y_test,pred))"
   ]
  },
  {
   "cell_type": "markdown",
   "metadata": {},
   "source": [
    "**Con un k=1 se obtiene un accuracy de 62%, teniendo una precision del 43% para detectar los casos positivos y 69% para detectar los casos negativos**"
   ]
  },
  {
   "cell_type": "markdown",
   "metadata": {},
   "source": [
    "### Elegimos un valor K\n",
    "¡Usemos el método del codo para elegir un buen valor K!"
   ]
  },
  {
   "cell_type": "code",
   "execution_count": 37,
   "metadata": {},
   "outputs": [],
   "source": [
    "tasa_error = []\n",
    "\n",
    "for i in range(1,40):\n",
    "    knn = KNeighborsClassifier(n_neighbors=i)\n",
    "    knn.fit(X_train,y_train)\n",
    "    pred_i = knn.predict(X_test)\n",
    "    tasa_error.append(np.mean(pred_i != y_test))"
   ]
  },
  {
   "cell_type": "code",
   "execution_count": 38,
   "metadata": {},
   "outputs": [
    {
     "data": {
      "text/plain": [
       "Text(0, 0.5, 'Tasa de Error')"
      ]
     },
     "execution_count": 38,
     "metadata": {},
     "output_type": "execute_result"
    },
    {
     "data": {
      "image/png": "[encoded data removed]",
      "text/plain": [
       "<Figure size 720x432 with 1 Axes>"
      ]
     },
     "metadata": {},
     "output_type": "display_data"
    }
   ],
   "source": [
    "plt.figure(figsize=(10,6))\n",
    "plt.plot(range(1,40),tasa_error,color='blue', linestyle='dashed', marker='o',\n",
    "         markerfacecolor='red', markersize=10)\n",
    "plt.title('Tasa de Error vs. Valor de K')\n",
    "plt.xlabel('K')\n",
    "plt.ylabel('Tasa de Error')"
   ]
  },
  {
   "cell_type": "code",
   "execution_count": 39,
   "metadata": {},
   "outputs": [
    {
     "name": "stdout",
     "output_type": "stream",
     "text": [
      "CON K=14\n",
      "\n",
      "\n",
      "[[951  47]\n",
      " [441  84]]\n",
      "\n",
      "\n",
      "              precision    recall  f1-score   support\n",
      "\n",
      "           0       0.68      0.95      0.80       998\n",
      "           1       0.64      0.16      0.26       525\n",
      "\n",
      "    accuracy                           0.68      1523\n",
      "   macro avg       0.66      0.56      0.53      1523\n",
      "weighted avg       0.67      0.68      0.61      1523\n",
      "\n"
     ]
    }
   ],
   "source": [
    "# CON K=14\n",
    "knn = KNeighborsClassifier(n_neighbors=14)\n",
    "\n",
    "knn.fit(X_train,y_train)\n",
    "pred = knn.predict(X_test)\n",
    "\n",
    "print('CON K=14')\n",
    "print('\\n')\n",
    "print(confusion_matrix(y_test,pred))\n",
    "print('\\n')\n",
    "print(classification_report(y_test,pred))"
   ]
  },
  {
   "cell_type": "markdown",
   "metadata": {},
   "source": [
    "**Con un k=14 se obtiene un accuracy de 68%, teniendo una precision del 64% para detectar los casos positivos y 68% para detectar los casos negativos**"
   ]
  },
  {
   "cell_type": "markdown",
   "metadata": {},
   "source": [
    "## Árboles de decisión y bosques aleatorios\n",
    "\n",
    "Comenzaremos simplemente entrenando un solo árbol de decisión."
   ]
  },
  {
   "cell_type": "code",
   "execution_count": 40,
   "metadata": {},
   "outputs": [],
   "source": [
    "from sklearn.tree import DecisionTreeClassifier"
   ]
  },
  {
   "cell_type": "code",
   "execution_count": 41,
   "metadata": {},
   "outputs": [],
   "source": [
    "dtree = DecisionTreeClassifier(criterion='gini',random_state=101)"
   ]
  },
  {
   "cell_type": "code",
   "execution_count": 42,
   "metadata": {},
   "outputs": [
    {
     "data": {
      "text/plain": [
       "DecisionTreeClassifier(random_state=101)"
      ]
     },
     "execution_count": 42,
     "metadata": {},
     "output_type": "execute_result"
    }
   ],
   "source": [
    "dtree.fit(X_train,y_train)"
   ]
  },
  {
   "cell_type": "markdown",
   "metadata": {},
   "source": [
    "### Predicción y Evaluación¶\n",
    "Evaluemos nuestro árbol de decisiones."
   ]
  },
  {
   "cell_type": "code",
   "execution_count": 43,
   "metadata": {},
   "outputs": [],
   "source": [
    "predictions = dtree.predict(X_test)"
   ]
  },
  {
   "cell_type": "code",
   "execution_count": 44,
   "metadata": {},
   "outputs": [],
   "source": [
    "from sklearn.metrics import classification_report,confusion_matrix"
   ]
  },
  {
   "cell_type": "code",
   "execution_count": 45,
   "metadata": {},
   "outputs": [
    {
     "name": "stdout",
     "output_type": "stream",
     "text": [
      "[[742 256]\n",
      " [305 220]]\n"
     ]
    }
   ],
   "source": [
    "print(confusion_matrix(y_test,predictions))"
   ]
  },
  {
   "cell_type": "code",
   "execution_count": 46,
   "metadata": {},
   "outputs": [
    {
     "name": "stdout",
     "output_type": "stream",
     "text": [
      "              precision    recall  f1-score   support\n",
      "\n",
      "           0       0.71      0.74      0.73       998\n",
      "           1       0.46      0.42      0.44       525\n",
      "\n",
      "    accuracy                           0.63      1523\n",
      "   macro avg       0.59      0.58      0.58      1523\n",
      "weighted avg       0.62      0.63      0.63      1523\n",
      "\n"
     ]
    }
   ],
   "source": [
    "print(classification_report(y_test,predictions))"
   ]
  },
  {
   "cell_type": "markdown",
   "metadata": {},
   "source": [
    "**Aplicando un árbol de decisión obtenemos un accuracy de 63%, teniendo una precision del 46% para detectar los casos positivos y 71% para detectar los casos negativos**"
   ]
  },
  {
   "cell_type": "markdown",
   "metadata": {},
   "source": [
    "### Bosques Aleatorios\n",
    "\n",
    "Ahora implementemos un modelo de bosque aleatorio."
   ]
  },
  {
   "cell_type": "code",
   "execution_count": 47,
   "metadata": {},
   "outputs": [
    {
     "data": {
      "text/plain": [
       "RandomForestClassifier(n_estimators=1000, random_state=100)"
      ]
     },
     "execution_count": 47,
     "metadata": {},
     "output_type": "execute_result"
    }
   ],
   "source": [
    "from sklearn.ensemble import RandomForestClassifier\n",
    "rfc = RandomForestClassifier(n_estimators=1000,random_state=100,criterion='gini')\n",
    "rfc.fit(X_train, y_train)"
   ]
  },
  {
   "cell_type": "code",
   "execution_count": 48,
   "metadata": {},
   "outputs": [],
   "source": [
    "rfc_pred = rfc.predict(X_test)"
   ]
  },
  {
   "cell_type": "code",
   "execution_count": 49,
   "metadata": {},
   "outputs": [
    {
     "name": "stdout",
     "output_type": "stream",
     "text": [
      "[[779 219]\n",
      " [291 234]]\n"
     ]
    }
   ],
   "source": [
    "print(confusion_matrix(y_test,rfc_pred))"
   ]
  },
  {
   "cell_type": "code",
   "execution_count": 50,
   "metadata": {},
   "outputs": [
    {
     "name": "stdout",
     "output_type": "stream",
     "text": [
      "              precision    recall  f1-score   support\n",
      "\n",
      "           0       0.73      0.78      0.75       998\n",
      "           1       0.52      0.45      0.48       525\n",
      "\n",
      "    accuracy                           0.67      1523\n",
      "   macro avg       0.62      0.61      0.62      1523\n",
      "weighted avg       0.66      0.67      0.66      1523\n",
      "\n"
     ]
    }
   ],
   "source": [
    "print(classification_report(y_test,rfc_pred))"
   ]
  },
  {
   "cell_type": "markdown",
   "metadata": {},
   "source": [
    "**Aplicando Bosques Aleatorios obtenemos un accuracy de 67%, teniendo una precision del 52% para detectar los casos positivos y 73% para detectar los casos negativos**"
   ]
  },
  {
   "cell_type": "markdown",
   "metadata": {},
   "source": [
    "## Máquinas con Vectores de Soporte\n"
   ]
  },
  {
   "cell_type": "markdown",
   "metadata": {},
   "source": [
    "### Entrenar el clasificador con Vectores de Soporte"
   ]
  },
  {
   "cell_type": "code",
   "execution_count": 51,
   "metadata": {},
   "outputs": [],
   "source": [
    "from sklearn.svm import SVC"
   ]
  },
  {
   "cell_type": "code",
   "execution_count": 52,
   "metadata": {},
   "outputs": [],
   "source": [
    "model = SVC(C=1000,kernel=\"linear\",gamma=0.001)"
   ]
  },
  {
   "cell_type": "code",
   "execution_count": 53,
   "metadata": {},
   "outputs": [
    {
     "data": {
      "text/plain": [
       "SVC(C=1000, gamma=0.001, kernel='linear')"
      ]
     },
     "execution_count": 53,
     "metadata": {},
     "output_type": "execute_result"
    }
   ],
   "source": [
    "model.fit(X_train,y_train)"
   ]
  },
  {
   "cell_type": "markdown",
   "metadata": {},
   "source": [
    "### Predicciones y evaluaciones\n",
    "\n",
    "Ahora vamos a predecir haciendo uso del modelo entrenado."
   ]
  },
  {
   "cell_type": "code",
   "execution_count": 54,
   "metadata": {},
   "outputs": [],
   "source": [
    "predictions = model.predict(X_test)"
   ]
  },
  {
   "cell_type": "code",
   "execution_count": 55,
   "metadata": {},
   "outputs": [],
   "source": [
    "from sklearn.metrics import classification_report,confusion_matrix"
   ]
  },
  {
   "cell_type": "code",
   "execution_count": 56,
   "metadata": {},
   "outputs": [
    {
     "name": "stdout",
     "output_type": "stream",
     "text": [
      "[[804 194]\n",
      " [298 227]]\n"
     ]
    }
   ],
   "source": [
    "print(confusion_matrix(y_test,predictions))"
   ]
  },
  {
   "cell_type": "code",
   "execution_count": 57,
   "metadata": {},
   "outputs": [
    {
     "name": "stdout",
     "output_type": "stream",
     "text": [
      "              precision    recall  f1-score   support\n",
      "\n",
      "           0       0.73      0.81      0.77       998\n",
      "           1       0.54      0.43      0.48       525\n",
      "\n",
      "    accuracy                           0.68      1523\n",
      "   macro avg       0.63      0.62      0.62      1523\n",
      "weighted avg       0.66      0.68      0.67      1523\n",
      "\n"
     ]
    }
   ],
   "source": [
    "print(classification_report(y_test,predictions))"
   ]
  },
  {
   "cell_type": "markdown",
   "metadata": {},
   "source": [
    "**Aplicando un modelo de Máquinas con vectores de soporte y entrenandolo con parámetros como un kernel del tipo \"linear\" obtenemos un accuracy de 68%, teniendo una precision del 54% para detectar los casos positivos y 73% para detectar los casos negativos**"
   ]
  },
  {
   "cell_type": "markdown",
   "metadata": {},
   "source": [
    "### Gridsearch\n",
    "Usamos el método Gridsearch para encontrar los parámetros correctos (como qué valores de C o gamma usar) "
   ]
  },
  {
   "cell_type": "code",
   "execution_count": 58,
   "metadata": {},
   "outputs": [],
   "source": [
    "param_grid = {'C': [0.1,1, 10, 100, 1000], 'gamma': [1,0.1,0.01,0.001,0.0001], 'kernel': ['rbf']} "
   ]
  },
  {
   "cell_type": "code",
   "execution_count": 59,
   "metadata": {},
   "outputs": [],
   "source": [
    "from sklearn.model_selection import GridSearchCV"
   ]
  },
  {
   "cell_type": "code",
   "execution_count": 60,
   "metadata": {},
   "outputs": [],
   "source": [
    "grid = GridSearchCV(SVC(),param_grid,refit=True,verbose=3)"
   ]
  },
  {
   "cell_type": "code",
   "execution_count": 61,
   "metadata": {},
   "outputs": [
    {
     "name": "stdout",
     "output_type": "stream",
     "text": [
      "Fitting 5 folds for each of 25 candidates, totalling 125 fits\n",
      "[CV 1/5] END .....................C=0.1, gamma=1, kernel=rbf; total time=   1.9s\n",
      "[CV 2/5] END .....................C=0.1, gamma=1, kernel=rbf; total time=   2.0s\n",
      "[CV 3/5] END .....................C=0.1, gamma=1, kernel=rbf; total time=   1.9s\n",
      "[CV 4/5] END .....................C=0.1, gamma=1, kernel=rbf; total time=   1.9s\n",
      "[CV 5/5] END .....................C=0.1, gamma=1, kernel=rbf; total time=   1.9s\n",
      "[CV 1/5] END ...................C=0.1, gamma=0.1, kernel=rbf; total time=   1.3s\n",
      "[CV 2/5] END ...................C=0.1, gamma=0.1, kernel=rbf; total time=   1.3s\n",
      "[CV 3/5] END ...................C=0.1, gamma=0.1, kernel=rbf; total time=   1.3s\n",
      "[CV 4/5] END ...................C=0.1, gamma=0.1, kernel=rbf; total time=   1.3s\n",
      "[CV 5/5] END ...................C=0.1, gamma=0.1, kernel=rbf; total time=   1.3s\n",
      "[CV 1/5] END ..................C=0.1, gamma=0.01, kernel=rbf; total time=   1.2s\n",
      "[CV 2/5] END ..................C=0.1, gamma=0.01, kernel=rbf; total time=   1.3s\n",
      "[CV 3/5] END ..................C=0.1, gamma=0.01, kernel=rbf; total time=   1.3s\n",
      "[CV 4/5] END ..................C=0.1, gamma=0.01, kernel=rbf; total time=   1.3s\n",
      "[CV 5/5] END ..................C=0.1, gamma=0.01, kernel=rbf; total time=   1.3s\n",
      "[CV 1/5] END .................C=0.1, gamma=0.001, kernel=rbf; total time=   1.3s\n",
      "[CV 2/5] END .................C=0.1, gamma=0.001, kernel=rbf; total time=   1.2s\n",
      "[CV 3/5] END .................C=0.1, gamma=0.001, kernel=rbf; total time=   1.2s\n",
      "[CV 4/5] END .................C=0.1, gamma=0.001, kernel=rbf; total time=   1.2s\n",
      "[CV 5/5] END .................C=0.1, gamma=0.001, kernel=rbf; total time=   1.2s\n",
      "[CV 1/5] END ................C=0.1, gamma=0.0001, kernel=rbf; total time=   1.1s\n",
      "[CV 2/5] END ................C=0.1, gamma=0.0001, kernel=rbf; total time=   0.9s\n",
      "[CV 3/5] END ................C=0.1, gamma=0.0001, kernel=rbf; total time=   1.2s\n",
      "[CV 4/5] END ................C=0.1, gamma=0.0001, kernel=rbf; total time=   1.2s\n",
      "[CV 5/5] END ................C=0.1, gamma=0.0001, kernel=rbf; total time=   1.2s\n",
      "[CV 1/5] END .......................C=1, gamma=1, kernel=rbf; total time=   2.0s\n",
      "[CV 2/5] END .......................C=1, gamma=1, kernel=rbf; total time=   2.0s\n",
      "[CV 3/5] END .......................C=1, gamma=1, kernel=rbf; total time=   2.0s\n",
      "[CV 4/5] END .......................C=1, gamma=1, kernel=rbf; total time=   2.0s\n",
      "[CV 5/5] END .......................C=1, gamma=1, kernel=rbf; total time=   2.0s\n",
      "[CV 1/5] END .....................C=1, gamma=0.1, kernel=rbf; total time=   1.4s\n",
      "[CV 2/5] END .....................C=1, gamma=0.1, kernel=rbf; total time=   1.4s\n",
      "[CV 3/5] END .....................C=1, gamma=0.1, kernel=rbf; total time=   1.3s\n",
      "[CV 4/5] END .....................C=1, gamma=0.1, kernel=rbf; total time=   1.4s\n",
      "[CV 5/5] END .....................C=1, gamma=0.1, kernel=rbf; total time=   1.4s\n",
      "[CV 1/5] END ....................C=1, gamma=0.01, kernel=rbf; total time=   1.3s\n",
      "[CV 2/5] END ....................C=1, gamma=0.01, kernel=rbf; total time=   1.3s\n",
      "[CV 3/5] END ....................C=1, gamma=0.01, kernel=rbf; total time=   1.3s\n",
      "[CV 4/5] END ....................C=1, gamma=0.01, kernel=rbf; total time=   1.3s\n",
      "[CV 5/5] END ....................C=1, gamma=0.01, kernel=rbf; total time=   1.3s\n",
      "[CV 1/5] END ...................C=1, gamma=0.001, kernel=rbf; total time=   1.3s\n",
      "[CV 2/5] END ...................C=1, gamma=0.001, kernel=rbf; total time=   1.3s\n",
      "[CV 3/5] END ...................C=1, gamma=0.001, kernel=rbf; total time=   1.3s\n",
      "[CV 4/5] END ...................C=1, gamma=0.001, kernel=rbf; total time=   1.3s\n",
      "[CV 5/5] END ...................C=1, gamma=0.001, kernel=rbf; total time=   1.3s\n",
      "[CV 1/5] END ..................C=1, gamma=0.0001, kernel=rbf; total time=   1.2s\n",
      "[CV 2/5] END ..................C=1, gamma=0.0001, kernel=rbf; total time=   1.2s\n",
      "[CV 3/5] END ..................C=1, gamma=0.0001, kernel=rbf; total time=   1.2s\n",
      "[CV 4/5] END ..................C=1, gamma=0.0001, kernel=rbf; total time=   1.2s\n",
      "[CV 5/5] END ..................C=1, gamma=0.0001, kernel=rbf; total time=   1.2s\n",
      "[CV 1/5] END ......................C=10, gamma=1, kernel=rbf; total time=   2.0s\n",
      "[CV 2/5] END ......................C=10, gamma=1, kernel=rbf; total time=   2.0s\n",
      "[CV 3/5] END ......................C=10, gamma=1, kernel=rbf; total time=   2.0s\n",
      "[CV 4/5] END ......................C=10, gamma=1, kernel=rbf; total time=   2.0s\n",
      "[CV 5/5] END ......................C=10, gamma=1, kernel=rbf; total time=   2.0s\n",
      "[CV 1/5] END ....................C=10, gamma=0.1, kernel=rbf; total time=   1.8s\n",
      "[CV 2/5] END ....................C=10, gamma=0.1, kernel=rbf; total time=   1.7s\n",
      "[CV 3/5] END ....................C=10, gamma=0.1, kernel=rbf; total time=   1.6s\n",
      "[CV 4/5] END ....................C=10, gamma=0.1, kernel=rbf; total time=   1.7s\n",
      "[CV 5/5] END ....................C=10, gamma=0.1, kernel=rbf; total time=   1.7s\n",
      "[CV 1/5] END ...................C=10, gamma=0.01, kernel=rbf; total time=   1.4s\n",
      "[CV 2/5] END ...................C=10, gamma=0.01, kernel=rbf; total time=   1.5s\n",
      "[CV 3/5] END ...................C=10, gamma=0.01, kernel=rbf; total time=   1.4s\n",
      "[CV 4/5] END ...................C=10, gamma=0.01, kernel=rbf; total time=   1.4s\n",
      "[CV 5/5] END ...................C=10, gamma=0.01, kernel=rbf; total time=   1.4s\n",
      "[CV 1/5] END ..................C=10, gamma=0.001, kernel=rbf; total time=   1.3s\n",
      "[CV 2/5] END ..................C=10, gamma=0.001, kernel=rbf; total time=   1.4s\n",
      "[CV 3/5] END ..................C=10, gamma=0.001, kernel=rbf; total time=   1.3s\n",
      "[CV 4/5] END ..................C=10, gamma=0.001, kernel=rbf; total time=   1.3s\n",
      "[CV 5/5] END ..................C=10, gamma=0.001, kernel=rbf; total time=   1.3s\n",
      "[CV 1/5] END .................C=10, gamma=0.0001, kernel=rbf; total time=   1.3s\n",
      "[CV 2/5] END .................C=10, gamma=0.0001, kernel=rbf; total time=   1.3s\n",
      "[CV 3/5] END .................C=10, gamma=0.0001, kernel=rbf; total time=   1.2s\n",
      "[CV 4/5] END .................C=10, gamma=0.0001, kernel=rbf; total time=   1.3s\n",
      "[CV 5/5] END .................C=10, gamma=0.0001, kernel=rbf; total time=   1.3s\n",
      "[CV 1/5] END .....................C=100, gamma=1, kernel=rbf; total time=   2.0s\n",
      "[CV 2/5] END .....................C=100, gamma=1, kernel=rbf; total time=   2.0s\n",
      "[CV 3/5] END .....................C=100, gamma=1, kernel=rbf; total time=   2.0s\n",
      "[CV 4/5] END .....................C=100, gamma=1, kernel=rbf; total time=   2.0s\n",
      "[CV 5/5] END .....................C=100, gamma=1, kernel=rbf; total time=   2.0s\n",
      "[CV 1/5] END ...................C=100, gamma=0.1, kernel=rbf; total time=   4.1s\n",
      "[CV 2/5] END ...................C=100, gamma=0.1, kernel=rbf; total time=   3.7s\n",
      "[CV 3/5] END ...................C=100, gamma=0.1, kernel=rbf; total time=   4.4s\n",
      "[CV 4/5] END ...................C=100, gamma=0.1, kernel=rbf; total time=   4.1s\n",
      "[CV 5/5] END ...................C=100, gamma=0.1, kernel=rbf; total time=   5.0s\n",
      "[CV 1/5] END ..................C=100, gamma=0.01, kernel=rbf; total time=   3.0s\n",
      "[CV 2/5] END ..................C=100, gamma=0.01, kernel=rbf; total time=   3.0s\n",
      "[CV 3/5] END ..................C=100, gamma=0.01, kernel=rbf; total time=   2.7s\n",
      "[CV 4/5] END ..................C=100, gamma=0.01, kernel=rbf; total time=   2.7s\n",
      "[CV 5/5] END ..................C=100, gamma=0.01, kernel=rbf; total time=   3.2s\n",
      "[CV 1/5] END .................C=100, gamma=0.001, kernel=rbf; total time=   2.2s\n",
      "[CV 2/5] END .................C=100, gamma=0.001, kernel=rbf; total time=   1.9s\n",
      "[CV 3/5] END .................C=100, gamma=0.001, kernel=rbf; total time=   1.6s\n",
      "[CV 4/5] END .................C=100, gamma=0.001, kernel=rbf; total time=   1.9s\n",
      "[CV 5/5] END .................C=100, gamma=0.001, kernel=rbf; total time=   1.6s\n",
      "[CV 1/5] END ................C=100, gamma=0.0001, kernel=rbf; total time=   1.4s\n",
      "[CV 2/5] END ................C=100, gamma=0.0001, kernel=rbf; total time=   1.3s\n",
      "[CV 3/5] END ................C=100, gamma=0.0001, kernel=rbf; total time=   1.4s\n",
      "[CV 4/5] END ................C=100, gamma=0.0001, kernel=rbf; total time=   1.5s\n",
      "[CV 5/5] END ................C=100, gamma=0.0001, kernel=rbf; total time=   1.4s\n",
      "[CV 1/5] END ....................C=1000, gamma=1, kernel=rbf; total time=   2.0s\n"
     ]
    },
    {
     "name": "stdout",
     "output_type": "stream",
     "text": [
      "[CV 2/5] END ....................C=1000, gamma=1, kernel=rbf; total time=   2.0s\n",
      "[CV 3/5] END ....................C=1000, gamma=1, kernel=rbf; total time=   2.0s\n",
      "[CV 4/5] END ....................C=1000, gamma=1, kernel=rbf; total time=   2.0s\n",
      "[CV 5/5] END ....................C=1000, gamma=1, kernel=rbf; total time=   2.0s\n",
      "[CV 1/5] END ..................C=1000, gamma=0.1, kernel=rbf; total time=   9.9s\n",
      "[CV 2/5] END ..................C=1000, gamma=0.1, kernel=rbf; total time=  11.2s\n",
      "[CV 3/5] END ..................C=1000, gamma=0.1, kernel=rbf; total time=  12.0s\n",
      "[CV 4/5] END ..................C=1000, gamma=0.1, kernel=rbf; total time=  23.9s\n",
      "[CV 5/5] END ..................C=1000, gamma=0.1, kernel=rbf; total time=  15.0s\n",
      "[CV 1/5] END .................C=1000, gamma=0.01, kernel=rbf; total time=  20.5s\n",
      "[CV 2/5] END .................C=1000, gamma=0.01, kernel=rbf; total time=  18.5s\n",
      "[CV 3/5] END .................C=1000, gamma=0.01, kernel=rbf; total time=  15.8s\n",
      "[CV 4/5] END .................C=1000, gamma=0.01, kernel=rbf; total time=  14.6s\n",
      "[CV 5/5] END .................C=1000, gamma=0.01, kernel=rbf; total time=  27.1s\n",
      "[CV 1/5] END ................C=1000, gamma=0.001, kernel=rbf; total time=   9.8s\n",
      "[CV 2/5] END ................C=1000, gamma=0.001, kernel=rbf; total time=   8.1s\n",
      "[CV 3/5] END ................C=1000, gamma=0.001, kernel=rbf; total time=   7.1s\n",
      "[CV 4/5] END ................C=1000, gamma=0.001, kernel=rbf; total time=   9.0s\n",
      "[CV 5/5] END ................C=1000, gamma=0.001, kernel=rbf; total time=   6.9s\n",
      "[CV 1/5] END ...............C=1000, gamma=0.0001, kernel=rbf; total time=   2.3s\n",
      "[CV 2/5] END ...............C=1000, gamma=0.0001, kernel=rbf; total time=   2.0s\n",
      "[CV 3/5] END ...............C=1000, gamma=0.0001, kernel=rbf; total time=   2.2s\n",
      "[CV 4/5] END ...............C=1000, gamma=0.0001, kernel=rbf; total time=   3.1s\n",
      "[CV 5/5] END ...............C=1000, gamma=0.0001, kernel=rbf; total time=   3.3s\n"
     ]
    },
    {
     "data": {
      "text/plain": [
       "GridSearchCV(estimator=SVC(),\n",
       "             param_grid={'C': [0.1, 1, 10, 100, 1000],\n",
       "                         'gamma': [1, 0.1, 0.01, 0.001, 0.0001],\n",
       "                         'kernel': ['rbf']},\n",
       "             verbose=3)"
      ]
     },
     "execution_count": 61,
     "metadata": {},
     "output_type": "execute_result"
    }
   ],
   "source": [
    "grid.fit(X_train,y_train)"
   ]
  },
  {
   "cell_type": "code",
   "execution_count": 62,
   "metadata": {},
   "outputs": [
    {
     "data": {
      "text/plain": [
       "{'C': 1000, 'gamma': 0.001, 'kernel': 'rbf'}"
      ]
     },
     "execution_count": 62,
     "metadata": {},
     "output_type": "execute_result"
    }
   ],
   "source": [
    "grid.best_params_"
   ]
  },
  {
   "cell_type": "code",
   "execution_count": 63,
   "metadata": {},
   "outputs": [
    {
     "data": {
      "text/plain": [
       "SVC(C=1000, gamma=0.001)"
      ]
     },
     "execution_count": 63,
     "metadata": {},
     "output_type": "execute_result"
    }
   ],
   "source": [
    "grid.best_estimator_"
   ]
  },
  {
   "cell_type": "code",
   "execution_count": 64,
   "metadata": {},
   "outputs": [],
   "source": [
    "grid_predictions = grid.predict(X_test)"
   ]
  },
  {
   "cell_type": "code",
   "execution_count": 65,
   "metadata": {},
   "outputs": [
    {
     "name": "stdout",
     "output_type": "stream",
     "text": [
      "[[902  96]\n",
      " [375 150]]\n"
     ]
    }
   ],
   "source": [
    "print(confusion_matrix(y_test,grid_predictions))"
   ]
  },
  {
   "cell_type": "code",
   "execution_count": 66,
   "metadata": {},
   "outputs": [
    {
     "name": "stdout",
     "output_type": "stream",
     "text": [
      "              precision    recall  f1-score   support\n",
      "\n",
      "           0       0.71      0.90      0.79       998\n",
      "           1       0.61      0.29      0.39       525\n",
      "\n",
      "    accuracy                           0.69      1523\n",
      "   macro avg       0.66      0.59      0.59      1523\n",
      "weighted avg       0.67      0.69      0.65      1523\n",
      "\n"
     ]
    }
   ],
   "source": [
    "print(classification_report(y_test,grid_predictions))"
   ]
  },
  {
   "cell_type": "markdown",
   "metadata": {},
   "source": [
    "**Aplicando un modelo de Máquinas con vectores de soporte empleando el método gridsearch obtenemos un accuracy de 69%, teniendo una precision del 61% para detectar los casos positivos y 71% para detectar los casos negativos**"
   ]
  },
  {
   "cell_type": "markdown",
   "metadata": {},
   "source": [
    "### Se concluye que es preferible usar el modelo de clasificación de Regresión Logística puesto que consigue el accuracy más alto con un valor de 71% y ser uno de los mejores modelos en detectar los casos negativos con un 73% de precision, a pesar de que el modelo KNN detecta mejor los positivos con un 64% de precision"
   ]
  },
  {
   "cell_type": "markdown",
   "metadata": {},
   "source": [
    "## Aplicando CLUSTERING"
   ]
  },
  {
   "cell_type": "markdown",
   "metadata": {},
   "source": [
    "### Agrupamiento mediante K Means \n",
    "Al ser K Means un modelo no supervisado debemos eliminar del dataframe la etiqueta del resultado, en este caso sería la columna \"POSITIVO\""
   ]
  },
  {
   "cell_type": "code",
   "execution_count": 67,
   "metadata": {},
   "outputs": [],
   "source": [
    "df = df_cov.drop([\"POSITIVO\"],axis=1)"
   ]
  },
  {
   "cell_type": "markdown",
   "metadata": {},
   "source": [
    "Convertimos el dataframe a un arreglo usando el método to_numpy()"
   ]
  },
  {
   "cell_type": "code",
   "execution_count": 68,
   "metadata": {},
   "outputs": [
    {
     "data": {
      "text/plain": [
       "array([[45,  0,  1, ...,  0,  0,  1],\n",
       "       [67,  1,  1, ...,  0,  0,  0],\n",
       "       [61,  0,  0, ...,  0,  0,  1],\n",
       "       ...,\n",
       "       [37,  0,  0, ...,  0,  0,  1],\n",
       "       [28,  0,  0, ...,  0,  0,  1],\n",
       "       [27,  0,  0, ...,  0,  0,  1]], dtype=int64)"
      ]
     },
     "execution_count": 68,
     "metadata": {},
     "output_type": "execute_result"
    }
   ],
   "source": [
    "arreglo = df.to_numpy()\n",
    "arreglo"
   ]
  },
  {
   "cell_type": "markdown",
   "metadata": {},
   "source": [
    "### Creación de Clústeres"
   ]
  },
  {
   "cell_type": "code",
   "execution_count": 69,
   "metadata": {},
   "outputs": [],
   "source": [
    "from sklearn.cluster import KMeans"
   ]
  },
  {
   "cell_type": "code",
   "execution_count": 70,
   "metadata": {},
   "outputs": [],
   "source": [
    "kmeans = KMeans(n_clusters=2)"
   ]
  },
  {
   "cell_type": "code",
   "execution_count": 71,
   "metadata": {},
   "outputs": [
    {
     "data": {
      "text/plain": [
       "KMeans(n_clusters=2)"
      ]
     },
     "execution_count": 71,
     "metadata": {},
     "output_type": "execute_result"
    }
   ],
   "source": [
    "kmeans.fit(arreglo)"
   ]
  },
  {
   "cell_type": "code",
   "execution_count": 72,
   "metadata": {},
   "outputs": [
    {
     "data": {
      "text/plain": [
       "array([[4.09556475e+01, 2.63749261e-01, 3.04947763e-01, 4.30711610e-01,\n",
       "        4.63433866e-01, 2.08555096e-01, 1.19258821e-01, 8.16085157e-02,\n",
       "        5.10546028e-02, 3.07116105e-01, 9.65897891e-03, 1.33648729e-01,\n",
       "        2.12891780e-02, 1.28917800e-01, 3.23280110e-02, 2.90498719e+01,\n",
       "        2.83855707e-02, 4.92805046e-03, 5.91366056e-04, 3.94244037e-04,\n",
       "        1.28129312e-02, 1.59668835e-02, 1.26158092e-02, 1.28129312e-02,\n",
       "        2.20776661e-02, 9.85610093e-04, 2.12891780e-02, 1.61640055e-02,\n",
       "        9.85610093e-04, 9.85610093e-04, 1.37985413e-03, 2.95683028e-03,\n",
       "        0.00000000e+00, 5.91366056e-03, 4.53380643e-03, 5.34594914e-01],\n",
       "       [3.65000000e+01, 0.00000000e+00, 0.00000000e+00, 5.00000000e-01,\n",
       "        1.00000000e+00, 0.00000000e+00, 0.00000000e+00, 0.00000000e+00,\n",
       "        0.00000000e+00, 5.00000000e-01, 0.00000000e+00, 0.00000000e+00,\n",
       "        0.00000000e+00, 5.00000000e-01, 0.00000000e+00, 3.65550000e+03,\n",
       "        0.00000000e+00, 0.00000000e+00, 0.00000000e+00, 0.00000000e+00,\n",
       "        0.00000000e+00, 0.00000000e+00, 0.00000000e+00, 0.00000000e+00,\n",
       "        0.00000000e+00, 0.00000000e+00, 0.00000000e+00, 0.00000000e+00,\n",
       "        0.00000000e+00, 0.00000000e+00, 0.00000000e+00, 0.00000000e+00,\n",
       "        0.00000000e+00, 0.00000000e+00, 0.00000000e+00, 5.00000000e-01]])"
      ]
     },
     "execution_count": 72,
     "metadata": {},
     "output_type": "execute_result"
    }
   ],
   "source": [
    "kmeans.cluster_centers_"
   ]
  },
  {
   "cell_type": "code",
   "execution_count": 73,
   "metadata": {},
   "outputs": [
    {
     "data": {
      "text/plain": [
       "array([0, 0, 0, ..., 0, 0, 0])"
      ]
     },
     "execution_count": 73,
     "metadata": {},
     "output_type": "execute_result"
    }
   ],
   "source": [
    "kmeans.labels_"
   ]
  },
  {
   "cell_type": "code",
   "execution_count": 74,
   "metadata": {},
   "outputs": [
    {
     "data": {
      "text/plain": [
       "<matplotlib.collections.PathCollection at 0x2e209aee280>"
      ]
     },
     "execution_count": 74,
     "metadata": {},
     "output_type": "execute_result"
    },
    {
     "data": {
      "image/png": "[encoded data removed]",
      "text/plain": [
       "<Figure size 1080x432 with 1 Axes>"
      ]
     },
     "metadata": {},
     "output_type": "display_data"
    }
   ],
   "source": [
    "f, ax1 = plt.subplots(figsize=(15, 6))\n",
    "ax1.set_title('K Means')\n",
    "ax1.scatter(arreglo[:,0],arreglo[:,35],c=kmeans.labels_,cmap='rainbow')"
   ]
  },
  {
   "cell_type": "markdown",
   "metadata": {},
   "source": [
    "### Evaluamos como el modelo lo ha agrupado"
   ]
  },
  {
   "cell_type": "code",
   "execution_count": 75,
   "metadata": {},
   "outputs": [],
   "source": [
    "import collections"
   ]
  },
  {
   "cell_type": "code",
   "execution_count": 76,
   "metadata": {},
   "outputs": [
    {
     "data": {
      "text/plain": [
       "Counter({0: 5073, 1: 2})"
      ]
     },
     "execution_count": 76,
     "metadata": {},
     "output_type": "execute_result"
    }
   ],
   "source": [
    "collections.Counter(kmeans.labels_)"
   ]
  },
  {
   "cell_type": "code",
   "execution_count": 77,
   "metadata": {},
   "outputs": [],
   "source": [
    "from sklearn.metrics import classification_report, confusion_matrix"
   ]
  },
  {
   "cell_type": "code",
   "execution_count": 78,
   "metadata": {},
   "outputs": [
    {
     "name": "stdout",
     "output_type": "stream",
     "text": [
      "[[3342    2]\n",
      " [1731    0]]\n"
     ]
    }
   ],
   "source": [
    "print(confusion_matrix(df_cov[\"POSITIVO\"], kmeans.labels_))"
   ]
  },
  {
   "cell_type": "code",
   "execution_count": 79,
   "metadata": {},
   "outputs": [
    {
     "name": "stdout",
     "output_type": "stream",
     "text": [
      "              precision    recall  f1-score   support\n",
      "\n",
      "           0       0.66      1.00      0.79      3344\n",
      "           1       0.00      0.00      0.00      1731\n",
      "\n",
      "    accuracy                           0.66      5075\n",
      "   macro avg       0.33      0.50      0.40      5075\n",
      "weighted avg       0.43      0.66      0.52      5075\n",
      "\n"
     ]
    }
   ],
   "source": [
    "print(classification_report(df_cov[\"POSITIVO\"], kmeans.labels_))"
   ]
  },
  {
   "cell_type": "markdown",
   "metadata": {},
   "source": [
    "**Podemos ver que según el modelo tenemos un accuracy de 66%, teniendo un 66% de precision para identificar los casos negativos, sin embargo, la forma en como lo agrupo no funciona para identificar los casos positivos de covid-19**"
   ]
  },
  {
   "cell_type": "markdown",
   "metadata": {},
   "source": [
    "### Probamos otra vez creando un cluster, pero esta vez con los datos estandarizados"
   ]
  },
  {
   "cell_type": "code",
   "execution_count": 80,
   "metadata": {},
   "outputs": [],
   "source": [
    "from sklearn.preprocessing import StandardScaler"
   ]
  },
  {
   "cell_type": "code",
   "execution_count": 81,
   "metadata": {},
   "outputs": [],
   "source": [
    "scaler = StandardScaler()"
   ]
  },
  {
   "cell_type": "code",
   "execution_count": 94,
   "metadata": {},
   "outputs": [
    {
     "data": {
      "text/plain": [
       "StandardScaler()"
      ]
     },
     "execution_count": 94,
     "metadata": {},
     "output_type": "execute_result"
    }
   ],
   "source": [
    "scaler.fit(df)"
   ]
  },
  {
   "cell_type": "code",
   "execution_count": 95,
   "metadata": {},
   "outputs": [],
   "source": [
    "scaled_features = scaler.transform(df)"
   ]
  },
  {
   "cell_type": "code",
   "execution_count": 96,
   "metadata": {},
   "outputs": [
    {
     "data": {
      "text/html": [
       "<div>\n",
       "<style scoped>\n",
       "    .dataframe tbody tr th:only-of-type {\n",
       "        vertical-align: middle;\n",
       "    }\n",
       "\n",
       "    .dataframe tbody tr th {\n",
       "        vertical-align: top;\n",
       "    }\n",
       "\n",
       "    .dataframe thead th {\n",
       "        text-align: right;\n",
       "    }\n",
       "</style>\n",
       "<table border=\"1\" class=\"dataframe\">\n",
       "  <thead>\n",
       "    <tr style=\"text-align: right;\">\n",
       "      <th></th>\n",
       "      <th>edad</th>\n",
       "      <th>fiebre</th>\n",
       "      <th>malestar</th>\n",
       "      <th>tos</th>\n",
       "      <th>garganta</th>\n",
       "      <th>congestion</th>\n",
       "      <th>respiratoria</th>\n",
       "      <th>diarrea</th>\n",
       "      <th>nauseas</th>\n",
       "      <th>cefalea</th>\n",
       "      <th>...</th>\n",
       "      <th>cardiovascular</th>\n",
       "      <th>diabetes</th>\n",
       "      <th>hepatica</th>\n",
       "      <th>neurologica</th>\n",
       "      <th>inmunodeficiencia</th>\n",
       "      <th>renal</th>\n",
       "      <th>hepatico</th>\n",
       "      <th>pulmonar</th>\n",
       "      <th>cancer</th>\n",
       "      <th>MASCULINO</th>\n",
       "    </tr>\n",
       "  </thead>\n",
       "  <tbody>\n",
       "    <tr>\n",
       "      <th>0</th>\n",
       "      <td>0.256237</td>\n",
       "      <td>-0.598365</td>\n",
       "      <td>1.510147</td>\n",
       "      <td>-0.869864</td>\n",
       "      <td>-0.929752</td>\n",
       "      <td>1.948534</td>\n",
       "      <td>-0.367895</td>\n",
       "      <td>-0.298030</td>\n",
       "      <td>-0.231903</td>\n",
       "      <td>-0.665884</td>\n",
       "      <td>...</td>\n",
       "      <td>-0.147457</td>\n",
       "      <td>-0.128152</td>\n",
       "      <td>-0.031404</td>\n",
       "      <td>-0.031404</td>\n",
       "      <td>-0.037165</td>\n",
       "      <td>-0.054447</td>\n",
       "      <td>0.0</td>\n",
       "      <td>-0.077113</td>\n",
       "      <td>-0.067473</td>\n",
       "      <td>0.933072</td>\n",
       "    </tr>\n",
       "    <tr>\n",
       "      <th>1</th>\n",
       "      <td>1.649480</td>\n",
       "      <td>1.671219</td>\n",
       "      <td>1.510147</td>\n",
       "      <td>1.149605</td>\n",
       "      <td>-0.929752</td>\n",
       "      <td>-0.513206</td>\n",
       "      <td>-0.367895</td>\n",
       "      <td>-0.298030</td>\n",
       "      <td>-0.231903</td>\n",
       "      <td>1.501763</td>\n",
       "      <td>...</td>\n",
       "      <td>6.781647</td>\n",
       "      <td>7.803220</td>\n",
       "      <td>-0.031404</td>\n",
       "      <td>-0.031404</td>\n",
       "      <td>-0.037165</td>\n",
       "      <td>-0.054447</td>\n",
       "      <td>0.0</td>\n",
       "      <td>-0.077113</td>\n",
       "      <td>-0.067473</td>\n",
       "      <td>-1.071729</td>\n",
       "    </tr>\n",
       "    <tr>\n",
       "      <th>2</th>\n",
       "      <td>1.269505</td>\n",
       "      <td>-0.598365</td>\n",
       "      <td>-0.662187</td>\n",
       "      <td>1.149605</td>\n",
       "      <td>-0.929752</td>\n",
       "      <td>1.948534</td>\n",
       "      <td>-0.367895</td>\n",
       "      <td>3.355362</td>\n",
       "      <td>-0.231903</td>\n",
       "      <td>-0.665884</td>\n",
       "      <td>...</td>\n",
       "      <td>-0.147457</td>\n",
       "      <td>-0.128152</td>\n",
       "      <td>-0.031404</td>\n",
       "      <td>-0.031404</td>\n",
       "      <td>-0.037165</td>\n",
       "      <td>-0.054447</td>\n",
       "      <td>0.0</td>\n",
       "      <td>-0.077113</td>\n",
       "      <td>-0.067473</td>\n",
       "      <td>0.933072</td>\n",
       "    </tr>\n",
       "    <tr>\n",
       "      <th>3</th>\n",
       "      <td>-1.770299</td>\n",
       "      <td>-0.598365</td>\n",
       "      <td>1.510147</td>\n",
       "      <td>1.149605</td>\n",
       "      <td>1.075556</td>\n",
       "      <td>1.948534</td>\n",
       "      <td>-0.367895</td>\n",
       "      <td>-0.298030</td>\n",
       "      <td>-0.231903</td>\n",
       "      <td>-0.665884</td>\n",
       "      <td>...</td>\n",
       "      <td>-0.147457</td>\n",
       "      <td>-0.128152</td>\n",
       "      <td>-0.031404</td>\n",
       "      <td>-0.031404</td>\n",
       "      <td>-0.037165</td>\n",
       "      <td>-0.054447</td>\n",
       "      <td>0.0</td>\n",
       "      <td>-0.077113</td>\n",
       "      <td>-0.067473</td>\n",
       "      <td>0.933072</td>\n",
       "    </tr>\n",
       "    <tr>\n",
       "      <th>4</th>\n",
       "      <td>2.346102</td>\n",
       "      <td>-0.598365</td>\n",
       "      <td>-0.662187</td>\n",
       "      <td>1.149605</td>\n",
       "      <td>1.075556</td>\n",
       "      <td>1.948534</td>\n",
       "      <td>-0.367895</td>\n",
       "      <td>-0.298030</td>\n",
       "      <td>-0.231903</td>\n",
       "      <td>-0.665884</td>\n",
       "      <td>...</td>\n",
       "      <td>-0.147457</td>\n",
       "      <td>-0.128152</td>\n",
       "      <td>-0.031404</td>\n",
       "      <td>-0.031404</td>\n",
       "      <td>-0.037165</td>\n",
       "      <td>-0.054447</td>\n",
       "      <td>0.0</td>\n",
       "      <td>-0.077113</td>\n",
       "      <td>-0.067473</td>\n",
       "      <td>0.933072</td>\n",
       "    </tr>\n",
       "  </tbody>\n",
       "</table>\n",
       "<p>5 rows × 36 columns</p>\n",
       "</div>"
      ],
      "text/plain": [
       "       edad    fiebre  malestar       tos  garganta  congestion  respiratoria  \\\n",
       "0  0.256237 -0.598365  1.510147 -0.869864 -0.929752    1.948534     -0.367895   \n",
       "1  1.649480  1.671219  1.510147  1.149605 -0.929752   -0.513206     -0.367895   \n",
       "2  1.269505 -0.598365 -0.662187  1.149605 -0.929752    1.948534     -0.367895   \n",
       "3 -1.770299 -0.598365  1.510147  1.149605  1.075556    1.948534     -0.367895   \n",
       "4  2.346102 -0.598365 -0.662187  1.149605  1.075556    1.948534     -0.367895   \n",
       "\n",
       "    diarrea   nauseas   cefalea  ...  cardiovascular  diabetes  hepatica  \\\n",
       "0 -0.298030 -0.231903 -0.665884  ...       -0.147457 -0.128152 -0.031404   \n",
       "1 -0.298030 -0.231903  1.501763  ...        6.781647  7.803220 -0.031404   \n",
       "2  3.355362 -0.231903 -0.665884  ...       -0.147457 -0.128152 -0.031404   \n",
       "3 -0.298030 -0.231903 -0.665884  ...       -0.147457 -0.128152 -0.031404   \n",
       "4 -0.298030 -0.231903 -0.665884  ...       -0.147457 -0.128152 -0.031404   \n",
       "\n",
       "   neurologica  inmunodeficiencia     renal  hepatico  pulmonar    cancer  \\\n",
       "0    -0.031404          -0.037165 -0.054447       0.0 -0.077113 -0.067473   \n",
       "1    -0.031404          -0.037165 -0.054447       0.0 -0.077113 -0.067473   \n",
       "2    -0.031404          -0.037165 -0.054447       0.0 -0.077113 -0.067473   \n",
       "3    -0.031404          -0.037165 -0.054447       0.0 -0.077113 -0.067473   \n",
       "4    -0.031404          -0.037165 -0.054447       0.0 -0.077113 -0.067473   \n",
       "\n",
       "   MASCULINO  \n",
       "0   0.933072  \n",
       "1  -1.071729  \n",
       "2   0.933072  \n",
       "3   0.933072  \n",
       "4   0.933072  \n",
       "\n",
       "[5 rows x 36 columns]"
      ]
     },
     "execution_count": 96,
     "metadata": {},
     "output_type": "execute_result"
    }
   ],
   "source": [
    "data_scaled = pd.DataFrame(scaled_features,columns=df.columns)\n",
    "data_scaled.head()"
   ]
  },
  {
   "cell_type": "code",
   "execution_count": 97,
   "metadata": {},
   "outputs": [],
   "source": [
    "arreglo2 = data_scaled.to_numpy()"
   ]
  },
  {
   "cell_type": "code",
   "execution_count": 98,
   "metadata": {},
   "outputs": [],
   "source": [
    "kmeans2 = KMeans(n_clusters=2)"
   ]
  },
  {
   "cell_type": "code",
   "execution_count": 99,
   "metadata": {},
   "outputs": [
    {
     "data": {
      "text/plain": [
       "KMeans(n_clusters=2)"
      ]
     },
     "execution_count": 99,
     "metadata": {},
     "output_type": "execute_result"
    }
   ],
   "source": [
    "kmeans2.fit(arreglo2)"
   ]
  },
  {
   "cell_type": "code",
   "execution_count": 100,
   "metadata": {},
   "outputs": [
    {
     "data": {
      "text/plain": [
       "array([[-0.10881712, -0.50497029, -0.53482179, -0.59408062, -0.47625696,\n",
       "        -0.28818915, -0.27124489, -0.23150836, -0.19549781, -0.43854163,\n",
       "        -0.08011785, -0.33915849, -0.10960663, -0.29045652, -0.17244469,\n",
       "        -0.07823683, -0.13579697, -0.07035975, -0.00933788, -0.01985558,\n",
       "        -0.07827888, -0.1186382 , -0.09016835,  0.0480273 ,  0.02876396,\n",
       "         0.01502712, -0.05661639, -0.05883214, -0.01979601, -0.0081883 ,\n",
       "         0.00208426, -0.03432155,  0.        , -0.04861011, -0.04036457,\n",
       "         0.08617854],\n",
       "       [ 0.12830047,  0.59538361,  0.63057992,  0.70044886,  0.56152925,\n",
       "         0.33978849,  0.31981042,  0.27295919,  0.23050107,  0.51706111,\n",
       "         0.0944627 ,  0.39988373,  0.12923135,  0.34246183,  0.20332036,\n",
       "         0.09224488,  0.16011098,  0.08295744,  0.0110098 ,  0.02341066,\n",
       "         0.09229446,  0.13987999,  0.10631271, -0.05662643, -0.03391405,\n",
       "        -0.01771768,  0.06675338,  0.06936585,  0.02334042,  0.00965438,\n",
       "        -0.00245743,  0.04046671,  0.        ,  0.05731359,  0.04759172,\n",
       "        -0.10160854]])"
      ]
     },
     "execution_count": 100,
     "metadata": {},
     "output_type": "execute_result"
    }
   ],
   "source": [
    "kmeans2.cluster_centers_"
   ]
  },
  {
   "cell_type": "code",
   "execution_count": 101,
   "metadata": {},
   "outputs": [
    {
     "data": {
      "text/plain": [
       "array([0, 1, 1, ..., 0, 0, 0])"
      ]
     },
     "execution_count": 101,
     "metadata": {},
     "output_type": "execute_result"
    }
   ],
   "source": [
    "kmeans2.labels_"
   ]
  },
  {
   "cell_type": "code",
   "execution_count": 102,
   "metadata": {},
   "outputs": [
    {
     "data": {
      "text/plain": [
       "<matplotlib.collections.PathCollection at 0x2e20a427640>"
      ]
     },
     "execution_count": 102,
     "metadata": {},
     "output_type": "execute_result"
    },
    {
     "data": {
      "image/png": "[encoded data removed]",
      "text/plain": [
       "<Figure size 1080x432 with 1 Axes>"
      ]
     },
     "metadata": {},
     "output_type": "display_data"
    }
   ],
   "source": [
    "f, ax = plt.subplots(figsize=(15, 6))\n",
    "ax.set_title('K Means')\n",
    "ax.scatter(arreglo2[:,0],arreglo2[:,35],c=kmeans2.labels_,cmap='rainbow')"
   ]
  },
  {
   "cell_type": "markdown",
   "metadata": {},
   "source": [
    "### Evaluamos el nuevo cluster"
   ]
  },
  {
   "cell_type": "code",
   "execution_count": 103,
   "metadata": {},
   "outputs": [
    {
     "data": {
      "text/plain": [
       "Counter({0: 2750, 1: 2325})"
      ]
     },
     "execution_count": 103,
     "metadata": {},
     "output_type": "execute_result"
    }
   ],
   "source": [
    "collections.Counter(kmeans2.labels_)"
   ]
  },
  {
   "cell_type": "code",
   "execution_count": 104,
   "metadata": {},
   "outputs": [
    {
     "name": "stdout",
     "output_type": "stream",
     "text": [
      "[[2115 1229]\n",
      " [ 635 1096]]\n"
     ]
    }
   ],
   "source": [
    "print(confusion_matrix(df_cov['POSITIVO'], kmeans2.labels_))"
   ]
  },
  {
   "cell_type": "code",
   "execution_count": 105,
   "metadata": {},
   "outputs": [
    {
     "name": "stdout",
     "output_type": "stream",
     "text": [
      "              precision    recall  f1-score   support\n",
      "\n",
      "           0       0.77      0.63      0.69      3344\n",
      "           1       0.47      0.63      0.54      1731\n",
      "\n",
      "    accuracy                           0.63      5075\n",
      "   macro avg       0.62      0.63      0.62      5075\n",
      "weighted avg       0.67      0.63      0.64      5075\n",
      "\n"
     ]
    }
   ],
   "source": [
    "print(classification_report(df_cov['POSITIVO'], kmeans2.labels_))"
   ]
  },
  {
   "cell_type": "markdown",
   "metadata": {},
   "source": [
    "**Según la nueva agrupación de los datos que hemos obtenido, el modelo tiene un accuracy de 63% , teniendo una mejora en la precision que llega al 77% para identificar los casos negativos, asi como ya puede identificar los casos positivos pero con poca precision siendo esta de solo 47%**"
   ]
  }
 ],
 "metadata": {
  "kernelspec": {
   "display_name": "Python 3",
   "language": "python",
   "name": "python3"
  },
  "language_info": {
   "codemirror_mode": {
    "name": "ipython",
    "version": 3
   },
   "file_extension": ".py",
   "mimetype": "text/x-python",
   "name": "python",
   "nbconvert_exporter": "python",
   "pygments_lexer": "ipython3",
   "version": "3.8.5"
  }
 },
 "nbformat": 4,
 "nbformat_minor": 4
}
