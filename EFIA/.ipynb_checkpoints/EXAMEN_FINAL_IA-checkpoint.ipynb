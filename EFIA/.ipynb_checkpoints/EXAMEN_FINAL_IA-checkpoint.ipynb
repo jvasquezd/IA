{
 "cells": [
  {
   "cell_type": "markdown",
   "metadata": {
    "id": "bBLztKYdOXC6"
   },
   "source": [
    "## Alumna: Ximena Politi Bustamante\n",
    "### código: 16200072\n",
    "\n",
    "## Alumna: Mary Luz Quispe MAmani\n",
    "### código: 16200093"
   ]
  },
  {
   "cell_type": "code",
   "execution_count": null,
   "metadata": {
    "colab": {
     "base_uri": "https://localhost:8080/"
    },
    "id": "-ffwsVcU0CPz",
    "outputId": "e311845f-c659-4066-9fc6-d16f9fc98afd"
   },
   "outputs": [
    {
     "name": "stdout",
     "output_type": "stream",
     "text": [
      "Drive already mounted at /content/drive; to attempt to forcibly remount, call drive.mount(\"/content/drive\", force_remount=True).\n"
     ]
    }
   ],
   "source": [
    "from google.colab import drive\n",
    "drive.mount('/content/drive')"
   ]
  },
  {
   "cell_type": "code",
   "execution_count": null,
   "metadata": {
    "id": "wzFCqGQuRVkY"
   },
   "outputs": [],
   "source": [
    "import pandas as pd\n",
    "import numpy as np\n",
    "import matplotlib.pyplot as plt\n",
    "import seaborn as sns\n",
    "%matplotlib inline\n"
   ]
  },
  {
   "cell_type": "code",
   "execution_count": null,
   "metadata": {
    "id": "CsZ9Yf2YQ3Vr"
   },
   "outputs": [],
   "source": [
    "datos = pd.read_excel('/content/drive/MyDrive/IA/BD_coronavirus.xlsx')"
   ]
  },
  {
   "cell_type": "code",
   "execution_count": null,
   "metadata": {
    "colab": {
     "base_uri": "https://localhost:8080/"
    },
    "id": "jvJl7zEC0cvU",
    "outputId": "66bc4ea9-254a-484c-b559-1660b989acc1"
   },
   "outputs": [
    {
     "name": "stdout",
     "output_type": "stream",
     "text": [
      "<class 'pandas.core.frame.DataFrame'>\n",
      "RangeIndex: 93774 entries, 0 to 93773\n",
      "Data columns (total 47 columns):\n",
      " #   Column              Non-Null Count  Dtype \n",
      "---  ------              --------------  ----- \n",
      " 0   id                  93774 non-null  int64 \n",
      " 1   edad                93774 non-null  int64 \n",
      " 2   sexo                93774 non-null  object\n",
      " 3   fecha_ini           93774 non-null  object\n",
      " 4   hospitalizado       93774 non-null  object\n",
      " 5   evolucion           10054 non-null  object\n",
      " 6   fiebre              93774 non-null  int64 \n",
      " 7   malestar            93774 non-null  int64 \n",
      " 8   tos                 93774 non-null  int64 \n",
      " 9   garganta            93774 non-null  int64 \n",
      " 10  congestion          93774 non-null  int64 \n",
      " 11  respiratoria        93774 non-null  int64 \n",
      " 12  diarrea             93774 non-null  int64 \n",
      " 13  nauseas             93774 non-null  int64 \n",
      " 14  cefalea             93774 non-null  int64 \n",
      " 15  irritabilidad       93774 non-null  int64 \n",
      " 16  muscular            93774 non-null  int64 \n",
      " 17  abdominal           93774 non-null  int64 \n",
      " 18  pecho               93774 non-null  int64 \n",
      " 19  articulaciones      93774 non-null  int64 \n",
      " 20  otros_sintomas      4654 non-null   object\n",
      " 21  temperatura         93774 non-null  int64 \n",
      " 22  exudado             93774 non-null  int64 \n",
      " 23  conjuntival         93774 non-null  int64 \n",
      " 24  convulsion          93774 non-null  int64 \n",
      " 25  coma                93774 non-null  int64 \n",
      " 26  disnea              93774 non-null  int64 \n",
      " 27  auscultacion        93774 non-null  int64 \n",
      " 28  rxpulmonar          93774 non-null  int64 \n",
      " 29  otros_signos        5652 non-null   object\n",
      " 30  embarazo            93774 non-null  int64 \n",
      " 31  trimestre           93774 non-null  int64 \n",
      " 32  postparto           93774 non-null  int64 \n",
      " 33  cardiovascular      93774 non-null  int64 \n",
      " 34  diabetes            93774 non-null  int64 \n",
      " 35  hepatica            93774 non-null  int64 \n",
      " 36  neurologica         93774 non-null  int64 \n",
      " 37  inmunodeficiencia   93774 non-null  int64 \n",
      " 38  renal               93774 non-null  int64 \n",
      " 39  hepatico            93774 non-null  int64 \n",
      " 40  pulmonar            93774 non-null  int64 \n",
      " 41  cancer              93774 non-null  int64 \n",
      " 42  otros_comorbilidad  11061 non-null  object\n",
      " 43  fecha_mue           93774 non-null  object\n",
      " 44  muestra             6629 non-null   object\n",
      " 45  prueba              6129 non-null   object\n",
      " 46  resultado           5075 non-null   object\n",
      "dtypes: int64(36), object(11)\n",
      "memory usage: 33.6+ MB\n"
     ]
    }
   ],
   "source": [
    "# Podemos notar que son 46 atributos y tenemos 93774 entradas\n",
    "datos.info()"
   ]
  },
  {
   "cell_type": "code",
   "execution_count": null,
   "metadata": {
    "colab": {
     "base_uri": "https://localhost:8080/",
     "height": 377
    },
    "id": "-TQHxGTQ0hhf",
    "outputId": "3232b5c0-a04a-4ecc-a942-e09b634a0065"
   },
   "outputs": [
    {
     "data": {
      "text/html": [
       "<div>\n",
       "<style scoped>\n",
       "    .dataframe tbody tr th:only-of-type {\n",
       "        vertical-align: middle;\n",
       "    }\n",
       "\n",
       "    .dataframe tbody tr th {\n",
       "        vertical-align: top;\n",
       "    }\n",
       "\n",
       "    .dataframe thead th {\n",
       "        text-align: right;\n",
       "    }\n",
       "</style>\n",
       "<table border=\"1\" class=\"dataframe\">\n",
       "  <thead>\n",
       "    <tr style=\"text-align: right;\">\n",
       "      <th></th>\n",
       "      <th>id</th>\n",
       "      <th>edad</th>\n",
       "      <th>sexo</th>\n",
       "      <th>fecha_ini</th>\n",
       "      <th>hospitalizado</th>\n",
       "      <th>evolucion</th>\n",
       "      <th>fiebre</th>\n",
       "      <th>malestar</th>\n",
       "      <th>tos</th>\n",
       "      <th>garganta</th>\n",
       "      <th>congestion</th>\n",
       "      <th>respiratoria</th>\n",
       "      <th>diarrea</th>\n",
       "      <th>nauseas</th>\n",
       "      <th>cefalea</th>\n",
       "      <th>irritabilidad</th>\n",
       "      <th>muscular</th>\n",
       "      <th>abdominal</th>\n",
       "      <th>pecho</th>\n",
       "      <th>articulaciones</th>\n",
       "      <th>otros_sintomas</th>\n",
       "      <th>temperatura</th>\n",
       "      <th>exudado</th>\n",
       "      <th>conjuntival</th>\n",
       "      <th>convulsion</th>\n",
       "      <th>coma</th>\n",
       "      <th>disnea</th>\n",
       "      <th>auscultacion</th>\n",
       "      <th>rxpulmonar</th>\n",
       "      <th>otros_signos</th>\n",
       "      <th>embarazo</th>\n",
       "      <th>trimestre</th>\n",
       "      <th>postparto</th>\n",
       "      <th>cardiovascular</th>\n",
       "      <th>diabetes</th>\n",
       "      <th>hepatica</th>\n",
       "      <th>neurologica</th>\n",
       "      <th>inmunodeficiencia</th>\n",
       "      <th>renal</th>\n",
       "      <th>hepatico</th>\n",
       "      <th>pulmonar</th>\n",
       "      <th>cancer</th>\n",
       "      <th>otros_comorbilidad</th>\n",
       "      <th>fecha_mue</th>\n",
       "      <th>muestra</th>\n",
       "      <th>prueba</th>\n",
       "      <th>resultado</th>\n",
       "    </tr>\n",
       "  </thead>\n",
       "  <tbody>\n",
       "    <tr>\n",
       "      <th>0</th>\n",
       "      <td>1</td>\n",
       "      <td>40</td>\n",
       "      <td>MASCULINO</td>\n",
       "      <td>17-04-2020</td>\n",
       "      <td>NO</td>\n",
       "      <td>NaN</td>\n",
       "      <td>0</td>\n",
       "      <td>1</td>\n",
       "      <td>1</td>\n",
       "      <td>1</td>\n",
       "      <td>1</td>\n",
       "      <td>1</td>\n",
       "      <td>0</td>\n",
       "      <td>0</td>\n",
       "      <td>0</td>\n",
       "      <td>0</td>\n",
       "      <td>1</td>\n",
       "      <td>0</td>\n",
       "      <td>0</td>\n",
       "      <td>0</td>\n",
       "      <td>NaN</td>\n",
       "      <td>38</td>\n",
       "      <td>0</td>\n",
       "      <td>0</td>\n",
       "      <td>0</td>\n",
       "      <td>0</td>\n",
       "      <td>0</td>\n",
       "      <td>0</td>\n",
       "      <td>0</td>\n",
       "      <td>NaN</td>\n",
       "      <td>0</td>\n",
       "      <td>0</td>\n",
       "      <td>0</td>\n",
       "      <td>0</td>\n",
       "      <td>0</td>\n",
       "      <td>0</td>\n",
       "      <td>0</td>\n",
       "      <td>0</td>\n",
       "      <td>0</td>\n",
       "      <td>0</td>\n",
       "      <td>0</td>\n",
       "      <td>0</td>\n",
       "      <td>NaN</td>\n",
       "      <td>00-00-0000</td>\n",
       "      <td>NaN</td>\n",
       "      <td>NaN</td>\n",
       "      <td>NaN</td>\n",
       "    </tr>\n",
       "    <tr>\n",
       "      <th>1</th>\n",
       "      <td>539</td>\n",
       "      <td>18</td>\n",
       "      <td>FEMENINO</td>\n",
       "      <td>04-09-2020</td>\n",
       "      <td>NO</td>\n",
       "      <td>NaN</td>\n",
       "      <td>1</td>\n",
       "      <td>1</td>\n",
       "      <td>1</td>\n",
       "      <td>0</td>\n",
       "      <td>0</td>\n",
       "      <td>0</td>\n",
       "      <td>0</td>\n",
       "      <td>0</td>\n",
       "      <td>0</td>\n",
       "      <td>0</td>\n",
       "      <td>1</td>\n",
       "      <td>1</td>\n",
       "      <td>1</td>\n",
       "      <td>1</td>\n",
       "      <td>NaN</td>\n",
       "      <td>38</td>\n",
       "      <td>0</td>\n",
       "      <td>0</td>\n",
       "      <td>0</td>\n",
       "      <td>0</td>\n",
       "      <td>0</td>\n",
       "      <td>0</td>\n",
       "      <td>0</td>\n",
       "      <td>NaN</td>\n",
       "      <td>0</td>\n",
       "      <td>0</td>\n",
       "      <td>0</td>\n",
       "      <td>0</td>\n",
       "      <td>0</td>\n",
       "      <td>0</td>\n",
       "      <td>0</td>\n",
       "      <td>0</td>\n",
       "      <td>0</td>\n",
       "      <td>0</td>\n",
       "      <td>0</td>\n",
       "      <td>0</td>\n",
       "      <td>NaN</td>\n",
       "      <td>10-03-2020</td>\n",
       "      <td>HISOPADO NASAL Y FARINGEO</td>\n",
       "      <td>NaN</td>\n",
       "      <td>NaN</td>\n",
       "    </tr>\n",
       "    <tr>\n",
       "      <th>2</th>\n",
       "      <td>681</td>\n",
       "      <td>45</td>\n",
       "      <td>MASCULINO</td>\n",
       "      <td>02-03-2020</td>\n",
       "      <td>SI</td>\n",
       "      <td>RECUPERADO</td>\n",
       "      <td>0</td>\n",
       "      <td>1</td>\n",
       "      <td>0</td>\n",
       "      <td>0</td>\n",
       "      <td>1</td>\n",
       "      <td>0</td>\n",
       "      <td>0</td>\n",
       "      <td>0</td>\n",
       "      <td>0</td>\n",
       "      <td>0</td>\n",
       "      <td>0</td>\n",
       "      <td>0</td>\n",
       "      <td>0</td>\n",
       "      <td>0</td>\n",
       "      <td>NaN</td>\n",
       "      <td>36</td>\n",
       "      <td>0</td>\n",
       "      <td>0</td>\n",
       "      <td>0</td>\n",
       "      <td>0</td>\n",
       "      <td>0</td>\n",
       "      <td>0</td>\n",
       "      <td>0</td>\n",
       "      <td>NaN</td>\n",
       "      <td>0</td>\n",
       "      <td>0</td>\n",
       "      <td>0</td>\n",
       "      <td>0</td>\n",
       "      <td>0</td>\n",
       "      <td>0</td>\n",
       "      <td>0</td>\n",
       "      <td>0</td>\n",
       "      <td>0</td>\n",
       "      <td>0</td>\n",
       "      <td>0</td>\n",
       "      <td>0</td>\n",
       "      <td>NaN</td>\n",
       "      <td>04-03-2020</td>\n",
       "      <td>HISOPADO NASAL Y FARINGEO</td>\n",
       "      <td>PCR-RT</td>\n",
       "      <td>NEGATIVO</td>\n",
       "    </tr>\n",
       "    <tr>\n",
       "      <th>3</th>\n",
       "      <td>692</td>\n",
       "      <td>69</td>\n",
       "      <td>MASCULINO</td>\n",
       "      <td>02-03-2020</td>\n",
       "      <td>NO</td>\n",
       "      <td>RECUPERADO</td>\n",
       "      <td>1</td>\n",
       "      <td>1</td>\n",
       "      <td>1</td>\n",
       "      <td>0</td>\n",
       "      <td>1</td>\n",
       "      <td>1</td>\n",
       "      <td>0</td>\n",
       "      <td>0</td>\n",
       "      <td>0</td>\n",
       "      <td>0</td>\n",
       "      <td>0</td>\n",
       "      <td>0</td>\n",
       "      <td>1</td>\n",
       "      <td>0</td>\n",
       "      <td>NaN</td>\n",
       "      <td>37</td>\n",
       "      <td>0</td>\n",
       "      <td>0</td>\n",
       "      <td>0</td>\n",
       "      <td>0</td>\n",
       "      <td>0</td>\n",
       "      <td>0</td>\n",
       "      <td>0</td>\n",
       "      <td>NaN</td>\n",
       "      <td>0</td>\n",
       "      <td>0</td>\n",
       "      <td>0</td>\n",
       "      <td>0</td>\n",
       "      <td>0</td>\n",
       "      <td>0</td>\n",
       "      <td>0</td>\n",
       "      <td>0</td>\n",
       "      <td>0</td>\n",
       "      <td>0</td>\n",
       "      <td>0</td>\n",
       "      <td>0</td>\n",
       "      <td>asma</td>\n",
       "      <td>12-03-2020</td>\n",
       "      <td>HISOPADO NASAL Y FARINGEO</td>\n",
       "      <td>NaN</td>\n",
       "      <td>NaN</td>\n",
       "    </tr>\n",
       "    <tr>\n",
       "      <th>4</th>\n",
       "      <td>696</td>\n",
       "      <td>67</td>\n",
       "      <td>FEMENINO</td>\n",
       "      <td>10-03-2020</td>\n",
       "      <td>NO</td>\n",
       "      <td>DESCONOCIDO</td>\n",
       "      <td>1</td>\n",
       "      <td>1</td>\n",
       "      <td>1</td>\n",
       "      <td>0</td>\n",
       "      <td>0</td>\n",
       "      <td>0</td>\n",
       "      <td>0</td>\n",
       "      <td>0</td>\n",
       "      <td>1</td>\n",
       "      <td>0</td>\n",
       "      <td>0</td>\n",
       "      <td>0</td>\n",
       "      <td>0</td>\n",
       "      <td>1</td>\n",
       "      <td>NaN</td>\n",
       "      <td>37</td>\n",
       "      <td>0</td>\n",
       "      <td>0</td>\n",
       "      <td>0</td>\n",
       "      <td>0</td>\n",
       "      <td>0</td>\n",
       "      <td>0</td>\n",
       "      <td>0</td>\n",
       "      <td>NaN</td>\n",
       "      <td>0</td>\n",
       "      <td>0</td>\n",
       "      <td>0</td>\n",
       "      <td>1</td>\n",
       "      <td>1</td>\n",
       "      <td>0</td>\n",
       "      <td>0</td>\n",
       "      <td>0</td>\n",
       "      <td>0</td>\n",
       "      <td>0</td>\n",
       "      <td>0</td>\n",
       "      <td>0</td>\n",
       "      <td>NaN</td>\n",
       "      <td>12-03-2020</td>\n",
       "      <td>HISOPADO NASAL Y FARINGEO</td>\n",
       "      <td>PCR</td>\n",
       "      <td>NEGATIVO</td>\n",
       "    </tr>\n",
       "  </tbody>\n",
       "</table>\n",
       "</div>"
      ],
      "text/plain": [
       "    id  edad       sexo  ...                    muestra  prueba resultado\n",
       "0    1    40  MASCULINO  ...                        NaN     NaN       NaN\n",
       "1  539    18   FEMENINO  ...  HISOPADO NASAL Y FARINGEO     NaN       NaN\n",
       "2  681    45  MASCULINO  ...  HISOPADO NASAL Y FARINGEO  PCR-RT  NEGATIVO\n",
       "3  692    69  MASCULINO  ...  HISOPADO NASAL Y FARINGEO     NaN       NaN\n",
       "4  696    67   FEMENINO  ...  HISOPADO NASAL Y FARINGEO     PCR  NEGATIVO\n",
       "\n",
       "[5 rows x 47 columns]"
      ]
     },
     "execution_count": 111,
     "metadata": {
      "tags": []
     },
     "output_type": "execute_result"
    }
   ],
   "source": [
    "# Podemos ver las 5 primeras entradas\n",
    "datos.head()"
   ]
  },
  {
   "cell_type": "code",
   "execution_count": null,
   "metadata": {
    "colab": {
     "base_uri": "https://localhost:8080/",
     "height": 317
    },
    "id": "Ve5QHGfO0mWR",
    "outputId": "8eeb8115-48d4-40ca-c50d-ec0db9b38140"
   },
   "outputs": [
    {
     "data": {
      "text/html": [
       "<div>\n",
       "<style scoped>\n",
       "    .dataframe tbody tr th:only-of-type {\n",
       "        vertical-align: middle;\n",
       "    }\n",
       "\n",
       "    .dataframe tbody tr th {\n",
       "        vertical-align: top;\n",
       "    }\n",
       "\n",
       "    .dataframe thead th {\n",
       "        text-align: right;\n",
       "    }\n",
       "</style>\n",
       "<table border=\"1\" class=\"dataframe\">\n",
       "  <thead>\n",
       "    <tr style=\"text-align: right;\">\n",
       "      <th></th>\n",
       "      <th>id</th>\n",
       "      <th>edad</th>\n",
       "      <th>fiebre</th>\n",
       "      <th>malestar</th>\n",
       "      <th>tos</th>\n",
       "      <th>garganta</th>\n",
       "      <th>congestion</th>\n",
       "      <th>respiratoria</th>\n",
       "      <th>diarrea</th>\n",
       "      <th>nauseas</th>\n",
       "      <th>cefalea</th>\n",
       "      <th>irritabilidad</th>\n",
       "      <th>muscular</th>\n",
       "      <th>abdominal</th>\n",
       "      <th>pecho</th>\n",
       "      <th>articulaciones</th>\n",
       "      <th>temperatura</th>\n",
       "      <th>exudado</th>\n",
       "      <th>conjuntival</th>\n",
       "      <th>convulsion</th>\n",
       "      <th>coma</th>\n",
       "      <th>disnea</th>\n",
       "      <th>auscultacion</th>\n",
       "      <th>rxpulmonar</th>\n",
       "      <th>embarazo</th>\n",
       "      <th>trimestre</th>\n",
       "      <th>postparto</th>\n",
       "      <th>cardiovascular</th>\n",
       "      <th>diabetes</th>\n",
       "      <th>hepatica</th>\n",
       "      <th>neurologica</th>\n",
       "      <th>inmunodeficiencia</th>\n",
       "      <th>renal</th>\n",
       "      <th>hepatico</th>\n",
       "      <th>pulmonar</th>\n",
       "      <th>cancer</th>\n",
       "    </tr>\n",
       "  </thead>\n",
       "  <tbody>\n",
       "    <tr>\n",
       "      <th>count</th>\n",
       "      <td>9.377400e+04</td>\n",
       "      <td>93774.000000</td>\n",
       "      <td>93774.000000</td>\n",
       "      <td>93774.000000</td>\n",
       "      <td>93774.000000</td>\n",
       "      <td>93774.000000</td>\n",
       "      <td>93774.000000</td>\n",
       "      <td>93774.000000</td>\n",
       "      <td>93774.000000</td>\n",
       "      <td>93774.000000</td>\n",
       "      <td>93774.000000</td>\n",
       "      <td>93774.000000</td>\n",
       "      <td>93774.000000</td>\n",
       "      <td>93774.000000</td>\n",
       "      <td>93774.000000</td>\n",
       "      <td>93774.000000</td>\n",
       "      <td>9.377400e+04</td>\n",
       "      <td>93774.000000</td>\n",
       "      <td>93774.000000</td>\n",
       "      <td>93774.000000</td>\n",
       "      <td>93774.000000</td>\n",
       "      <td>93774.000000</td>\n",
       "      <td>93774.000000</td>\n",
       "      <td>93774.000000</td>\n",
       "      <td>93774.000000</td>\n",
       "      <td>93774.000000</td>\n",
       "      <td>93774.000000</td>\n",
       "      <td>93774.000000</td>\n",
       "      <td>93774.000000</td>\n",
       "      <td>93774.000000</td>\n",
       "      <td>93774.000000</td>\n",
       "      <td>93774.000000</td>\n",
       "      <td>93774.000000</td>\n",
       "      <td>93774.000000</td>\n",
       "      <td>93774.000000</td>\n",
       "      <td>93774.000000</td>\n",
       "    </tr>\n",
       "    <tr>\n",
       "      <th>mean</th>\n",
       "      <td>1.272521e+06</td>\n",
       "      <td>40.055847</td>\n",
       "      <td>0.162966</td>\n",
       "      <td>0.192409</td>\n",
       "      <td>0.259134</td>\n",
       "      <td>0.254068</td>\n",
       "      <td>0.107578</td>\n",
       "      <td>0.080235</td>\n",
       "      <td>0.057244</td>\n",
       "      <td>0.038678</td>\n",
       "      <td>0.168085</td>\n",
       "      <td>0.007273</td>\n",
       "      <td>0.070702</td>\n",
       "      <td>0.014268</td>\n",
       "      <td>0.060454</td>\n",
       "      <td>0.014834</td>\n",
       "      <td>1.055144e+04</td>\n",
       "      <td>0.011901</td>\n",
       "      <td>0.002943</td>\n",
       "      <td>0.000480</td>\n",
       "      <td>0.000107</td>\n",
       "      <td>0.007838</td>\n",
       "      <td>0.011122</td>\n",
       "      <td>0.004170</td>\n",
       "      <td>0.030520</td>\n",
       "      <td>0.054429</td>\n",
       "      <td>0.000821</td>\n",
       "      <td>0.015815</td>\n",
       "      <td>0.014791</td>\n",
       "      <td>0.001290</td>\n",
       "      <td>0.001024</td>\n",
       "      <td>0.000821</td>\n",
       "      <td>0.002986</td>\n",
       "      <td>0.000395</td>\n",
       "      <td>0.002698</td>\n",
       "      <td>0.003125</td>\n",
       "    </tr>\n",
       "    <tr>\n",
       "      <th>std</th>\n",
       "      <td>8.312877e+05</td>\n",
       "      <td>16.947560</td>\n",
       "      <td>0.369337</td>\n",
       "      <td>0.394195</td>\n",
       "      <td>0.438161</td>\n",
       "      <td>0.435339</td>\n",
       "      <td>0.309848</td>\n",
       "      <td>0.271659</td>\n",
       "      <td>0.232310</td>\n",
       "      <td>0.192828</td>\n",
       "      <td>0.373944</td>\n",
       "      <td>0.084971</td>\n",
       "      <td>0.256328</td>\n",
       "      <td>0.118596</td>\n",
       "      <td>0.238327</td>\n",
       "      <td>0.120887</td>\n",
       "      <td>3.154660e+06</td>\n",
       "      <td>0.108441</td>\n",
       "      <td>0.054172</td>\n",
       "      <td>0.021901</td>\n",
       "      <td>0.010326</td>\n",
       "      <td>0.088185</td>\n",
       "      <td>0.104876</td>\n",
       "      <td>0.064438</td>\n",
       "      <td>0.172015</td>\n",
       "      <td>1.336563</td>\n",
       "      <td>0.028644</td>\n",
       "      <td>0.124758</td>\n",
       "      <td>0.120716</td>\n",
       "      <td>0.035898</td>\n",
       "      <td>0.031980</td>\n",
       "      <td>0.028644</td>\n",
       "      <td>0.054562</td>\n",
       "      <td>0.019860</td>\n",
       "      <td>0.051872</td>\n",
       "      <td>0.055810</td>\n",
       "    </tr>\n",
       "    <tr>\n",
       "      <th>min</th>\n",
       "      <td>1.000000e+00</td>\n",
       "      <td>0.000000</td>\n",
       "      <td>0.000000</td>\n",
       "      <td>0.000000</td>\n",
       "      <td>0.000000</td>\n",
       "      <td>0.000000</td>\n",
       "      <td>0.000000</td>\n",
       "      <td>0.000000</td>\n",
       "      <td>0.000000</td>\n",
       "      <td>0.000000</td>\n",
       "      <td>0.000000</td>\n",
       "      <td>0.000000</td>\n",
       "      <td>0.000000</td>\n",
       "      <td>0.000000</td>\n",
       "      <td>0.000000</td>\n",
       "      <td>0.000000</td>\n",
       "      <td>0.000000e+00</td>\n",
       "      <td>0.000000</td>\n",
       "      <td>0.000000</td>\n",
       "      <td>0.000000</td>\n",
       "      <td>0.000000</td>\n",
       "      <td>0.000000</td>\n",
       "      <td>0.000000</td>\n",
       "      <td>0.000000</td>\n",
       "      <td>0.000000</td>\n",
       "      <td>0.000000</td>\n",
       "      <td>0.000000</td>\n",
       "      <td>0.000000</td>\n",
       "      <td>0.000000</td>\n",
       "      <td>0.000000</td>\n",
       "      <td>0.000000</td>\n",
       "      <td>0.000000</td>\n",
       "      <td>0.000000</td>\n",
       "      <td>0.000000</td>\n",
       "      <td>0.000000</td>\n",
       "      <td>0.000000</td>\n",
       "    </tr>\n",
       "    <tr>\n",
       "      <th>25%</th>\n",
       "      <td>5.310875e+05</td>\n",
       "      <td>28.000000</td>\n",
       "      <td>0.000000</td>\n",
       "      <td>0.000000</td>\n",
       "      <td>0.000000</td>\n",
       "      <td>0.000000</td>\n",
       "      <td>0.000000</td>\n",
       "      <td>0.000000</td>\n",
       "      <td>0.000000</td>\n",
       "      <td>0.000000</td>\n",
       "      <td>0.000000</td>\n",
       "      <td>0.000000</td>\n",
       "      <td>0.000000</td>\n",
       "      <td>0.000000</td>\n",
       "      <td>0.000000</td>\n",
       "      <td>0.000000</td>\n",
       "      <td>0.000000e+00</td>\n",
       "      <td>0.000000</td>\n",
       "      <td>0.000000</td>\n",
       "      <td>0.000000</td>\n",
       "      <td>0.000000</td>\n",
       "      <td>0.000000</td>\n",
       "      <td>0.000000</td>\n",
       "      <td>0.000000</td>\n",
       "      <td>0.000000</td>\n",
       "      <td>0.000000</td>\n",
       "      <td>0.000000</td>\n",
       "      <td>0.000000</td>\n",
       "      <td>0.000000</td>\n",
       "      <td>0.000000</td>\n",
       "      <td>0.000000</td>\n",
       "      <td>0.000000</td>\n",
       "      <td>0.000000</td>\n",
       "      <td>0.000000</td>\n",
       "      <td>0.000000</td>\n",
       "      <td>0.000000</td>\n",
       "    </tr>\n",
       "    <tr>\n",
       "      <th>50%</th>\n",
       "      <td>1.142626e+06</td>\n",
       "      <td>38.000000</td>\n",
       "      <td>0.000000</td>\n",
       "      <td>0.000000</td>\n",
       "      <td>0.000000</td>\n",
       "      <td>0.000000</td>\n",
       "      <td>0.000000</td>\n",
       "      <td>0.000000</td>\n",
       "      <td>0.000000</td>\n",
       "      <td>0.000000</td>\n",
       "      <td>0.000000</td>\n",
       "      <td>0.000000</td>\n",
       "      <td>0.000000</td>\n",
       "      <td>0.000000</td>\n",
       "      <td>0.000000</td>\n",
       "      <td>0.000000</td>\n",
       "      <td>3.600000e+01</td>\n",
       "      <td>0.000000</td>\n",
       "      <td>0.000000</td>\n",
       "      <td>0.000000</td>\n",
       "      <td>0.000000</td>\n",
       "      <td>0.000000</td>\n",
       "      <td>0.000000</td>\n",
       "      <td>0.000000</td>\n",
       "      <td>0.000000</td>\n",
       "      <td>0.000000</td>\n",
       "      <td>0.000000</td>\n",
       "      <td>0.000000</td>\n",
       "      <td>0.000000</td>\n",
       "      <td>0.000000</td>\n",
       "      <td>0.000000</td>\n",
       "      <td>0.000000</td>\n",
       "      <td>0.000000</td>\n",
       "      <td>0.000000</td>\n",
       "      <td>0.000000</td>\n",
       "      <td>0.000000</td>\n",
       "    </tr>\n",
       "    <tr>\n",
       "      <th>75%</th>\n",
       "      <td>2.058179e+06</td>\n",
       "      <td>51.000000</td>\n",
       "      <td>0.000000</td>\n",
       "      <td>0.000000</td>\n",
       "      <td>1.000000</td>\n",
       "      <td>1.000000</td>\n",
       "      <td>0.000000</td>\n",
       "      <td>0.000000</td>\n",
       "      <td>0.000000</td>\n",
       "      <td>0.000000</td>\n",
       "      <td>0.000000</td>\n",
       "      <td>0.000000</td>\n",
       "      <td>0.000000</td>\n",
       "      <td>0.000000</td>\n",
       "      <td>0.000000</td>\n",
       "      <td>0.000000</td>\n",
       "      <td>3.700000e+01</td>\n",
       "      <td>0.000000</td>\n",
       "      <td>0.000000</td>\n",
       "      <td>0.000000</td>\n",
       "      <td>0.000000</td>\n",
       "      <td>0.000000</td>\n",
       "      <td>0.000000</td>\n",
       "      <td>0.000000</td>\n",
       "      <td>0.000000</td>\n",
       "      <td>0.000000</td>\n",
       "      <td>0.000000</td>\n",
       "      <td>0.000000</td>\n",
       "      <td>0.000000</td>\n",
       "      <td>0.000000</td>\n",
       "      <td>0.000000</td>\n",
       "      <td>0.000000</td>\n",
       "      <td>0.000000</td>\n",
       "      <td>0.000000</td>\n",
       "      <td>0.000000</td>\n",
       "      <td>0.000000</td>\n",
       "    </tr>\n",
       "    <tr>\n",
       "      <th>max</th>\n",
       "      <td>2.775205e+06</td>\n",
       "      <td>104.000000</td>\n",
       "      <td>1.000000</td>\n",
       "      <td>1.000000</td>\n",
       "      <td>1.000000</td>\n",
       "      <td>1.000000</td>\n",
       "      <td>1.000000</td>\n",
       "      <td>1.000000</td>\n",
       "      <td>1.000000</td>\n",
       "      <td>1.000000</td>\n",
       "      <td>1.000000</td>\n",
       "      <td>1.000000</td>\n",
       "      <td>1.000000</td>\n",
       "      <td>1.000000</td>\n",
       "      <td>1.000000</td>\n",
       "      <td>1.000000</td>\n",
       "      <td>9.658152e+08</td>\n",
       "      <td>1.000000</td>\n",
       "      <td>1.000000</td>\n",
       "      <td>1.000000</td>\n",
       "      <td>1.000000</td>\n",
       "      <td>1.000000</td>\n",
       "      <td>1.000000</td>\n",
       "      <td>1.000000</td>\n",
       "      <td>1.000000</td>\n",
       "      <td>295.000000</td>\n",
       "      <td>1.000000</td>\n",
       "      <td>1.000000</td>\n",
       "      <td>1.000000</td>\n",
       "      <td>1.000000</td>\n",
       "      <td>1.000000</td>\n",
       "      <td>1.000000</td>\n",
       "      <td>1.000000</td>\n",
       "      <td>1.000000</td>\n",
       "      <td>1.000000</td>\n",
       "      <td>1.000000</td>\n",
       "    </tr>\n",
       "  </tbody>\n",
       "</table>\n",
       "</div>"
      ],
      "text/plain": [
       "                 id          edad  ...      pulmonar        cancer\n",
       "count  9.377400e+04  93774.000000  ...  93774.000000  93774.000000\n",
       "mean   1.272521e+06     40.055847  ...      0.002698      0.003125\n",
       "std    8.312877e+05     16.947560  ...      0.051872      0.055810\n",
       "min    1.000000e+00      0.000000  ...      0.000000      0.000000\n",
       "25%    5.310875e+05     28.000000  ...      0.000000      0.000000\n",
       "50%    1.142626e+06     38.000000  ...      0.000000      0.000000\n",
       "75%    2.058179e+06     51.000000  ...      0.000000      0.000000\n",
       "max    2.775205e+06    104.000000  ...      1.000000      1.000000\n",
       "\n",
       "[8 rows x 36 columns]"
      ]
     },
     "execution_count": 112,
     "metadata": {
      "tags": []
     },
     "output_type": "execute_result"
    }
   ],
   "source": [
    "datos.describe()"
   ]
  },
  {
   "cell_type": "code",
   "execution_count": null,
   "metadata": {
    "colab": {
     "base_uri": "https://localhost:8080/"
    },
    "id": "M_a7Udui0r9L",
    "outputId": "900fd99c-2288-46d2-8aca-9576c69a5966"
   },
   "outputs": [
    {
     "data": {
      "text/plain": [
       "Index(['id', 'edad', 'sexo', 'fecha_ini', 'hospitalizado', 'evolucion',\n",
       "       'fiebre', 'malestar', 'tos', 'garganta', 'congestion', 'respiratoria',\n",
       "       'diarrea', 'nauseas', 'cefalea', 'irritabilidad', 'muscular',\n",
       "       'abdominal', 'pecho', 'articulaciones', 'otros_sintomas', 'temperatura',\n",
       "       'exudado', 'conjuntival', 'convulsion', 'coma', 'disnea',\n",
       "       'auscultacion', 'rxpulmonar', 'otros_signos', 'embarazo', 'trimestre',\n",
       "       'postparto', 'cardiovascular', 'diabetes', 'hepatica', 'neurologica',\n",
       "       'inmunodeficiencia', 'renal', 'hepatico', 'pulmonar', 'cancer',\n",
       "       'otros_comorbilidad', 'fecha_mue', 'muestra', 'prueba', 'resultado'],\n",
       "      dtype='object')"
      ]
     },
     "execution_count": 113,
     "metadata": {
      "tags": []
     },
     "output_type": "execute_result"
    }
   ],
   "source": [
    "#Vemos todas las columnas\n",
    "datos.columns"
   ]
  },
  {
   "cell_type": "markdown",
   "metadata": {
    "id": "qu_T-gzcV9f6"
   },
   "source": [
    "\n",
    "\n",
    "# Análisis de Datos Exploratorio\n",
    "\n"
   ]
  },
  {
   "cell_type": "code",
   "execution_count": null,
   "metadata": {
    "colab": {
     "base_uri": "https://localhost:8080/",
     "height": 367
    },
    "id": "Ty8J070yV4NX",
    "outputId": "301de56e-011f-46c7-fc2c-79ab775c6143"
   },
   "outputs": [
    {
     "data": {
      "text/plain": [
       "<matplotlib.axes._subplots.AxesSubplot at 0x7f51f2bb3a20>"
      ]
     },
     "execution_count": 114,
     "metadata": {
      "tags": []
     },
     "output_type": "execute_result"
    },
    {
     "data": {
      "image/png": "[encoded data removed]",
      "text/plain": [
       "<Figure size 432x288 with 1 Axes>"
      ]
     },
     "metadata": {
      "needs_background": "light",
      "tags": []
     },
     "output_type": "display_data"
    }
   ],
   "source": [
    "# Con este mapa de calor podemos ver qué columnas tinen datos nulos\n",
    "sns.heatmap(datos.isnull(),yticklabels=False,cbar=False,cmap='viridis')"
   ]
  },
  {
   "cell_type": "code",
   "execution_count": null,
   "metadata": {
    "colab": {
     "base_uri": "https://localhost:8080/",
     "height": 300
    },
    "id": "ME2m9o2Y0431",
    "outputId": "c498826d-bfe1-432b-834a-066f5dc44c13"
   },
   "outputs": [
    {
     "data": {
      "text/plain": [
       "<matplotlib.axes._subplots.AxesSubplot at 0x7f06aba00710>"
      ]
     },
     "execution_count": 10,
     "metadata": {
      "tags": []
     },
     "output_type": "execute_result"
    },
    {
     "data": {
      "image/png": "[encoded data removed]",
      "text/plain": [
       "<Figure size 432x288 with 1 Axes>"
      ]
     },
     "metadata": {
      "tags": []
     },
     "output_type": "display_data"
    }
   ],
   "source": [
    "# Uno de las columnas 'resultado', notamos en el mapa de calor que está casi vacío \n",
    "# Es una de las columnas más importantes porque sirve como salida.\n",
    "# Con este gráfico podemos notar que tenemos suficiente data de resultados como para\n",
    "# obtener información.\n",
    "sns.set_style('whitegrid')\n",
    "sns.countplot(x='resultado',data=datos,palette='RdBu_r')"
   ]
  },
  {
   "cell_type": "code",
   "execution_count": null,
   "metadata": {
    "colab": {
     "base_uri": "https://localhost:8080/",
     "height": 296
    },
    "id": "NODQZlyW09ZS",
    "outputId": "b13a0c34-ae39-475a-99cb-69211178f37b"
   },
   "outputs": [
    {
     "data": {
      "text/plain": [
       "<matplotlib.axes._subplots.AxesSubplot at 0x7f06a563c828>"
      ]
     },
     "execution_count": 11,
     "metadata": {
      "tags": []
     },
     "output_type": "execute_result"
    },
    {
     "data": {
      "image/png": "[encoded data removed]",
      "text/plain": [
       "<Figure size 432x288 with 1 Axes>"
      ]
     },
     "metadata": {
      "tags": []
     },
     "output_type": "display_data"
    }
   ],
   "source": [
    "# Con este gráfico vemos que podemos tener como entrada u atributo diferenciador como\n",
    "# lo es 'sexo'\n",
    "sns.set_style('whitegrid')\n",
    "sns.countplot(x='resultado',hue='sexo',data=datos,palette='RdBu_r')"
   ]
  },
  {
   "cell_type": "code",
   "execution_count": null,
   "metadata": {
    "colab": {
     "base_uri": "https://localhost:8080/",
     "height": 282
    },
    "id": "BNmEzaRF1Bft",
    "outputId": "53360150-32c7-42ea-a069-f05c089b1834"
   },
   "outputs": [
    {
     "data": {
      "text/plain": [
       "<matplotlib.axes._subplots.AxesSubplot at 0x7f06a7780198>"
      ]
     },
     "execution_count": 12,
     "metadata": {
      "tags": []
     },
     "output_type": "execute_result"
    },
    {
     "data": {
      "image/png": "[encoded data removed]",
      "text/plain": [
       "<Figure size 432x288 with 1 Axes>"
      ]
     },
     "metadata": {
      "tags": []
     },
     "output_type": "display_data"
    }
   ],
   "source": [
    "# Podemos notar que teneos edades variadas\n",
    "datos['edad'].hist(bins=30,color='darkred',alpha=0.7)"
   ]
  },
  {
   "cell_type": "markdown",
   "metadata": {
    "id": "qu6uTxbl1I0_"
   },
   "source": [
    "# II. Limpieza de datos\n",
    "\n",
    "De acuerdo al análisis hecho. Tomaremos La sección de los síntomas, también incluiremos los atributos edad, sexo y el resultado. En donde:\n",
    "\n",
    "- Como dato de salida tenemos a: 'resultado'\n",
    "- Como dato de entrada tomaremos a todos los restantes."
   ]
  },
  {
   "cell_type": "code",
   "execution_count": null,
   "metadata": {
    "id": "8tf8GB821M5n"
   },
   "outputs": [],
   "source": [
    "datos.drop(['id', 'fecha_ini', 'hospitalizado', 'evolucion', 'otros_sintomas', 'temperatura',\n",
    "       'exudado', 'conjuntival', 'convulsion', 'coma', 'disnea',\n",
    "       'auscultacion', 'rxpulmonar', 'otros_signos', 'embarazo', 'trimestre',\n",
    "       'postparto', 'cardiovascular', 'diabetes', 'hepatica', 'neurologica',\n",
    "       'inmunodeficiencia', 'renal', 'hepatico', 'pulmonar', 'cancer',\n",
    "       'otros_comorbilidad', 'fecha_mue', 'muestra', 'prueba' ],axis=1,inplace=True)"
   ]
  },
  {
   "cell_type": "code",
   "execution_count": null,
   "metadata": {
    "colab": {
     "base_uri": "https://localhost:8080/"
    },
    "id": "piQ5eH3z1VD-",
    "outputId": "3c77fd99-0189-4059-8519-d0292e8ae9b5"
   },
   "outputs": [
    {
     "data": {
      "text/plain": [
       "Index(['edad', 'sexo', 'fiebre', 'malestar', 'tos', 'garganta', 'congestion',\n",
       "       'respiratoria', 'diarrea', 'nauseas', 'cefalea', 'irritabilidad',\n",
       "       'muscular', 'abdominal', 'pecho', 'articulaciones', 'resultado'],\n",
       "      dtype='object')"
      ]
     },
     "execution_count": 116,
     "metadata": {
      "tags": []
     },
     "output_type": "execute_result"
    }
   ],
   "source": [
    "datos.columns"
   ]
  },
  {
   "cell_type": "code",
   "execution_count": null,
   "metadata": {
    "id": "zUjMvfv21ZQJ"
   },
   "outputs": [],
   "source": [
    "# Creamos un temporal para obtener solo las filas con valores y \n",
    "# así emparejar todas las columnas <mismo número de datos>\n",
    "temporal = datos.dropna()"
   ]
  },
  {
   "cell_type": "code",
   "execution_count": null,
   "metadata": {
    "colab": {
     "base_uri": "https://localhost:8080/"
    },
    "id": "C-evS3Dn1cu4",
    "outputId": "36a6e6ea-efeb-47b0-f8f1-1e905393cd31"
   },
   "outputs": [
    {
     "name": "stdout",
     "output_type": "stream",
     "text": [
      "<class 'pandas.core.frame.DataFrame'>\n",
      "Int64Index: 5075 entries, 2 to 93730\n",
      "Data columns (total 17 columns):\n",
      " #   Column          Non-Null Count  Dtype \n",
      "---  ------          --------------  ----- \n",
      " 0   edad            5075 non-null   int64 \n",
      " 1   sexo            5075 non-null   object\n",
      " 2   fiebre          5075 non-null   int64 \n",
      " 3   malestar        5075 non-null   int64 \n",
      " 4   tos             5075 non-null   int64 \n",
      " 5   garganta        5075 non-null   int64 \n",
      " 6   congestion      5075 non-null   int64 \n",
      " 7   respiratoria    5075 non-null   int64 \n",
      " 8   diarrea         5075 non-null   int64 \n",
      " 9   nauseas         5075 non-null   int64 \n",
      " 10  cefalea         5075 non-null   int64 \n",
      " 11  irritabilidad   5075 non-null   int64 \n",
      " 12  muscular        5075 non-null   int64 \n",
      " 13  abdominal       5075 non-null   int64 \n",
      " 14  pecho           5075 non-null   int64 \n",
      " 15  articulaciones  5075 non-null   int64 \n",
      " 16  resultado       5075 non-null   object\n",
      "dtypes: int64(15), object(2)\n",
      "memory usage: 713.7+ KB\n"
     ]
    }
   ],
   "source": [
    "temporal.info()"
   ]
  },
  {
   "cell_type": "code",
   "execution_count": null,
   "metadata": {
    "colab": {
     "base_uri": "https://localhost:8080/",
     "height": 224
    },
    "id": "NeG7U1Jl1gi8",
    "outputId": "f5fcb834-e29b-4cee-98e2-791897e3d1ef"
   },
   "outputs": [
    {
     "data": {
      "text/html": [
       "<div>\n",
       "<style scoped>\n",
       "    .dataframe tbody tr th:only-of-type {\n",
       "        vertical-align: middle;\n",
       "    }\n",
       "\n",
       "    .dataframe tbody tr th {\n",
       "        vertical-align: top;\n",
       "    }\n",
       "\n",
       "    .dataframe thead th {\n",
       "        text-align: right;\n",
       "    }\n",
       "</style>\n",
       "<table border=\"1\" class=\"dataframe\">\n",
       "  <thead>\n",
       "    <tr style=\"text-align: right;\">\n",
       "      <th></th>\n",
       "      <th>edad</th>\n",
       "      <th>sexo</th>\n",
       "      <th>fiebre</th>\n",
       "      <th>malestar</th>\n",
       "      <th>tos</th>\n",
       "      <th>garganta</th>\n",
       "      <th>congestion</th>\n",
       "      <th>respiratoria</th>\n",
       "      <th>diarrea</th>\n",
       "      <th>nauseas</th>\n",
       "      <th>cefalea</th>\n",
       "      <th>irritabilidad</th>\n",
       "      <th>muscular</th>\n",
       "      <th>abdominal</th>\n",
       "      <th>pecho</th>\n",
       "      <th>articulaciones</th>\n",
       "      <th>resultado</th>\n",
       "    </tr>\n",
       "  </thead>\n",
       "  <tbody>\n",
       "    <tr>\n",
       "      <th>2</th>\n",
       "      <td>45</td>\n",
       "      <td>MASCULINO</td>\n",
       "      <td>0</td>\n",
       "      <td>1</td>\n",
       "      <td>0</td>\n",
       "      <td>0</td>\n",
       "      <td>1</td>\n",
       "      <td>0</td>\n",
       "      <td>0</td>\n",
       "      <td>0</td>\n",
       "      <td>0</td>\n",
       "      <td>0</td>\n",
       "      <td>0</td>\n",
       "      <td>0</td>\n",
       "      <td>0</td>\n",
       "      <td>0</td>\n",
       "      <td>NEGATIVO</td>\n",
       "    </tr>\n",
       "    <tr>\n",
       "      <th>4</th>\n",
       "      <td>67</td>\n",
       "      <td>FEMENINO</td>\n",
       "      <td>1</td>\n",
       "      <td>1</td>\n",
       "      <td>1</td>\n",
       "      <td>0</td>\n",
       "      <td>0</td>\n",
       "      <td>0</td>\n",
       "      <td>0</td>\n",
       "      <td>0</td>\n",
       "      <td>1</td>\n",
       "      <td>0</td>\n",
       "      <td>0</td>\n",
       "      <td>0</td>\n",
       "      <td>0</td>\n",
       "      <td>1</td>\n",
       "      <td>NEGATIVO</td>\n",
       "    </tr>\n",
       "    <tr>\n",
       "      <th>6</th>\n",
       "      <td>61</td>\n",
       "      <td>MASCULINO</td>\n",
       "      <td>0</td>\n",
       "      <td>0</td>\n",
       "      <td>1</td>\n",
       "      <td>0</td>\n",
       "      <td>1</td>\n",
       "      <td>0</td>\n",
       "      <td>1</td>\n",
       "      <td>0</td>\n",
       "      <td>0</td>\n",
       "      <td>0</td>\n",
       "      <td>0</td>\n",
       "      <td>0</td>\n",
       "      <td>0</td>\n",
       "      <td>0</td>\n",
       "      <td>POSITIVO</td>\n",
       "    </tr>\n",
       "    <tr>\n",
       "      <th>8</th>\n",
       "      <td>13</td>\n",
       "      <td>MASCULINO</td>\n",
       "      <td>0</td>\n",
       "      <td>1</td>\n",
       "      <td>1</td>\n",
       "      <td>1</td>\n",
       "      <td>1</td>\n",
       "      <td>0</td>\n",
       "      <td>0</td>\n",
       "      <td>0</td>\n",
       "      <td>0</td>\n",
       "      <td>0</td>\n",
       "      <td>0</td>\n",
       "      <td>0</td>\n",
       "      <td>0</td>\n",
       "      <td>0</td>\n",
       "      <td>NEGATIVO</td>\n",
       "    </tr>\n",
       "    <tr>\n",
       "      <th>9</th>\n",
       "      <td>78</td>\n",
       "      <td>MASCULINO</td>\n",
       "      <td>0</td>\n",
       "      <td>0</td>\n",
       "      <td>1</td>\n",
       "      <td>1</td>\n",
       "      <td>1</td>\n",
       "      <td>0</td>\n",
       "      <td>0</td>\n",
       "      <td>0</td>\n",
       "      <td>0</td>\n",
       "      <td>0</td>\n",
       "      <td>0</td>\n",
       "      <td>0</td>\n",
       "      <td>0</td>\n",
       "      <td>0</td>\n",
       "      <td>NEGATIVO</td>\n",
       "    </tr>\n",
       "  </tbody>\n",
       "</table>\n",
       "</div>"
      ],
      "text/plain": [
       "   edad       sexo  fiebre  ...  pecho  articulaciones  resultado\n",
       "2    45  MASCULINO       0  ...      0               0   NEGATIVO\n",
       "4    67   FEMENINO       1  ...      0               1   NEGATIVO\n",
       "6    61  MASCULINO       0  ...      0               0   POSITIVO\n",
       "8    13  MASCULINO       0  ...      0               0   NEGATIVO\n",
       "9    78  MASCULINO       0  ...      0               0   NEGATIVO\n",
       "\n",
       "[5 rows x 17 columns]"
      ]
     },
     "execution_count": 120,
     "metadata": {
      "tags": []
     },
     "output_type": "execute_result"
    }
   ],
   "source": [
    "temporal.head()"
   ]
  },
  {
   "cell_type": "code",
   "execution_count": null,
   "metadata": {
    "id": "hCvyYjz91lcV"
   },
   "outputs": [],
   "source": [
    "# temporales para la transformación a binario de sexo y resultado\n",
    "sex = pd.get_dummies(temporal['sexo'],drop_first=True)\n",
    "result = pd.get_dummies(temporal['resultado'],drop_first=True)"
   ]
  },
  {
   "cell_type": "code",
   "execution_count": null,
   "metadata": {
    "colab": {
     "base_uri": "https://localhost:8080/"
    },
    "id": "SvFZ6LAf1qgd",
    "outputId": "a7b2720b-54a0-46b6-e344-a80abc745433"
   },
   "outputs": [
    {
     "name": "stderr",
     "output_type": "stream",
     "text": [
      "/usr/local/lib/python3.6/dist-packages/pandas/core/frame.py:4174: SettingWithCopyWarning: \n",
      "A value is trying to be set on a copy of a slice from a DataFrame\n",
      "\n",
      "See the caveats in the documentation: https://pandas.pydata.org/pandas-docs/stable/user_guide/indexing.html#returning-a-view-versus-a-copy\n",
      "  errors=errors,\n"
     ]
    }
   ],
   "source": [
    "temporal.drop(['sexo','resultado'],axis=1,inplace=True)"
   ]
  },
  {
   "cell_type": "code",
   "execution_count": null,
   "metadata": {
    "id": "Zgul23qe1tb7"
   },
   "outputs": [],
   "source": [
    "temporal = pd.concat([temporal,sex,result],axis=1)"
   ]
  },
  {
   "cell_type": "code",
   "execution_count": null,
   "metadata": {
    "colab": {
     "base_uri": "https://localhost:8080/"
    },
    "id": "a1ygeHa01wlH",
    "outputId": "9f413cd5-7e9c-42c0-8a14-f16e9405f6f0"
   },
   "outputs": [
    {
     "name": "stdout",
     "output_type": "stream",
     "text": [
      "<class 'pandas.core.frame.DataFrame'>\n",
      "Int64Index: 5075 entries, 2 to 93730\n",
      "Data columns (total 17 columns):\n",
      " #   Column          Non-Null Count  Dtype\n",
      "---  ------          --------------  -----\n",
      " 0   edad            5075 non-null   int64\n",
      " 1   fiebre          5075 non-null   int64\n",
      " 2   malestar        5075 non-null   int64\n",
      " 3   tos             5075 non-null   int64\n",
      " 4   garganta        5075 non-null   int64\n",
      " 5   congestion      5075 non-null   int64\n",
      " 6   respiratoria    5075 non-null   int64\n",
      " 7   diarrea         5075 non-null   int64\n",
      " 8   nauseas         5075 non-null   int64\n",
      " 9   cefalea         5075 non-null   int64\n",
      " 10  irritabilidad   5075 non-null   int64\n",
      " 11  muscular        5075 non-null   int64\n",
      " 12  abdominal       5075 non-null   int64\n",
      " 13  pecho           5075 non-null   int64\n",
      " 14  articulaciones  5075 non-null   int64\n",
      " 15  MASCULINO       5075 non-null   uint8\n",
      " 16  POSITIVO        5075 non-null   uint8\n",
      "dtypes: int64(15), uint8(2)\n",
      "memory usage: 644.3 KB\n"
     ]
    }
   ],
   "source": [
    "temporal.info()"
   ]
  },
  {
   "cell_type": "markdown",
   "metadata": {
    "id": "gSp9QoBg5sjV"
   },
   "source": [
    "Con esto nos percatamos de lo siguiente:\n",
    "\n",
    "en la columna Masculisno: \n",
    "1 = hombre\n",
    "0 = mujer\n",
    "\n",
    "en la columna Positivo:\n",
    "1 = positivo\n",
    "0 = negativo\n"
   ]
  },
  {
   "cell_type": "code",
   "execution_count": null,
   "metadata": {
    "colab": {
     "base_uri": "https://localhost:8080/",
     "height": 224
    },
    "id": "bnrKx8tD11RW",
    "outputId": "6fd60a87-4d5a-470a-b61d-0ae5712dd2d5"
   },
   "outputs": [
    {
     "data": {
      "text/html": [
       "<div>\n",
       "<style scoped>\n",
       "    .dataframe tbody tr th:only-of-type {\n",
       "        vertical-align: middle;\n",
       "    }\n",
       "\n",
       "    .dataframe tbody tr th {\n",
       "        vertical-align: top;\n",
       "    }\n",
       "\n",
       "    .dataframe thead th {\n",
       "        text-align: right;\n",
       "    }\n",
       "</style>\n",
       "<table border=\"1\" class=\"dataframe\">\n",
       "  <thead>\n",
       "    <tr style=\"text-align: right;\">\n",
       "      <th></th>\n",
       "      <th>edad</th>\n",
       "      <th>fiebre</th>\n",
       "      <th>malestar</th>\n",
       "      <th>tos</th>\n",
       "      <th>garganta</th>\n",
       "      <th>congestion</th>\n",
       "      <th>respiratoria</th>\n",
       "      <th>diarrea</th>\n",
       "      <th>nauseas</th>\n",
       "      <th>cefalea</th>\n",
       "      <th>irritabilidad</th>\n",
       "      <th>muscular</th>\n",
       "      <th>abdominal</th>\n",
       "      <th>pecho</th>\n",
       "      <th>articulaciones</th>\n",
       "      <th>MASCULINO</th>\n",
       "      <th>POSITIVO</th>\n",
       "    </tr>\n",
       "  </thead>\n",
       "  <tbody>\n",
       "    <tr>\n",
       "      <th>2</th>\n",
       "      <td>45</td>\n",
       "      <td>0</td>\n",
       "      <td>1</td>\n",
       "      <td>0</td>\n",
       "      <td>0</td>\n",
       "      <td>1</td>\n",
       "      <td>0</td>\n",
       "      <td>0</td>\n",
       "      <td>0</td>\n",
       "      <td>0</td>\n",
       "      <td>0</td>\n",
       "      <td>0</td>\n",
       "      <td>0</td>\n",
       "      <td>0</td>\n",
       "      <td>0</td>\n",
       "      <td>1</td>\n",
       "      <td>0</td>\n",
       "    </tr>\n",
       "    <tr>\n",
       "      <th>4</th>\n",
       "      <td>67</td>\n",
       "      <td>1</td>\n",
       "      <td>1</td>\n",
       "      <td>1</td>\n",
       "      <td>0</td>\n",
       "      <td>0</td>\n",
       "      <td>0</td>\n",
       "      <td>0</td>\n",
       "      <td>0</td>\n",
       "      <td>1</td>\n",
       "      <td>0</td>\n",
       "      <td>0</td>\n",
       "      <td>0</td>\n",
       "      <td>0</td>\n",
       "      <td>1</td>\n",
       "      <td>0</td>\n",
       "      <td>0</td>\n",
       "    </tr>\n",
       "    <tr>\n",
       "      <th>6</th>\n",
       "      <td>61</td>\n",
       "      <td>0</td>\n",
       "      <td>0</td>\n",
       "      <td>1</td>\n",
       "      <td>0</td>\n",
       "      <td>1</td>\n",
       "      <td>0</td>\n",
       "      <td>1</td>\n",
       "      <td>0</td>\n",
       "      <td>0</td>\n",
       "      <td>0</td>\n",
       "      <td>0</td>\n",
       "      <td>0</td>\n",
       "      <td>0</td>\n",
       "      <td>0</td>\n",
       "      <td>1</td>\n",
       "      <td>1</td>\n",
       "    </tr>\n",
       "    <tr>\n",
       "      <th>8</th>\n",
       "      <td>13</td>\n",
       "      <td>0</td>\n",
       "      <td>1</td>\n",
       "      <td>1</td>\n",
       "      <td>1</td>\n",
       "      <td>1</td>\n",
       "      <td>0</td>\n",
       "      <td>0</td>\n",
       "      <td>0</td>\n",
       "      <td>0</td>\n",
       "      <td>0</td>\n",
       "      <td>0</td>\n",
       "      <td>0</td>\n",
       "      <td>0</td>\n",
       "      <td>0</td>\n",
       "      <td>1</td>\n",
       "      <td>0</td>\n",
       "    </tr>\n",
       "    <tr>\n",
       "      <th>9</th>\n",
       "      <td>78</td>\n",
       "      <td>0</td>\n",
       "      <td>0</td>\n",
       "      <td>1</td>\n",
       "      <td>1</td>\n",
       "      <td>1</td>\n",
       "      <td>0</td>\n",
       "      <td>0</td>\n",
       "      <td>0</td>\n",
       "      <td>0</td>\n",
       "      <td>0</td>\n",
       "      <td>0</td>\n",
       "      <td>0</td>\n",
       "      <td>0</td>\n",
       "      <td>0</td>\n",
       "      <td>1</td>\n",
       "      <td>0</td>\n",
       "    </tr>\n",
       "  </tbody>\n",
       "</table>\n",
       "</div>"
      ],
      "text/plain": [
       "   edad  fiebre  malestar  tos  ...  pecho  articulaciones  MASCULINO  POSITIVO\n",
       "2    45       0         1    0  ...      0               0          1         0\n",
       "4    67       1         1    1  ...      0               1          0         0\n",
       "6    61       0         0    1  ...      0               0          1         1\n",
       "8    13       0         1    1  ...      0               0          1         0\n",
       "9    78       0         0    1  ...      0               0          1         0\n",
       "\n",
       "[5 rows x 17 columns]"
      ]
     },
     "execution_count": 125,
     "metadata": {
      "tags": []
     },
     "output_type": "execute_result"
    }
   ],
   "source": [
    "temporal.head()"
   ]
  },
  {
   "cell_type": "code",
   "execution_count": null,
   "metadata": {
    "colab": {
     "base_uri": "https://localhost:8080/"
    },
    "id": "vLohPpI352Rr",
    "outputId": "1363996b-7cef-42f4-b0b6-b0afa2f7cb2a"
   },
   "outputs": [
    {
     "data": {
      "text/plain": [
       "Index(['edad', 'fiebre', 'malestar', 'tos', 'garganta', 'congestion',\n",
       "       'respiratoria', 'diarrea', 'nauseas', 'cefalea', 'irritabilidad',\n",
       "       'muscular', 'abdominal', 'pecho', 'articulaciones', 'MASCULINO',\n",
       "       'POSITIVO'],\n",
       "      dtype='object')"
      ]
     },
     "execution_count": 52,
     "metadata": {
      "tags": []
     },
     "output_type": "execute_result"
    }
   ],
   "source": [
    "# Data limpiada\n",
    "temporal.columns"
   ]
  },
  {
   "cell_type": "markdown",
   "metadata": {
    "id": "9c6Sudex56Yz"
   },
   "source": [
    "# III. Aplicando modelos de clasificación \n",
    "1. Regresión logística\n",
    "2. KNN\n",
    "3. Árboles de decisión"
   ]
  },
  {
   "cell_type": "markdown",
   "metadata": {
    "id": "Ge03DvE86O7T"
   },
   "source": [
    "# 1. Regresión Logítica\n",
    "\n"
   ]
  },
  {
   "cell_type": "markdown",
   "metadata": {
    "id": "D2CU9XcF6S7i"
   },
   "source": [
    "División de datos de entrenamiento y prueba\n",
    "\n"
   ]
  },
  {
   "cell_type": "code",
   "execution_count": null,
   "metadata": {
    "id": "GkfhEwtH6YwS"
   },
   "outputs": [],
   "source": [
    "from sklearn.model_selection import train_test_split"
   ]
  },
  {
   "cell_type": "code",
   "execution_count": null,
   "metadata": {
    "id": "bQ-2S_lq6bhT"
   },
   "outputs": [],
   "source": [
    "X_train, X_test, y_train, y_test = train_test_split(temporal.drop('POSITIVO',axis=1), \n",
    "                                                    temporal['POSITIVO'], test_size=0.30, \n",
    "                                                    random_state=101)"
   ]
  },
  {
   "cell_type": "markdown",
   "metadata": {
    "id": "ik8bxWJD7diy"
   },
   "source": [
    "Entrenamiento y predicción"
   ]
  },
  {
   "cell_type": "code",
   "execution_count": null,
   "metadata": {
    "id": "RPVc-UmY7enC"
   },
   "outputs": [],
   "source": [
    "from sklearn.linear_model import LogisticRegression"
   ]
  },
  {
   "cell_type": "code",
   "execution_count": null,
   "metadata": {
    "colab": {
     "base_uri": "https://localhost:8080/"
    },
    "id": "QnfX8wbl7h1i",
    "outputId": "dab88e97-180e-4c94-e8c1-e141393f3af9"
   },
   "outputs": [
    {
     "name": "stderr",
     "output_type": "stream",
     "text": [
      "/usr/local/lib/python3.6/dist-packages/sklearn/linear_model/_logistic.py:940: ConvergenceWarning: lbfgs failed to converge (status=1):\n",
      "STOP: TOTAL NO. of ITERATIONS REACHED LIMIT.\n",
      "\n",
      "Increase the number of iterations (max_iter) or scale the data as shown in:\n",
      "    https://scikit-learn.org/stable/modules/preprocessing.html\n",
      "Please also refer to the documentation for alternative solver options:\n",
      "    https://scikit-learn.org/stable/modules/linear_model.html#logistic-regression\n",
      "  extra_warning_msg=_LOGISTIC_SOLVER_CONVERGENCE_MSG)\n"
     ]
    },
    {
     "data": {
      "text/plain": [
       "LogisticRegression(C=1.0, class_weight=None, dual=False, fit_intercept=True,\n",
       "                   intercept_scaling=1, l1_ratio=None, max_iter=100,\n",
       "                   multi_class='auto', n_jobs=None, penalty='l2',\n",
       "                   random_state=None, solver='lbfgs', tol=0.0001, verbose=0,\n",
       "                   warm_start=False)"
      ]
     },
     "execution_count": 56,
     "metadata": {
      "tags": []
     },
     "output_type": "execute_result"
    }
   ],
   "source": [
    "logmodel = LogisticRegression()\n",
    "logmodel.fit(X_train,y_train)"
   ]
  },
  {
   "cell_type": "code",
   "execution_count": null,
   "metadata": {
    "id": "PkpSGryp7nAK"
   },
   "outputs": [],
   "source": [
    "predictions = logmodel.predict(X_test)"
   ]
  },
  {
   "cell_type": "code",
   "execution_count": null,
   "metadata": {
    "colab": {
     "base_uri": "https://localhost:8080/"
    },
    "id": "cGE31xi_7o96",
    "outputId": "7857ae02-a63e-4dca-f667-562036d776b0"
   },
   "outputs": [
    {
     "data": {
      "text/plain": [
       "3098     1\n",
       "55275    1\n",
       "91905    0\n",
       "11103    0\n",
       "43649    0\n",
       "        ..\n",
       "9875     0\n",
       "74640    0\n",
       "60021    0\n",
       "7840     0\n",
       "9058     0\n",
       "Name: POSITIVO, Length: 1523, dtype: uint8"
      ]
     },
     "execution_count": 58,
     "metadata": {
      "tags": []
     },
     "output_type": "execute_result"
    }
   ],
   "source": [
    "y_test"
   ]
  },
  {
   "cell_type": "code",
   "execution_count": null,
   "metadata": {
    "colab": {
     "base_uri": "https://localhost:8080/",
     "height": 439
    },
    "id": "oyeoO3aE7raa",
    "outputId": "257c22b5-f6eb-4a54-cefe-493d1e2337a0"
   },
   "outputs": [
    {
     "data": {
      "text/html": [
       "<div>\n",
       "<style scoped>\n",
       "    .dataframe tbody tr th:only-of-type {\n",
       "        vertical-align: middle;\n",
       "    }\n",
       "\n",
       "    .dataframe tbody tr th {\n",
       "        vertical-align: top;\n",
       "    }\n",
       "\n",
       "    .dataframe thead th {\n",
       "        text-align: right;\n",
       "    }\n",
       "</style>\n",
       "<table border=\"1\" class=\"dataframe\">\n",
       "  <thead>\n",
       "    <tr style=\"text-align: right;\">\n",
       "      <th></th>\n",
       "      <th>edad</th>\n",
       "      <th>fiebre</th>\n",
       "      <th>malestar</th>\n",
       "      <th>tos</th>\n",
       "      <th>garganta</th>\n",
       "      <th>congestion</th>\n",
       "      <th>respiratoria</th>\n",
       "      <th>diarrea</th>\n",
       "      <th>nauseas</th>\n",
       "      <th>cefalea</th>\n",
       "      <th>irritabilidad</th>\n",
       "      <th>muscular</th>\n",
       "      <th>abdominal</th>\n",
       "      <th>pecho</th>\n",
       "      <th>articulaciones</th>\n",
       "      <th>MASCULINO</th>\n",
       "    </tr>\n",
       "  </thead>\n",
       "  <tbody>\n",
       "    <tr>\n",
       "      <th>3098</th>\n",
       "      <td>31</td>\n",
       "      <td>1</td>\n",
       "      <td>0</td>\n",
       "      <td>0</td>\n",
       "      <td>1</td>\n",
       "      <td>0</td>\n",
       "      <td>0</td>\n",
       "      <td>0</td>\n",
       "      <td>0</td>\n",
       "      <td>1</td>\n",
       "      <td>0</td>\n",
       "      <td>0</td>\n",
       "      <td>0</td>\n",
       "      <td>0</td>\n",
       "      <td>0</td>\n",
       "      <td>0</td>\n",
       "    </tr>\n",
       "    <tr>\n",
       "      <th>55275</th>\n",
       "      <td>46</td>\n",
       "      <td>0</td>\n",
       "      <td>0</td>\n",
       "      <td>0</td>\n",
       "      <td>0</td>\n",
       "      <td>1</td>\n",
       "      <td>0</td>\n",
       "      <td>0</td>\n",
       "      <td>0</td>\n",
       "      <td>0</td>\n",
       "      <td>0</td>\n",
       "      <td>0</td>\n",
       "      <td>0</td>\n",
       "      <td>0</td>\n",
       "      <td>0</td>\n",
       "      <td>1</td>\n",
       "    </tr>\n",
       "    <tr>\n",
       "      <th>91905</th>\n",
       "      <td>40</td>\n",
       "      <td>0</td>\n",
       "      <td>0</td>\n",
       "      <td>0</td>\n",
       "      <td>0</td>\n",
       "      <td>0</td>\n",
       "      <td>0</td>\n",
       "      <td>0</td>\n",
       "      <td>0</td>\n",
       "      <td>0</td>\n",
       "      <td>0</td>\n",
       "      <td>0</td>\n",
       "      <td>0</td>\n",
       "      <td>0</td>\n",
       "      <td>0</td>\n",
       "      <td>1</td>\n",
       "    </tr>\n",
       "    <tr>\n",
       "      <th>11103</th>\n",
       "      <td>10</td>\n",
       "      <td>1</td>\n",
       "      <td>0</td>\n",
       "      <td>1</td>\n",
       "      <td>0</td>\n",
       "      <td>0</td>\n",
       "      <td>0</td>\n",
       "      <td>0</td>\n",
       "      <td>0</td>\n",
       "      <td>0</td>\n",
       "      <td>0</td>\n",
       "      <td>0</td>\n",
       "      <td>0</td>\n",
       "      <td>0</td>\n",
       "      <td>0</td>\n",
       "      <td>1</td>\n",
       "    </tr>\n",
       "    <tr>\n",
       "      <th>43649</th>\n",
       "      <td>20</td>\n",
       "      <td>1</td>\n",
       "      <td>1</td>\n",
       "      <td>0</td>\n",
       "      <td>1</td>\n",
       "      <td>0</td>\n",
       "      <td>0</td>\n",
       "      <td>0</td>\n",
       "      <td>0</td>\n",
       "      <td>1</td>\n",
       "      <td>0</td>\n",
       "      <td>0</td>\n",
       "      <td>0</td>\n",
       "      <td>0</td>\n",
       "      <td>0</td>\n",
       "      <td>0</td>\n",
       "    </tr>\n",
       "    <tr>\n",
       "      <th>...</th>\n",
       "      <td>...</td>\n",
       "      <td>...</td>\n",
       "      <td>...</td>\n",
       "      <td>...</td>\n",
       "      <td>...</td>\n",
       "      <td>...</td>\n",
       "      <td>...</td>\n",
       "      <td>...</td>\n",
       "      <td>...</td>\n",
       "      <td>...</td>\n",
       "      <td>...</td>\n",
       "      <td>...</td>\n",
       "      <td>...</td>\n",
       "      <td>...</td>\n",
       "      <td>...</td>\n",
       "      <td>...</td>\n",
       "    </tr>\n",
       "    <tr>\n",
       "      <th>9875</th>\n",
       "      <td>24</td>\n",
       "      <td>0</td>\n",
       "      <td>0</td>\n",
       "      <td>1</td>\n",
       "      <td>1</td>\n",
       "      <td>0</td>\n",
       "      <td>0</td>\n",
       "      <td>0</td>\n",
       "      <td>0</td>\n",
       "      <td>0</td>\n",
       "      <td>0</td>\n",
       "      <td>0</td>\n",
       "      <td>0</td>\n",
       "      <td>0</td>\n",
       "      <td>0</td>\n",
       "      <td>1</td>\n",
       "    </tr>\n",
       "    <tr>\n",
       "      <th>74640</th>\n",
       "      <td>32</td>\n",
       "      <td>0</td>\n",
       "      <td>0</td>\n",
       "      <td>0</td>\n",
       "      <td>0</td>\n",
       "      <td>0</td>\n",
       "      <td>0</td>\n",
       "      <td>0</td>\n",
       "      <td>0</td>\n",
       "      <td>1</td>\n",
       "      <td>0</td>\n",
       "      <td>0</td>\n",
       "      <td>0</td>\n",
       "      <td>0</td>\n",
       "      <td>0</td>\n",
       "      <td>1</td>\n",
       "    </tr>\n",
       "    <tr>\n",
       "      <th>60021</th>\n",
       "      <td>35</td>\n",
       "      <td>0</td>\n",
       "      <td>0</td>\n",
       "      <td>0</td>\n",
       "      <td>0</td>\n",
       "      <td>0</td>\n",
       "      <td>0</td>\n",
       "      <td>0</td>\n",
       "      <td>0</td>\n",
       "      <td>0</td>\n",
       "      <td>0</td>\n",
       "      <td>0</td>\n",
       "      <td>0</td>\n",
       "      <td>0</td>\n",
       "      <td>0</td>\n",
       "      <td>1</td>\n",
       "    </tr>\n",
       "    <tr>\n",
       "      <th>7840</th>\n",
       "      <td>45</td>\n",
       "      <td>0</td>\n",
       "      <td>1</td>\n",
       "      <td>0</td>\n",
       "      <td>1</td>\n",
       "      <td>0</td>\n",
       "      <td>0</td>\n",
       "      <td>0</td>\n",
       "      <td>0</td>\n",
       "      <td>1</td>\n",
       "      <td>0</td>\n",
       "      <td>0</td>\n",
       "      <td>0</td>\n",
       "      <td>1</td>\n",
       "      <td>0</td>\n",
       "      <td>0</td>\n",
       "    </tr>\n",
       "    <tr>\n",
       "      <th>9058</th>\n",
       "      <td>39</td>\n",
       "      <td>1</td>\n",
       "      <td>1</td>\n",
       "      <td>0</td>\n",
       "      <td>1</td>\n",
       "      <td>0</td>\n",
       "      <td>0</td>\n",
       "      <td>0</td>\n",
       "      <td>0</td>\n",
       "      <td>0</td>\n",
       "      <td>0</td>\n",
       "      <td>0</td>\n",
       "      <td>0</td>\n",
       "      <td>0</td>\n",
       "      <td>0</td>\n",
       "      <td>0</td>\n",
       "    </tr>\n",
       "  </tbody>\n",
       "</table>\n",
       "<p>1523 rows × 16 columns</p>\n",
       "</div>"
      ],
      "text/plain": [
       "       edad  fiebre  malestar  tos  ...  abdominal  pecho  articulaciones  MASCULINO\n",
       "3098     31       1         0    0  ...          0      0               0          0\n",
       "55275    46       0         0    0  ...          0      0               0          1\n",
       "91905    40       0         0    0  ...          0      0               0          1\n",
       "11103    10       1         0    1  ...          0      0               0          1\n",
       "43649    20       1         1    0  ...          0      0               0          0\n",
       "...     ...     ...       ...  ...  ...        ...    ...             ...        ...\n",
       "9875     24       0         0    1  ...          0      0               0          1\n",
       "74640    32       0         0    0  ...          0      0               0          1\n",
       "60021    35       0         0    0  ...          0      0               0          1\n",
       "7840     45       0         1    0  ...          0      1               0          0\n",
       "9058     39       1         1    0  ...          0      0               0          0\n",
       "\n",
       "[1523 rows x 16 columns]"
      ]
     },
     "execution_count": 59,
     "metadata": {
      "tags": []
     },
     "output_type": "execute_result"
    }
   ],
   "source": [
    "X_test"
   ]
  },
  {
   "cell_type": "code",
   "execution_count": null,
   "metadata": {
    "colab": {
     "base_uri": "https://localhost:8080/"
    },
    "id": "BH6IST7u7t8l",
    "outputId": "e2b45a33-24b6-40d2-cf4f-c79e7c50e7ac"
   },
   "outputs": [
    {
     "data": {
      "text/plain": [
       "array([0, 0, 0, ..., 0, 0, 0], dtype=uint8)"
      ]
     },
     "execution_count": 60,
     "metadata": {
      "tags": []
     },
     "output_type": "execute_result"
    }
   ],
   "source": [
    "predictions"
   ]
  },
  {
   "cell_type": "markdown",
   "metadata": {
    "id": "zwm88JCh7xyw"
   },
   "source": [
    "Evaluación"
   ]
  },
  {
   "cell_type": "code",
   "execution_count": null,
   "metadata": {
    "id": "wmaJl4u97xND"
   },
   "outputs": [],
   "source": [
    "from sklearn.metrics import confusion_matrix"
   ]
  },
  {
   "cell_type": "code",
   "execution_count": null,
   "metadata": {
    "colab": {
     "base_uri": "https://localhost:8080/"
    },
    "id": "yczlXFLn72vR",
    "outputId": "e9b21826-6057-40dc-b91c-178294a7f377"
   },
   "outputs": [
    {
     "data": {
      "text/plain": [
       "array([[880, 111],\n",
       "       [361, 171]])"
      ]
     },
     "execution_count": 62,
     "metadata": {
      "tags": []
     },
     "output_type": "execute_result"
    }
   ],
   "source": [
    "confusion_matrix(y_test,predictions)"
   ]
  },
  {
   "cell_type": "code",
   "execution_count": null,
   "metadata": {
    "id": "vezToXI8747w"
   },
   "outputs": [],
   "source": [
    "from sklearn.metrics import classification_report"
   ]
  },
  {
   "cell_type": "code",
   "execution_count": null,
   "metadata": {
    "colab": {
     "base_uri": "https://localhost:8080/"
    },
    "id": "_pc2OE5g77cq",
    "outputId": "37c664f8-6a86-4c44-94d7-6d96e369d639"
   },
   "outputs": [
    {
     "name": "stdout",
     "output_type": "stream",
     "text": [
      "              precision    recall  f1-score   support\n",
      "\n",
      "           0       0.71      0.89      0.79       991\n",
      "           1       0.61      0.32      0.42       532\n",
      "\n",
      "    accuracy                           0.69      1523\n",
      "   macro avg       0.66      0.60      0.60      1523\n",
      "weighted avg       0.67      0.69      0.66      1523\n",
      "\n"
     ]
    }
   ],
   "source": [
    "print(classification_report(y_test,predictions))"
   ]
  },
  {
   "cell_type": "markdown",
   "metadata": {
    "id": "BIXSWI9W8Bp2"
   },
   "source": [
    "# 2. K Vecinos Mas Cercanos"
   ]
  },
  {
   "cell_type": "markdown",
   "metadata": {
    "id": "-dbTmw1N8Jrh"
   },
   "source": [
    "Estandarizar las varialbles rwr"
   ]
  },
  {
   "cell_type": "code",
   "execution_count": null,
   "metadata": {
    "id": "RYDv28HP8Acs"
   },
   "outputs": [],
   "source": [
    "from sklearn.preprocessing import StandardScaler"
   ]
  },
  {
   "cell_type": "code",
   "execution_count": null,
   "metadata": {
    "id": "BGcAuOJn8OJm"
   },
   "outputs": [],
   "source": [
    "scaler = StandardScaler()"
   ]
  },
  {
   "cell_type": "code",
   "execution_count": null,
   "metadata": {
    "colab": {
     "base_uri": "https://localhost:8080/"
    },
    "id": "5E2sGOtQ8QWJ",
    "outputId": "3da7ac05-1d21-4b6c-dcd4-e7efd9bf5061"
   },
   "outputs": [
    {
     "data": {
      "text/plain": [
       "StandardScaler(copy=True, with_mean=True, with_std=True)"
      ]
     },
     "execution_count": 67,
     "metadata": {
      "tags": []
     },
     "output_type": "execute_result"
    }
   ],
   "source": [
    "scaler.fit(temporal.drop('POSITIVO',axis=1))"
   ]
  },
  {
   "cell_type": "code",
   "execution_count": null,
   "metadata": {
    "id": "OjwTq4O08U5J"
   },
   "outputs": [],
   "source": [
    "scaled_features = scaler.transform(temporal.drop('POSITIVO',axis=1))"
   ]
  },
  {
   "cell_type": "code",
   "execution_count": null,
   "metadata": {
    "colab": {
     "base_uri": "https://localhost:8080/",
     "height": 224
    },
    "id": "0qA34LGf8XEi",
    "outputId": "742441ae-4d9c-489b-81c6-593fa0e078c1"
   },
   "outputs": [
    {
     "data": {
      "text/html": [
       "<div>\n",
       "<style scoped>\n",
       "    .dataframe tbody tr th:only-of-type {\n",
       "        vertical-align: middle;\n",
       "    }\n",
       "\n",
       "    .dataframe tbody tr th {\n",
       "        vertical-align: top;\n",
       "    }\n",
       "\n",
       "    .dataframe thead th {\n",
       "        text-align: right;\n",
       "    }\n",
       "</style>\n",
       "<table border=\"1\" class=\"dataframe\">\n",
       "  <thead>\n",
       "    <tr style=\"text-align: right;\">\n",
       "      <th></th>\n",
       "      <th>edad</th>\n",
       "      <th>fiebre</th>\n",
       "      <th>malestar</th>\n",
       "      <th>tos</th>\n",
       "      <th>garganta</th>\n",
       "      <th>congestion</th>\n",
       "      <th>respiratoria</th>\n",
       "      <th>diarrea</th>\n",
       "      <th>nauseas</th>\n",
       "      <th>cefalea</th>\n",
       "      <th>irritabilidad</th>\n",
       "      <th>muscular</th>\n",
       "      <th>abdominal</th>\n",
       "      <th>pecho</th>\n",
       "      <th>articulaciones</th>\n",
       "      <th>MASCULINO</th>\n",
       "    </tr>\n",
       "  </thead>\n",
       "  <tbody>\n",
       "    <tr>\n",
       "      <th>0</th>\n",
       "      <td>0.256237</td>\n",
       "      <td>-0.598365</td>\n",
       "      <td>1.510147</td>\n",
       "      <td>-0.869864</td>\n",
       "      <td>-0.929752</td>\n",
       "      <td>1.948534</td>\n",
       "      <td>-0.367895</td>\n",
       "      <td>-0.298030</td>\n",
       "      <td>-0.231903</td>\n",
       "      <td>-0.665884</td>\n",
       "      <td>-0.098739</td>\n",
       "      <td>-0.392678</td>\n",
       "      <td>-0.147457</td>\n",
       "      <td>-0.384955</td>\n",
       "      <td>-0.182741</td>\n",
       "      <td>0.933072</td>\n",
       "    </tr>\n",
       "    <tr>\n",
       "      <th>1</th>\n",
       "      <td>1.649480</td>\n",
       "      <td>1.671219</td>\n",
       "      <td>1.510147</td>\n",
       "      <td>1.149605</td>\n",
       "      <td>-0.929752</td>\n",
       "      <td>-0.513206</td>\n",
       "      <td>-0.367895</td>\n",
       "      <td>-0.298030</td>\n",
       "      <td>-0.231903</td>\n",
       "      <td>1.501763</td>\n",
       "      <td>-0.098739</td>\n",
       "      <td>-0.392678</td>\n",
       "      <td>-0.147457</td>\n",
       "      <td>-0.384955</td>\n",
       "      <td>5.472214</td>\n",
       "      <td>-1.071729</td>\n",
       "    </tr>\n",
       "    <tr>\n",
       "      <th>2</th>\n",
       "      <td>1.269505</td>\n",
       "      <td>-0.598365</td>\n",
       "      <td>-0.662187</td>\n",
       "      <td>1.149605</td>\n",
       "      <td>-0.929752</td>\n",
       "      <td>1.948534</td>\n",
       "      <td>-0.367895</td>\n",
       "      <td>3.355362</td>\n",
       "      <td>-0.231903</td>\n",
       "      <td>-0.665884</td>\n",
       "      <td>-0.098739</td>\n",
       "      <td>-0.392678</td>\n",
       "      <td>-0.147457</td>\n",
       "      <td>-0.384955</td>\n",
       "      <td>-0.182741</td>\n",
       "      <td>0.933072</td>\n",
       "    </tr>\n",
       "    <tr>\n",
       "      <th>3</th>\n",
       "      <td>-1.770299</td>\n",
       "      <td>-0.598365</td>\n",
       "      <td>1.510147</td>\n",
       "      <td>1.149605</td>\n",
       "      <td>1.075556</td>\n",
       "      <td>1.948534</td>\n",
       "      <td>-0.367895</td>\n",
       "      <td>-0.298030</td>\n",
       "      <td>-0.231903</td>\n",
       "      <td>-0.665884</td>\n",
       "      <td>-0.098739</td>\n",
       "      <td>-0.392678</td>\n",
       "      <td>-0.147457</td>\n",
       "      <td>-0.384955</td>\n",
       "      <td>-0.182741</td>\n",
       "      <td>0.933072</td>\n",
       "    </tr>\n",
       "    <tr>\n",
       "      <th>4</th>\n",
       "      <td>2.346102</td>\n",
       "      <td>-0.598365</td>\n",
       "      <td>-0.662187</td>\n",
       "      <td>1.149605</td>\n",
       "      <td>1.075556</td>\n",
       "      <td>1.948534</td>\n",
       "      <td>-0.367895</td>\n",
       "      <td>-0.298030</td>\n",
       "      <td>-0.231903</td>\n",
       "      <td>-0.665884</td>\n",
       "      <td>-0.098739</td>\n",
       "      <td>-0.392678</td>\n",
       "      <td>-0.147457</td>\n",
       "      <td>-0.384955</td>\n",
       "      <td>-0.182741</td>\n",
       "      <td>0.933072</td>\n",
       "    </tr>\n",
       "  </tbody>\n",
       "</table>\n",
       "</div>"
      ],
      "text/plain": [
       "       edad    fiebre  malestar  ...     pecho  articulaciones  MASCULINO\n",
       "0  0.256237 -0.598365  1.510147  ... -0.384955       -0.182741   0.933072\n",
       "1  1.649480  1.671219  1.510147  ... -0.384955        5.472214  -1.071729\n",
       "2  1.269505 -0.598365 -0.662187  ... -0.384955       -0.182741   0.933072\n",
       "3 -1.770299 -0.598365  1.510147  ... -0.384955       -0.182741   0.933072\n",
       "4  2.346102 -0.598365 -0.662187  ... -0.384955       -0.182741   0.933072\n",
       "\n",
       "[5 rows x 16 columns]"
      ]
     },
     "execution_count": 69,
     "metadata": {
      "tags": []
     },
     "output_type": "execute_result"
    }
   ],
   "source": [
    "df_feat = pd.DataFrame(scaled_features,columns=temporal.columns[:-1])\n",
    "df_feat.head()"
   ]
  },
  {
   "cell_type": "markdown",
   "metadata": {
    "id": "g2klZNrs8a7r"
   },
   "source": [
    "División en conjunto de entrenamiento y prueba"
   ]
  },
  {
   "cell_type": "code",
   "execution_count": null,
   "metadata": {
    "id": "b9PrOhiL8Z9S"
   },
   "outputs": [],
   "source": [
    "from sklearn.model_selection import train_test_split"
   ]
  },
  {
   "cell_type": "code",
   "execution_count": null,
   "metadata": {
    "id": "rjV1I-hL8f9h"
   },
   "outputs": [],
   "source": [
    "X_train, X_test, y_train, y_test = train_test_split(scaled_features,temporal['POSITIVO'],\n",
    "                                                    test_size=0.30, random_state=101)"
   ]
  },
  {
   "cell_type": "markdown",
   "metadata": {
    "id": "i5XOnEbP8js4"
   },
   "source": [
    "Uso de KNN"
   ]
  },
  {
   "cell_type": "code",
   "execution_count": null,
   "metadata": {
    "id": "t9r6bWP98kRI"
   },
   "outputs": [],
   "source": [
    "from sklearn.neighbors import KNeighborsClassifier"
   ]
  },
  {
   "cell_type": "code",
   "execution_count": null,
   "metadata": {
    "id": "kxAvDca08ozg"
   },
   "outputs": [],
   "source": [
    "knn = KNeighborsClassifier(n_neighbors=1)"
   ]
  },
  {
   "cell_type": "code",
   "execution_count": null,
   "metadata": {
    "colab": {
     "base_uri": "https://localhost:8080/"
    },
    "id": "fG-EnH6N8rYd",
    "outputId": "ab43cfe2-f122-4de7-e7dc-b18c15583e1f"
   },
   "outputs": [
    {
     "data": {
      "text/plain": [
       "KNeighborsClassifier(algorithm='auto', leaf_size=30, metric='minkowski',\n",
       "                     metric_params=None, n_jobs=None, n_neighbors=1, p=2,\n",
       "                     weights='uniform')"
      ]
     },
     "execution_count": 74,
     "metadata": {
      "tags": []
     },
     "output_type": "execute_result"
    }
   ],
   "source": [
    "knn.fit(X_train,y_train)"
   ]
  },
  {
   "cell_type": "code",
   "execution_count": null,
   "metadata": {
    "id": "jgVw7_SQ8tny"
   },
   "outputs": [],
   "source": [
    "pred = knn.predict(X_test)"
   ]
  },
  {
   "cell_type": "markdown",
   "metadata": {
    "id": "UTXoAz4b8zqV"
   },
   "source": [
    "Predicciones y evaluaciones"
   ]
  },
  {
   "cell_type": "code",
   "execution_count": null,
   "metadata": {
    "id": "u--KeE4g80kA"
   },
   "outputs": [],
   "source": [
    "from sklearn.metrics import classification_report,confusion_matrix"
   ]
  },
  {
   "cell_type": "code",
   "execution_count": null,
   "metadata": {
    "colab": {
     "base_uri": "https://localhost:8080/"
    },
    "id": "Wjxo0cVO84uA",
    "outputId": "42a8afb7-83ad-4775-e376-eb7ed12930dc"
   },
   "outputs": [
    {
     "name": "stdout",
     "output_type": "stream",
     "text": [
      "[[694 297]\n",
      " [313 219]]\n"
     ]
    }
   ],
   "source": [
    "print(confusion_matrix(y_test,pred))"
   ]
  },
  {
   "cell_type": "code",
   "execution_count": null,
   "metadata": {
    "colab": {
     "base_uri": "https://localhost:8080/"
    },
    "id": "snzHHCPI87zZ",
    "outputId": "89fd8dd6-327a-43b3-c1b9-d8fc997a1193"
   },
   "outputs": [
    {
     "name": "stdout",
     "output_type": "stream",
     "text": [
      "              precision    recall  f1-score   support\n",
      "\n",
      "           0       0.69      0.70      0.69       991\n",
      "           1       0.42      0.41      0.42       532\n",
      "\n",
      "    accuracy                           0.60      1523\n",
      "   macro avg       0.56      0.56      0.56      1523\n",
      "weighted avg       0.60      0.60      0.60      1523\n",
      "\n"
     ]
    }
   ],
   "source": [
    "print(classification_report(y_test,pred))"
   ]
  },
  {
   "cell_type": "markdown",
   "metadata": {
    "id": "NxX02qCc9C5p"
   },
   "source": [
    "Elección del valor de K"
   ]
  },
  {
   "cell_type": "code",
   "execution_count": null,
   "metadata": {
    "colab": {
     "base_uri": "https://localhost:8080/"
    },
    "id": "dYb9HBqT9DvA",
    "outputId": "3df71f76-d5f6-46c1-df2b-cd90b2afcdac"
   },
   "outputs": [
    {
     "name": "stdout",
     "output_type": "stream",
     "text": [
      "0.2\n"
     ]
    }
   ],
   "source": [
    "#Forma en la que se calcula el error\n",
    "pron=[0,1,0,1,0]\n",
    "real=[0,1,0,1,1]\n",
    "c=np.mean(np.array(pron) != np.array(real))\n",
    "print(c)"
   ]
  },
  {
   "cell_type": "code",
   "execution_count": null,
   "metadata": {
    "id": "hSc6W3qn9IXp"
   },
   "outputs": [],
   "source": [
    "tasa_error = []\n",
    "\n",
    "# Tomará algún tiempo\n",
    "for i in range(1,41):\n",
    "    knn = KNeighborsClassifier(n_neighbors=i)\n",
    "    knn.fit(X_train,y_train)\n",
    "    pred_i = knn.predict(X_test)\n",
    "    tasa_error.append(np.mean(pred_i != y_test))"
   ]
  },
  {
   "cell_type": "code",
   "execution_count": null,
   "metadata": {
    "colab": {
     "base_uri": "https://localhost:8080/",
     "height": 421
    },
    "id": "DEkAiRJ-9Mhj",
    "outputId": "4ef97ebb-498c-4f37-d324-562193267029"
   },
   "outputs": [
    {
     "data": {
      "text/plain": [
       "Text(0, 0.5, 'Tasa de Error')"
      ]
     },
     "execution_count": 81,
     "metadata": {
      "tags": []
     },
     "output_type": "execute_result"
    },
    {
     "data": {
      "image/png": "[encoded data removed]",
      "text/plain": [
       "<Figure size 720x432 with 1 Axes>"
      ]
     },
     "metadata": {
      "needs_background": "light",
      "tags": []
     },
     "output_type": "display_data"
    }
   ],
   "source": [
    "plt.figure(figsize=(10,6))\n",
    "plt.plot(range(1,41),tasa_error,color='blue', linestyle='dashed', marker='o',\n",
    "         markerfacecolor='red', markersize=5)\n",
    "plt.title('Tasa de Error vs. Valor de K')\n",
    "plt.xlabel('K')\n",
    "plt.ylabel('Tasa de Error')"
   ]
  },
  {
   "cell_type": "code",
   "execution_count": null,
   "metadata": {
    "colab": {
     "base_uri": "https://localhost:8080/"
    },
    "id": "Zh4Xdo1k9QYx",
    "outputId": "8ead53c5-4a74-4af9-d6d6-5b58dcdc475c"
   },
   "outputs": [
    {
     "name": "stdout",
     "output_type": "stream",
     "text": [
      "CON K=1\n",
      "\n",
      "\n",
      "[[879 112]\n",
      " [362 170]]\n",
      "\n",
      "\n",
      "              precision    recall  f1-score   support\n",
      "\n",
      "           0       0.71      0.89      0.79       991\n",
      "           1       0.60      0.32      0.42       532\n",
      "\n",
      "    accuracy                           0.69      1523\n",
      "   macro avg       0.66      0.60      0.60      1523\n",
      "weighted avg       0.67      0.69      0.66      1523\n",
      "\n"
     ]
    }
   ],
   "source": [
    "# PRIMERO UNA COMPARACIÓN RÁPIDA CON EL K=25 ORIGINAL\n",
    "knn = KNeighborsClassifier(n_neighbors=25)\n",
    "\n",
    "knn.fit(X_train,y_train)\n",
    "pred = knn.predict(X_test)\n",
    "\n",
    "print('CON K=1')\n",
    "print('\\n')\n",
    "print(confusion_matrix(y_test,pred))\n",
    "print('\\n')\n",
    "print(classification_report(y_test,pred))"
   ]
  },
  {
   "cell_type": "code",
   "execution_count": null,
   "metadata": {
    "colab": {
     "base_uri": "https://localhost:8080/"
    },
    "id": "cLUkQd9A9Tut",
    "outputId": "581fbf58-9a44-43d9-f89b-0ce7deca617a"
   },
   "outputs": [
    {
     "name": "stdout",
     "output_type": "stream",
     "text": [
      "CON K=30\n",
      "\n",
      "\n",
      "[[894  97]\n",
      " [404 128]]\n",
      "\n",
      "\n",
      "              precision    recall  f1-score   support\n",
      "\n",
      "           0       0.69      0.90      0.78       991\n",
      "           1       0.57      0.24      0.34       532\n",
      "\n",
      "    accuracy                           0.67      1523\n",
      "   macro avg       0.63      0.57      0.56      1523\n",
      "weighted avg       0.65      0.67      0.63      1523\n",
      "\n"
     ]
    }
   ],
   "source": [
    "# AHORA CON K=10\n",
    "knn = KNeighborsClassifier(n_neighbors=10)\n",
    "\n",
    "knn.fit(X_train,y_train)\n",
    "pred = knn.predict(X_test)\n",
    "\n",
    "print('CON K=30')\n",
    "print('\\n')\n",
    "print(confusion_matrix(y_test,pred))\n",
    "print('\\n')\n",
    "print(classification_report(y_test,pred))"
   ]
  },
  {
   "cell_type": "markdown",
   "metadata": {
    "id": "AMC7cmoJ9ZID"
   },
   "source": [
    "# 3. Árboles de decisión"
   ]
  },
  {
   "cell_type": "markdown",
   "metadata": {
    "id": "9-B8IUqH9cjI"
   },
   "source": [
    "División en Conjunto de entrenamiento y de prueba"
   ]
  },
  {
   "cell_type": "code",
   "execution_count": null,
   "metadata": {
    "id": "2pm_osAk9aAw"
   },
   "outputs": [],
   "source": [
    "from sklearn.model_selection import train_test_split"
   ]
  },
  {
   "cell_type": "code",
   "execution_count": null,
   "metadata": {
    "id": "dRgCtFDH9hA4"
   },
   "outputs": [],
   "source": [
    "X = temporal.drop('POSITIVO',axis=1)\n",
    "y = temporal['POSITIVO']"
   ]
  },
  {
   "cell_type": "code",
   "execution_count": null,
   "metadata": {
    "id": "xeBP4UYz9jog"
   },
   "outputs": [],
   "source": [
    "X_train, X_test, y_train, y_test = train_test_split(X, y, test_size=0.30,random_state=101)"
   ]
  },
  {
   "cell_type": "markdown",
   "metadata": {
    "id": "gIsSkVSy9naY"
   },
   "source": [
    "Comenzaremos simplemente entrenando un solo árbol de decisión."
   ]
  },
  {
   "cell_type": "code",
   "execution_count": null,
   "metadata": {
    "id": "uGliaALK9oHY"
   },
   "outputs": [],
   "source": [
    "from sklearn.tree import DecisionTreeClassifier"
   ]
  },
  {
   "cell_type": "code",
   "execution_count": null,
   "metadata": {
    "id": "qvQGfzX99sbZ"
   },
   "outputs": [],
   "source": [
    "dtree = DecisionTreeClassifier(criterion='gini',random_state=101)"
   ]
  },
  {
   "cell_type": "code",
   "execution_count": null,
   "metadata": {
    "colab": {
     "base_uri": "https://localhost:8080/"
    },
    "id": "MkE8l8Z29uyw",
    "outputId": "e3aa80da-0f27-47ec-c13d-ae3d5b002af2"
   },
   "outputs": [
    {
     "data": {
      "text/plain": [
       "DecisionTreeClassifier(ccp_alpha=0.0, class_weight=None, criterion='gini',\n",
       "                       max_depth=None, max_features=None, max_leaf_nodes=None,\n",
       "                       min_impurity_decrease=0.0, min_impurity_split=None,\n",
       "                       min_samples_leaf=1, min_samples_split=2,\n",
       "                       min_weight_fraction_leaf=0.0, presort='deprecated',\n",
       "                       random_state=101, splitter='best')"
      ]
     },
     "execution_count": 89,
     "metadata": {
      "tags": []
     },
     "output_type": "execute_result"
    }
   ],
   "source": [
    "dtree.fit(X_train,y_train)"
   ]
  },
  {
   "cell_type": "markdown",
   "metadata": {
    "id": "dOl5GwL-9yl8"
   },
   "source": [
    "Evaluemos nuestro árbol de decisiones."
   ]
  },
  {
   "cell_type": "code",
   "execution_count": null,
   "metadata": {
    "id": "QTTN760I9zPR"
   },
   "outputs": [],
   "source": [
    "predictions = dtree.predict(X_test)"
   ]
  },
  {
   "cell_type": "code",
   "execution_count": null,
   "metadata": {
    "id": "_KIhpruJ91c4"
   },
   "outputs": [],
   "source": [
    "from sklearn.metrics import classification_report,confusion_matrix"
   ]
  },
  {
   "cell_type": "code",
   "execution_count": null,
   "metadata": {
    "colab": {
     "base_uri": "https://localhost:8080/"
    },
    "id": "qmKSAEMd94zR",
    "outputId": "8b9721cd-fb37-4233-b2a2-b4b78c510931"
   },
   "outputs": [
    {
     "name": "stdout",
     "output_type": "stream",
     "text": [
      "[[744 247]\n",
      " [311 221]]\n"
     ]
    }
   ],
   "source": [
    "print(confusion_matrix(y_test,predictions))"
   ]
  },
  {
   "cell_type": "code",
   "execution_count": null,
   "metadata": {
    "colab": {
     "base_uri": "https://localhost:8080/"
    },
    "id": "2FpxnBWK9_hB",
    "outputId": "dd744687-1050-4f11-84e2-75065ba462cd"
   },
   "outputs": [
    {
     "name": "stdout",
     "output_type": "stream",
     "text": [
      "              precision    recall  f1-score   support\n",
      "\n",
      "           0       0.71      0.75      0.73       991\n",
      "           1       0.47      0.42      0.44       532\n",
      "\n",
      "    accuracy                           0.63      1523\n",
      "   macro avg       0.59      0.58      0.58      1523\n",
      "weighted avg       0.62      0.63      0.63      1523\n",
      "\n"
     ]
    }
   ],
   "source": [
    "print(classification_report(y_test,predictions))"
   ]
  },
  {
   "cell_type": "markdown",
   "metadata": {
    "id": "0IWJXE_s-ENg"
   },
   "source": [
    "# IV. Aplicando Clustering\n",
    "\n",
    "Utilizaremos el modelo por Agrupamiento K Means"
   ]
  },
  {
   "cell_type": "markdown",
   "metadata": {
    "id": "6fXiEruD_igY"
   },
   "source": [
    "Preparación de datos para que pueda ser utilizado en el\n",
    "modelo.\n"
   ]
  },
  {
   "cell_type": "markdown",
   "metadata": {
    "id": "2tB8l57U_mFi"
   },
   "source": [
    "Creación de Dummy variables"
   ]
  },
  {
   "cell_type": "markdown",
   "metadata": {
    "id": "gYjuqNCtd3Gj"
   },
   "source": [
    "ESTANADARIZACION"
   ]
  },
  {
   "cell_type": "code",
   "execution_count": null,
   "metadata": {
    "id": "JXac5-WJd2qS"
   },
   "outputs": [],
   "source": [
    "from sklearn.preprocessing import StandardScaler"
   ]
  },
  {
   "cell_type": "code",
   "execution_count": null,
   "metadata": {
    "id": "1_yEIy1fd9D0"
   },
   "outputs": [],
   "source": [
    "scaler = StandardScaler()"
   ]
  },
  {
   "cell_type": "code",
   "execution_count": null,
   "metadata": {
    "colab": {
     "base_uri": "https://localhost:8080/"
    },
    "id": "dEKyRHWAeAhq",
    "outputId": "d73c8695-d898-466b-ca82-07d7666f7a60"
   },
   "outputs": [
    {
     "data": {
      "text/plain": [
       "StandardScaler(copy=True, with_mean=True, with_std=True)"
      ]
     },
     "execution_count": 95,
     "metadata": {
      "tags": []
     },
     "output_type": "execute_result"
    }
   ],
   "source": [
    "scaler.fit(temporal.drop('POSITIVO', axis=1))"
   ]
  },
  {
   "cell_type": "code",
   "execution_count": null,
   "metadata": {
    "id": "IZL9UhSjAb8C"
   },
   "outputs": [],
   "source": [
    "scaled_features = scaler.transform(temporal.drop('POSITIVO', axis=1))"
   ]
  },
  {
   "cell_type": "code",
   "execution_count": null,
   "metadata": {
    "colab": {
     "base_uri": "https://localhost:8080/",
     "height": 224
    },
    "id": "94yMVgJcAkwx",
    "outputId": "6dea331a-0858-4992-ce7f-ef9632715b28"
   },
   "outputs": [
    {
     "data": {
      "text/html": [
       "<div>\n",
       "<style scoped>\n",
       "    .dataframe tbody tr th:only-of-type {\n",
       "        vertical-align: middle;\n",
       "    }\n",
       "\n",
       "    .dataframe tbody tr th {\n",
       "        vertical-align: top;\n",
       "    }\n",
       "\n",
       "    .dataframe thead th {\n",
       "        text-align: right;\n",
       "    }\n",
       "</style>\n",
       "<table border=\"1\" class=\"dataframe\">\n",
       "  <thead>\n",
       "    <tr style=\"text-align: right;\">\n",
       "      <th></th>\n",
       "      <th>edad</th>\n",
       "      <th>fiebre</th>\n",
       "      <th>malestar</th>\n",
       "      <th>tos</th>\n",
       "      <th>garganta</th>\n",
       "      <th>congestion</th>\n",
       "      <th>respiratoria</th>\n",
       "      <th>diarrea</th>\n",
       "      <th>nauseas</th>\n",
       "      <th>cefalea</th>\n",
       "      <th>irritabilidad</th>\n",
       "      <th>muscular</th>\n",
       "      <th>abdominal</th>\n",
       "      <th>pecho</th>\n",
       "      <th>articulaciones</th>\n",
       "      <th>MASCULINO</th>\n",
       "    </tr>\n",
       "  </thead>\n",
       "  <tbody>\n",
       "    <tr>\n",
       "      <th>0</th>\n",
       "      <td>0.256237</td>\n",
       "      <td>-0.598365</td>\n",
       "      <td>1.510147</td>\n",
       "      <td>-0.869864</td>\n",
       "      <td>-0.929752</td>\n",
       "      <td>1.948534</td>\n",
       "      <td>-0.367895</td>\n",
       "      <td>-0.298030</td>\n",
       "      <td>-0.231903</td>\n",
       "      <td>-0.665884</td>\n",
       "      <td>-0.098739</td>\n",
       "      <td>-0.392678</td>\n",
       "      <td>-0.147457</td>\n",
       "      <td>-0.384955</td>\n",
       "      <td>-0.182741</td>\n",
       "      <td>0.933072</td>\n",
       "    </tr>\n",
       "    <tr>\n",
       "      <th>1</th>\n",
       "      <td>1.649480</td>\n",
       "      <td>1.671219</td>\n",
       "      <td>1.510147</td>\n",
       "      <td>1.149605</td>\n",
       "      <td>-0.929752</td>\n",
       "      <td>-0.513206</td>\n",
       "      <td>-0.367895</td>\n",
       "      <td>-0.298030</td>\n",
       "      <td>-0.231903</td>\n",
       "      <td>1.501763</td>\n",
       "      <td>-0.098739</td>\n",
       "      <td>-0.392678</td>\n",
       "      <td>-0.147457</td>\n",
       "      <td>-0.384955</td>\n",
       "      <td>5.472214</td>\n",
       "      <td>-1.071729</td>\n",
       "    </tr>\n",
       "    <tr>\n",
       "      <th>2</th>\n",
       "      <td>1.269505</td>\n",
       "      <td>-0.598365</td>\n",
       "      <td>-0.662187</td>\n",
       "      <td>1.149605</td>\n",
       "      <td>-0.929752</td>\n",
       "      <td>1.948534</td>\n",
       "      <td>-0.367895</td>\n",
       "      <td>3.355362</td>\n",
       "      <td>-0.231903</td>\n",
       "      <td>-0.665884</td>\n",
       "      <td>-0.098739</td>\n",
       "      <td>-0.392678</td>\n",
       "      <td>-0.147457</td>\n",
       "      <td>-0.384955</td>\n",
       "      <td>-0.182741</td>\n",
       "      <td>0.933072</td>\n",
       "    </tr>\n",
       "    <tr>\n",
       "      <th>3</th>\n",
       "      <td>-1.770299</td>\n",
       "      <td>-0.598365</td>\n",
       "      <td>1.510147</td>\n",
       "      <td>1.149605</td>\n",
       "      <td>1.075556</td>\n",
       "      <td>1.948534</td>\n",
       "      <td>-0.367895</td>\n",
       "      <td>-0.298030</td>\n",
       "      <td>-0.231903</td>\n",
       "      <td>-0.665884</td>\n",
       "      <td>-0.098739</td>\n",
       "      <td>-0.392678</td>\n",
       "      <td>-0.147457</td>\n",
       "      <td>-0.384955</td>\n",
       "      <td>-0.182741</td>\n",
       "      <td>0.933072</td>\n",
       "    </tr>\n",
       "    <tr>\n",
       "      <th>4</th>\n",
       "      <td>2.346102</td>\n",
       "      <td>-0.598365</td>\n",
       "      <td>-0.662187</td>\n",
       "      <td>1.149605</td>\n",
       "      <td>1.075556</td>\n",
       "      <td>1.948534</td>\n",
       "      <td>-0.367895</td>\n",
       "      <td>-0.298030</td>\n",
       "      <td>-0.231903</td>\n",
       "      <td>-0.665884</td>\n",
       "      <td>-0.098739</td>\n",
       "      <td>-0.392678</td>\n",
       "      <td>-0.147457</td>\n",
       "      <td>-0.384955</td>\n",
       "      <td>-0.182741</td>\n",
       "      <td>0.933072</td>\n",
       "    </tr>\n",
       "  </tbody>\n",
       "</table>\n",
       "</div>"
      ],
      "text/plain": [
       "       edad    fiebre  malestar  ...     pecho  articulaciones  MASCULINO\n",
       "0  0.256237 -0.598365  1.510147  ... -0.384955       -0.182741   0.933072\n",
       "1  1.649480  1.671219  1.510147  ... -0.384955        5.472214  -1.071729\n",
       "2  1.269505 -0.598365 -0.662187  ... -0.384955       -0.182741   0.933072\n",
       "3 -1.770299 -0.598365  1.510147  ... -0.384955       -0.182741   0.933072\n",
       "4  2.346102 -0.598365 -0.662187  ... -0.384955       -0.182741   0.933072\n",
       "\n",
       "[5 rows x 16 columns]"
      ]
     },
     "execution_count": 99,
     "metadata": {
      "tags": []
     },
     "output_type": "execute_result"
    }
   ],
   "source": [
    "data_scaled = pd.DataFrame(scaled_features,columns=temporal.drop('POSITIVO', axis=1).columns)\n",
    "data_scaled.head()"
   ]
  },
  {
   "cell_type": "code",
   "execution_count": null,
   "metadata": {
    "id": "j4AD7gKx26HH"
   },
   "outputs": [],
   "source": [
    "from sklearn.cluster import KMeans"
   ]
  },
  {
   "cell_type": "code",
   "execution_count": null,
   "metadata": {
    "id": "yOqbCgjU2Mtu"
   },
   "outputs": [],
   "source": [
    "kmeans = KMeans(n_clusters=2)"
   ]
  },
  {
   "cell_type": "code",
   "execution_count": null,
   "metadata": {
    "colab": {
     "base_uri": "https://localhost:8080/"
    },
    "id": "f3doNiSbWapo",
    "outputId": "c389a4dd-f278-41fb-9e3b-10a1aa4e356c"
   },
   "outputs": [
    {
     "data": {
      "text/plain": [
       "KMeans(algorithm='auto', copy_x=True, init='k-means++', max_iter=300,\n",
       "       n_clusters=2, n_init=10, n_jobs=None, precompute_distances='auto',\n",
       "       random_state=None, tol=0.0001, verbose=0)"
      ]
     },
     "execution_count": 20,
     "metadata": {
      "tags": []
     },
     "output_type": "execute_result"
    }
   ],
   "source": [
    "kmeans.fit(temporal)"
   ]
  },
  {
   "cell_type": "code",
   "execution_count": null,
   "metadata": {
    "colab": {
     "base_uri": "https://localhost:8080/"
    },
    "id": "rFd7TJyIq3UQ",
    "outputId": "e49b1976-09c1-4155-bd23-328a5d7ae846"
   },
   "outputs": [
    {
     "data": {
      "text/plain": [
       "KMeans(algorithm='auto', copy_x=True, init='k-means++', max_iter=300,\n",
       "       n_clusters=2, n_init=10, n_jobs=None, precompute_distances='auto',\n",
       "       random_state=None, tol=0.0001, verbose=0)"
      ]
     },
     "execution_count": 100,
     "metadata": {
      "tags": []
     },
     "output_type": "execute_result"
    }
   ],
   "source": [
    "kmeans.fit(data_scaled)"
   ]
  },
  {
   "cell_type": "code",
   "execution_count": null,
   "metadata": {
    "colab": {
     "base_uri": "https://localhost:8080/"
    },
    "id": "Zw0TTCne5JrC",
    "outputId": "a8364b99-de00-42f0-9863-de2817ce986e"
   },
   "outputs": [
    {
     "data": {
      "text/plain": [
       "array([[3.08451801e+01, 2.48945148e-01, 2.81726712e-01, 3.88834794e-01,\n",
       "        4.55371633e-01, 2.13242454e-01, 8.82830250e-02, 8.53618955e-02,\n",
       "        5.45277507e-02, 3.03148328e-01, 9.08795846e-03, 1.19766310e-01,\n",
       "        2.17461863e-02, 1.21064589e-01, 2.75884453e-02, 5.28075300e-01,\n",
       "        3.01850049e-01],\n",
       "       [5.65732197e+01, 2.86359077e-01, 3.40521565e-01, 4.95486459e-01,\n",
       "        4.76429288e-01, 2.01103310e-01, 1.67001003e-01, 7.57271815e-02,\n",
       "        4.56369107e-02, 3.13440321e-01, 1.05315948e-02, 1.54964895e-01,\n",
       "        2.05616851e-02, 1.41424273e-01, 3.96188566e-02, 5.44633902e-01,\n",
       "        4.01705115e-01]])"
      ]
     },
     "execution_count": 42,
     "metadata": {
      "tags": []
     },
     "output_type": "execute_result"
    }
   ],
   "source": [
    "# Los centroides de los grupos\n",
    "kmeans.cluster_centers_"
   ]
  },
  {
   "cell_type": "code",
   "execution_count": null,
   "metadata": {
    "id": "nK9yFNjmvDEP"
   },
   "outputs": [],
   "source": [
    "import collections"
   ]
  },
  {
   "cell_type": "code",
   "execution_count": null,
   "metadata": {
    "colab": {
     "base_uri": "https://localhost:8080/"
    },
    "id": "JUGapLxkrxb7",
    "outputId": "e0673552-fce5-468a-c055-2462e31f1c85"
   },
   "outputs": [
    {
     "data": {
      "text/plain": [
       "array([1, 1, 1, ..., 0, 0, 0], dtype=int32)"
      ]
     },
     "execution_count": 29,
     "metadata": {
      "tags": []
     },
     "output_type": "execute_result"
    }
   ],
   "source": [
    "kmeans.labels_"
   ]
  },
  {
   "cell_type": "code",
   "execution_count": null,
   "metadata": {
    "id": "T3DqfG9OA-85"
   },
   "outputs": [],
   "source": [
    "import collections"
   ]
  },
  {
   "cell_type": "code",
   "execution_count": null,
   "metadata": {
    "colab": {
     "base_uri": "https://localhost:8080/"
    },
    "id": "o1tKhlScr35i",
    "outputId": "d1318c54-c4ee-49c6-e72c-f9e390492bcf"
   },
   "outputs": [
    {
     "data": {
      "text/plain": [
       "Counter({0: 2769, 1: 2306})"
      ]
     },
     "execution_count": 102,
     "metadata": {
      "tags": []
     },
     "output_type": "execute_result"
    }
   ],
   "source": [
    "collections.Counter(kmeans.labels_)"
   ]
  },
  {
   "cell_type": "markdown",
   "metadata": {
    "id": "xG3ExOFnq_ci"
   },
   "source": [
    "EVALUACION DEL MODELO"
   ]
  },
  {
   "cell_type": "markdown",
   "metadata": {
    "id": "Tle3rudcBFzQ"
   },
   "source": [
    "(Si fueran varios evaluar cada uno)."
   ]
  },
  {
   "cell_type": "code",
   "execution_count": null,
   "metadata": {
    "id": "Hy8lBGaZr8Z2"
   },
   "outputs": [],
   "source": [
    "from sklearn.metrics import classification_report, confusion_matrix"
   ]
  },
  {
   "cell_type": "code",
   "execution_count": null,
   "metadata": {
    "colab": {
     "base_uri": "https://localhost:8080/"
    },
    "id": "AEwBdCwDwGEW",
    "outputId": "66e462dc-5148-411a-ae07-a38465ebf4ad"
   },
   "outputs": [
    {
     "name": "stdout",
     "output_type": "stream",
     "text": [
      "[[2126 1218]\n",
      " [ 643 1088]]\n"
     ]
    }
   ],
   "source": [
    "print(confusion_matrix(temporal['POSITIVO'], kmeans.labels_))"
   ]
  },
  {
   "cell_type": "code",
   "execution_count": null,
   "metadata": {
    "colab": {
     "base_uri": "https://localhost:8080/"
    },
    "id": "lZ5pl5LnBSLG",
    "outputId": "f336c5b9-f15b-408c-d710-44133535a29f"
   },
   "outputs": [
    {
     "name": "stdout",
     "output_type": "stream",
     "text": [
      "              precision    recall  f1-score   support\n",
      "\n",
      "           0       0.77      0.64      0.70      3344\n",
      "           1       0.47      0.63      0.54      1731\n",
      "\n",
      "    accuracy                           0.63      5075\n",
      "   macro avg       0.62      0.63      0.62      5075\n",
      "weighted avg       0.67      0.63      0.64      5075\n",
      "\n"
     ]
    }
   ],
   "source": [
    "print(classification_report(temporal['POSITIVO'], kmeans.labels_))"
   ]
  },
  {
   "cell_type": "markdown",
   "metadata": {
    "id": "kRG5fqq7BaI3"
   },
   "source": [
    "Según la agrupación de datos obtenidas, el modelo en general tiene una precisión del 63% , sin embargo\n",
    "nuestro modelo identifica con mayor precisión los casos positivos.\n"
   ]
  },
  {
   "cell_type": "markdown",
   "metadata": {
    "id": "wR8c-3TSEbXO"
   },
   "source": [
    "# V. Aplicando Red Neuronal Profunda"
   ]
  },
  {
   "cell_type": "markdown",
   "metadata": {
    "id": "PzNYt32sE06G"
   },
   "source": [
    "Red Neuronal con Keras"
   ]
  },
  {
   "cell_type": "code",
   "execution_count": null,
   "metadata": {
    "id": "dP5sRHZDEdE1"
   },
   "outputs": [],
   "source": [
    "from numpy import loadtxt\n",
    "from keras.models import Sequential\n",
    "from keras.layers import Dense #Completamente conectado"
   ]
  },
  {
   "cell_type": "markdown",
   "metadata": {
    "id": "VBwRTKh7FL1l"
   },
   "source": [
    "Definición de variables de entrada(X) y salida(y)"
   ]
  },
  {
   "cell_type": "code",
   "execution_count": null,
   "metadata": {
    "id": "En5fZ_ykGa19"
   },
   "outputs": [],
   "source": [
    "x = temporal.drop('POSITIVO',axis=1)\n",
    "y = temporal['POSITIVO']"
   ]
  },
  {
   "cell_type": "code",
   "execution_count": null,
   "metadata": {
    "colab": {
     "base_uri": "https://localhost:8080/"
    },
    "id": "Sot6d8raHJtv",
    "outputId": "9b35fa1a-a9d3-4942-9592-fe04656c3f7b"
   },
   "outputs": [
    {
     "data": {
      "text/plain": [
       "Index(['edad', 'fiebre', 'malestar', 'tos', 'garganta', 'congestion',\n",
       "       'respiratoria', 'diarrea', 'nauseas', 'cefalea', 'irritabilidad',\n",
       "       'muscular', 'abdominal', 'pecho', 'articulaciones', 'MASCULINO',\n",
       "       'POSITIVO'],\n",
       "      dtype='object')"
      ]
     },
     "execution_count": 127,
     "metadata": {
      "tags": []
     },
     "output_type": "execute_result"
    }
   ],
   "source": [
    "temporal.columns"
   ]
  },
  {
   "cell_type": "code",
   "execution_count": null,
   "metadata": {
    "id": "BvhPLa1QGvgt"
   },
   "outputs": [],
   "source": [
    "modelo = Sequential()\n",
    "modelo.add(Dense(12, input_dim=16,activation='relu'))\n",
    "modelo.add(Dense(8, activation='relu'))\n",
    "modelo.add(Dense(1, activation='sigmoid'))"
   ]
  },
  {
   "cell_type": "markdown",
   "metadata": {
    "id": "eaiuLn2WIf12"
   },
   "source": [
    "Compilar el modelo Keras"
   ]
  },
  {
   "cell_type": "code",
   "execution_count": null,
   "metadata": {
    "id": "9NrNEwhpHYsP"
   },
   "outputs": [],
   "source": [
    "#funcion de pérdida Para salidas binarias\n",
    "modelo.compile(loss='binary_crossentropy', optimizer='adam', metrics=['accuracy'])"
   ]
  },
  {
   "cell_type": "markdown",
   "metadata": {
    "id": "UY-IzFJYIaFU"
   },
   "source": [
    "Entrenando"
   ]
  },
  {
   "cell_type": "code",
   "execution_count": null,
   "metadata": {
    "colab": {
     "base_uri": "https://localhost:8080/"
    },
    "id": "6eVvZvqKHeEN",
    "outputId": "77338bdf-7ced-4c3f-a131-59ce005c603c"
   },
   "outputs": [
    {
     "name": "stdout",
     "output_type": "stream",
     "text": [
      "Epoch 1/200\n",
      "318/318 [==============================] - 1s 1ms/step - loss: 0.7211 - accuracy: 0.6124\n",
      "Epoch 2/200\n",
      "318/318 [==============================] - 0s 1ms/step - loss: 0.6258 - accuracy: 0.6548\n",
      "Epoch 3/200\n",
      "318/318 [==============================] - 0s 1ms/step - loss: 0.5947 - accuracy: 0.6751\n",
      "Epoch 4/200\n",
      "318/318 [==============================] - 0s 1ms/step - loss: 0.6031 - accuracy: 0.6741\n",
      "Epoch 5/200\n",
      "318/318 [==============================] - 0s 1ms/step - loss: 0.5904 - accuracy: 0.6908\n",
      "Epoch 6/200\n",
      "318/318 [==============================] - 0s 1ms/step - loss: 0.5986 - accuracy: 0.6821\n",
      "Epoch 7/200\n",
      "318/318 [==============================] - 0s 1ms/step - loss: 0.5772 - accuracy: 0.6921\n",
      "Epoch 8/200\n",
      "318/318 [==============================] - 0s 1ms/step - loss: 0.5926 - accuracy: 0.6785\n",
      "Epoch 9/200\n",
      "318/318 [==============================] - 0s 1ms/step - loss: 0.5949 - accuracy: 0.6866\n",
      "Epoch 10/200\n",
      "318/318 [==============================] - 0s 1ms/step - loss: 0.5898 - accuracy: 0.6869\n",
      "Epoch 11/200\n",
      "318/318 [==============================] - 0s 1ms/step - loss: 0.5766 - accuracy: 0.6906\n",
      "Epoch 12/200\n",
      "318/318 [==============================] - 0s 1ms/step - loss: 0.5718 - accuracy: 0.7040\n",
      "Epoch 13/200\n",
      "318/318 [==============================] - 0s 1ms/step - loss: 0.5828 - accuracy: 0.6927\n",
      "Epoch 14/200\n",
      "318/318 [==============================] - 0s 1ms/step - loss: 0.5851 - accuracy: 0.6969\n",
      "Epoch 15/200\n",
      "318/318 [==============================] - 0s 1ms/step - loss: 0.5832 - accuracy: 0.6938\n",
      "Epoch 16/200\n",
      "318/318 [==============================] - 0s 1ms/step - loss: 0.5861 - accuracy: 0.6836\n",
      "Epoch 17/200\n",
      "318/318 [==============================] - 0s 1ms/step - loss: 0.6000 - accuracy: 0.6770\n",
      "Epoch 18/200\n",
      "318/318 [==============================] - 0s 1ms/step - loss: 0.5887 - accuracy: 0.6939\n",
      "Epoch 19/200\n",
      "318/318 [==============================] - 0s 1ms/step - loss: 0.5913 - accuracy: 0.6842\n",
      "Epoch 20/200\n",
      "318/318 [==============================] - 1s 2ms/step - loss: 0.5871 - accuracy: 0.6990\n",
      "Epoch 21/200\n",
      "318/318 [==============================] - 1s 2ms/step - loss: 0.5948 - accuracy: 0.6839\n",
      "Epoch 22/200\n",
      "318/318 [==============================] - 1s 2ms/step - loss: 0.5811 - accuracy: 0.6953\n",
      "Epoch 23/200\n",
      "318/318 [==============================] - 1s 2ms/step - loss: 0.5928 - accuracy: 0.6883\n",
      "Epoch 24/200\n",
      "318/318 [==============================] - 1s 2ms/step - loss: 0.5948 - accuracy: 0.6869\n",
      "Epoch 25/200\n",
      "318/318 [==============================] - 1s 2ms/step - loss: 0.5894 - accuracy: 0.6847\n",
      "Epoch 26/200\n",
      "318/318 [==============================] - 1s 2ms/step - loss: 0.5939 - accuracy: 0.6903\n",
      "Epoch 27/200\n",
      "318/318 [==============================] - 0s 1ms/step - loss: 0.5797 - accuracy: 0.6884\n",
      "Epoch 28/200\n",
      "318/318 [==============================] - 0s 1ms/step - loss: 0.5881 - accuracy: 0.6898\n",
      "Epoch 29/200\n",
      "318/318 [==============================] - 0s 1ms/step - loss: 0.5912 - accuracy: 0.6889\n",
      "Epoch 30/200\n",
      "318/318 [==============================] - 0s 1ms/step - loss: 0.5770 - accuracy: 0.7047\n",
      "Epoch 31/200\n",
      "318/318 [==============================] - 0s 1ms/step - loss: 0.5789 - accuracy: 0.6923\n",
      "Epoch 32/200\n",
      "318/318 [==============================] - 0s 1ms/step - loss: 0.5861 - accuracy: 0.6887\n",
      "Epoch 33/200\n",
      "318/318 [==============================] - 0s 1ms/step - loss: 0.5818 - accuracy: 0.6955\n",
      "Epoch 34/200\n",
      "318/318 [==============================] - 0s 1ms/step - loss: 0.5756 - accuracy: 0.7019\n",
      "Epoch 35/200\n",
      "318/318 [==============================] - 0s 1ms/step - loss: 0.5818 - accuracy: 0.7021\n",
      "Epoch 36/200\n",
      "318/318 [==============================] - 0s 1ms/step - loss: 0.5815 - accuracy: 0.6922\n",
      "Epoch 37/200\n",
      "318/318 [==============================] - 0s 1ms/step - loss: 0.5885 - accuracy: 0.6970\n",
      "Epoch 38/200\n",
      "318/318 [==============================] - 0s 1ms/step - loss: 0.5898 - accuracy: 0.6829\n",
      "Epoch 39/200\n",
      "318/318 [==============================] - 0s 1ms/step - loss: 0.5858 - accuracy: 0.6912\n",
      "Epoch 40/200\n",
      "318/318 [==============================] - 0s 1ms/step - loss: 0.5887 - accuracy: 0.7002\n",
      "Epoch 41/200\n",
      "318/318 [==============================] - 0s 1ms/step - loss: 0.5800 - accuracy: 0.6934\n",
      "Epoch 42/200\n",
      "318/318 [==============================] - 0s 1ms/step - loss: 0.5882 - accuracy: 0.6903\n",
      "Epoch 43/200\n",
      "318/318 [==============================] - 0s 1ms/step - loss: 0.5732 - accuracy: 0.7044\n",
      "Epoch 44/200\n",
      "318/318 [==============================] - 0s 1ms/step - loss: 0.5839 - accuracy: 0.6953\n",
      "Epoch 45/200\n",
      "318/318 [==============================] - 0s 1ms/step - loss: 0.5794 - accuracy: 0.6957\n",
      "Epoch 46/200\n",
      "318/318 [==============================] - 0s 1ms/step - loss: 0.5999 - accuracy: 0.6882\n",
      "Epoch 47/200\n",
      "318/318 [==============================] - 0s 1ms/step - loss: 0.5877 - accuracy: 0.6890\n",
      "Epoch 48/200\n",
      "318/318 [==============================] - 0s 1ms/step - loss: 0.5842 - accuracy: 0.6950\n",
      "Epoch 49/200\n",
      "318/318 [==============================] - 0s 1ms/step - loss: 0.5762 - accuracy: 0.7002\n",
      "Epoch 50/200\n",
      "318/318 [==============================] - 0s 1ms/step - loss: 0.5830 - accuracy: 0.6892\n",
      "Epoch 51/200\n",
      "318/318 [==============================] - 0s 1ms/step - loss: 0.5853 - accuracy: 0.6896\n",
      "Epoch 52/200\n",
      "318/318 [==============================] - 0s 1ms/step - loss: 0.5847 - accuracy: 0.6904\n",
      "Epoch 53/200\n",
      "318/318 [==============================] - 0s 1ms/step - loss: 0.5954 - accuracy: 0.6936\n",
      "Epoch 54/200\n",
      "318/318 [==============================] - 0s 1ms/step - loss: 0.5923 - accuracy: 0.6925\n",
      "Epoch 55/200\n",
      "318/318 [==============================] - 0s 1ms/step - loss: 0.5779 - accuracy: 0.6955\n",
      "Epoch 56/200\n",
      "318/318 [==============================] - 0s 1ms/step - loss: 0.5770 - accuracy: 0.6972\n",
      "Epoch 57/200\n",
      "318/318 [==============================] - 0s 1ms/step - loss: 0.5810 - accuracy: 0.6988\n",
      "Epoch 58/200\n",
      "318/318 [==============================] - 0s 1ms/step - loss: 0.5944 - accuracy: 0.6823\n",
      "Epoch 59/200\n",
      "318/318 [==============================] - 0s 1ms/step - loss: 0.5852 - accuracy: 0.6866\n",
      "Epoch 60/200\n",
      "318/318 [==============================] - 0s 1ms/step - loss: 0.5855 - accuracy: 0.6974\n",
      "Epoch 61/200\n",
      "318/318 [==============================] - 0s 1ms/step - loss: 0.5773 - accuracy: 0.6984\n",
      "Epoch 62/200\n",
      "318/318 [==============================] - 0s 1ms/step - loss: 0.5801 - accuracy: 0.6946\n",
      "Epoch 63/200\n",
      "318/318 [==============================] - 0s 1ms/step - loss: 0.5922 - accuracy: 0.6858\n",
      "Epoch 64/200\n",
      "318/318 [==============================] - 0s 1ms/step - loss: 0.5822 - accuracy: 0.7051\n",
      "Epoch 65/200\n",
      "318/318 [==============================] - 0s 1ms/step - loss: 0.5799 - accuracy: 0.6945\n",
      "Epoch 66/200\n",
      "318/318 [==============================] - 0s 1ms/step - loss: 0.5909 - accuracy: 0.6759\n",
      "Epoch 67/200\n",
      "318/318 [==============================] - 0s 1ms/step - loss: 0.5821 - accuracy: 0.6935\n",
      "Epoch 68/200\n",
      "318/318 [==============================] - 0s 1ms/step - loss: 0.5954 - accuracy: 0.6840\n",
      "Epoch 69/200\n",
      "318/318 [==============================] - 0s 1ms/step - loss: 0.5795 - accuracy: 0.6906\n",
      "Epoch 70/200\n",
      "318/318 [==============================] - 0s 1ms/step - loss: 0.5782 - accuracy: 0.7042\n",
      "Epoch 71/200\n",
      "318/318 [==============================] - 0s 1ms/step - loss: 0.5706 - accuracy: 0.6970\n",
      "Epoch 72/200\n",
      "318/318 [==============================] - 0s 1ms/step - loss: 0.5841 - accuracy: 0.6934\n",
      "Epoch 73/200\n",
      "318/318 [==============================] - 0s 1ms/step - loss: 0.5719 - accuracy: 0.6990\n",
      "Epoch 74/200\n",
      "318/318 [==============================] - 0s 1ms/step - loss: 0.5603 - accuracy: 0.7088\n",
      "Epoch 75/200\n",
      "318/318 [==============================] - 0s 1ms/step - loss: 0.5853 - accuracy: 0.6857\n",
      "Epoch 76/200\n",
      "318/318 [==============================] - 0s 1ms/step - loss: 0.5734 - accuracy: 0.7063\n",
      "Epoch 77/200\n",
      "318/318 [==============================] - 0s 1ms/step - loss: 0.5719 - accuracy: 0.7088\n",
      "Epoch 78/200\n",
      "318/318 [==============================] - 0s 1ms/step - loss: 0.5836 - accuracy: 0.6979\n",
      "Epoch 79/200\n",
      "318/318 [==============================] - 0s 1ms/step - loss: 0.5834 - accuracy: 0.6949\n",
      "Epoch 80/200\n",
      "318/318 [==============================] - 0s 1ms/step - loss: 0.5717 - accuracy: 0.7035\n",
      "Epoch 81/200\n",
      "318/318 [==============================] - 0s 1ms/step - loss: 0.5755 - accuracy: 0.7019\n",
      "Epoch 82/200\n",
      "318/318 [==============================] - 0s 1ms/step - loss: 0.5811 - accuracy: 0.6945\n",
      "Epoch 83/200\n",
      "318/318 [==============================] - 0s 1ms/step - loss: 0.5673 - accuracy: 0.7040\n",
      "Epoch 84/200\n",
      "318/318 [==============================] - 0s 1ms/step - loss: 0.5792 - accuracy: 0.6924\n",
      "Epoch 85/200\n",
      "318/318 [==============================] - 0s 1ms/step - loss: 0.5819 - accuracy: 0.6968\n",
      "Epoch 86/200\n",
      "318/318 [==============================] - 0s 1ms/step - loss: 0.5693 - accuracy: 0.7088\n",
      "Epoch 87/200\n",
      "318/318 [==============================] - 0s 1ms/step - loss: 0.5803 - accuracy: 0.6963\n",
      "Epoch 88/200\n",
      "318/318 [==============================] - 0s 1ms/step - loss: 0.5831 - accuracy: 0.6961\n",
      "Epoch 89/200\n",
      "318/318 [==============================] - 0s 1ms/step - loss: 0.5770 - accuracy: 0.6972\n",
      "Epoch 90/200\n",
      "318/318 [==============================] - 0s 1ms/step - loss: 0.5823 - accuracy: 0.6895\n",
      "Epoch 91/200\n",
      "318/318 [==============================] - 0s 1ms/step - loss: 0.5721 - accuracy: 0.7028\n",
      "Epoch 92/200\n",
      "318/318 [==============================] - 0s 1ms/step - loss: 0.5832 - accuracy: 0.6888\n",
      "Epoch 93/200\n",
      "318/318 [==============================] - 0s 1ms/step - loss: 0.5798 - accuracy: 0.6885\n",
      "Epoch 94/200\n",
      "318/318 [==============================] - 0s 1ms/step - loss: 0.5822 - accuracy: 0.6933\n",
      "Epoch 95/200\n",
      "318/318 [==============================] - 0s 1ms/step - loss: 0.5853 - accuracy: 0.6893\n",
      "Epoch 96/200\n",
      "318/318 [==============================] - 0s 1ms/step - loss: 0.5783 - accuracy: 0.6993\n",
      "Epoch 97/200\n",
      "318/318 [==============================] - 0s 1ms/step - loss: 0.5782 - accuracy: 0.6968\n",
      "Epoch 98/200\n",
      "318/318 [==============================] - 0s 1ms/step - loss: 0.5669 - accuracy: 0.7111\n",
      "Epoch 99/200\n",
      "318/318 [==============================] - 0s 1ms/step - loss: 0.5779 - accuracy: 0.6894\n",
      "Epoch 100/200\n",
      "318/318 [==============================] - 0s 1ms/step - loss: 0.5863 - accuracy: 0.6907\n",
      "Epoch 101/200\n",
      "318/318 [==============================] - 0s 1ms/step - loss: 0.5836 - accuracy: 0.6874\n",
      "Epoch 102/200\n",
      "318/318 [==============================] - 0s 1ms/step - loss: 0.5763 - accuracy: 0.7006\n",
      "Epoch 103/200\n",
      "318/318 [==============================] - 0s 1ms/step - loss: 0.5795 - accuracy: 0.6915\n",
      "Epoch 104/200\n",
      "318/318 [==============================] - 0s 1ms/step - loss: 0.5752 - accuracy: 0.7061\n",
      "Epoch 105/200\n",
      "318/318 [==============================] - 0s 1ms/step - loss: 0.5751 - accuracy: 0.7026\n",
      "Epoch 106/200\n",
      "318/318 [==============================] - 0s 1ms/step - loss: 0.5808 - accuracy: 0.6956\n",
      "Epoch 107/200\n",
      "318/318 [==============================] - 0s 1ms/step - loss: 0.5813 - accuracy: 0.7028\n",
      "Epoch 108/200\n",
      "318/318 [==============================] - 0s 1ms/step - loss: 0.5792 - accuracy: 0.6938\n",
      "Epoch 109/200\n",
      "318/318 [==============================] - 0s 1ms/step - loss: 0.5708 - accuracy: 0.6927\n",
      "Epoch 110/200\n",
      "318/318 [==============================] - 0s 1ms/step - loss: 0.5756 - accuracy: 0.7023\n",
      "Epoch 111/200\n",
      "318/318 [==============================] - 0s 1ms/step - loss: 0.5799 - accuracy: 0.7041\n",
      "Epoch 112/200\n",
      "318/318 [==============================] - 0s 1ms/step - loss: 0.5840 - accuracy: 0.6887\n",
      "Epoch 113/200\n",
      "318/318 [==============================] - 0s 1ms/step - loss: 0.5773 - accuracy: 0.6964\n",
      "Epoch 114/200\n",
      "318/318 [==============================] - 0s 1ms/step - loss: 0.5734 - accuracy: 0.7025\n",
      "Epoch 115/200\n",
      "318/318 [==============================] - 0s 1ms/step - loss: 0.5783 - accuracy: 0.6976\n",
      "Epoch 116/200\n",
      "318/318 [==============================] - 0s 1ms/step - loss: 0.5874 - accuracy: 0.6831\n",
      "Epoch 117/200\n",
      "318/318 [==============================] - 0s 1ms/step - loss: 0.5745 - accuracy: 0.6962\n",
      "Epoch 118/200\n",
      "318/318 [==============================] - 0s 1ms/step - loss: 0.5653 - accuracy: 0.7034\n",
      "Epoch 119/200\n",
      "318/318 [==============================] - 0s 1ms/step - loss: 0.5851 - accuracy: 0.6932\n",
      "Epoch 120/200\n",
      "318/318 [==============================] - 0s 1ms/step - loss: 0.5729 - accuracy: 0.7037\n",
      "Epoch 121/200\n",
      "318/318 [==============================] - 0s 1ms/step - loss: 0.5646 - accuracy: 0.7100\n",
      "Epoch 122/200\n",
      "318/318 [==============================] - 0s 1ms/step - loss: 0.5726 - accuracy: 0.7051\n",
      "Epoch 123/200\n",
      "318/318 [==============================] - 0s 1ms/step - loss: 0.5765 - accuracy: 0.6930\n",
      "Epoch 124/200\n",
      "318/318 [==============================] - 0s 1ms/step - loss: 0.5681 - accuracy: 0.7075\n",
      "Epoch 125/200\n",
      "318/318 [==============================] - 0s 1ms/step - loss: 0.5725 - accuracy: 0.6968\n",
      "Epoch 126/200\n",
      "318/318 [==============================] - 0s 1ms/step - loss: 0.5796 - accuracy: 0.6971\n",
      "Epoch 127/200\n",
      "318/318 [==============================] - 0s 1ms/step - loss: 0.5701 - accuracy: 0.7016\n",
      "Epoch 128/200\n",
      "318/318 [==============================] - 0s 1ms/step - loss: 0.5782 - accuracy: 0.6985\n",
      "Epoch 129/200\n",
      "318/318 [==============================] - 0s 1ms/step - loss: 0.5779 - accuracy: 0.6910\n",
      "Epoch 130/200\n",
      "318/318 [==============================] - 0s 1ms/step - loss: 0.5824 - accuracy: 0.6970\n",
      "Epoch 131/200\n",
      "318/318 [==============================] - 0s 1ms/step - loss: 0.5728 - accuracy: 0.6916\n",
      "Epoch 132/200\n",
      "318/318 [==============================] - 0s 1ms/step - loss: 0.5703 - accuracy: 0.7024\n",
      "Epoch 133/200\n",
      "318/318 [==============================] - 0s 1ms/step - loss: 0.5704 - accuracy: 0.7058\n",
      "Epoch 134/200\n",
      "318/318 [==============================] - 0s 1ms/step - loss: 0.5763 - accuracy: 0.6951\n",
      "Epoch 135/200\n",
      "318/318 [==============================] - 0s 1ms/step - loss: 0.5701 - accuracy: 0.7087\n",
      "Epoch 136/200\n",
      "318/318 [==============================] - 0s 1ms/step - loss: 0.5791 - accuracy: 0.6971\n",
      "Epoch 137/200\n",
      "318/318 [==============================] - 0s 1ms/step - loss: 0.5766 - accuracy: 0.7003\n",
      "Epoch 138/200\n",
      "318/318 [==============================] - 0s 1ms/step - loss: 0.5696 - accuracy: 0.7046\n",
      "Epoch 139/200\n",
      "318/318 [==============================] - 0s 1ms/step - loss: 0.5769 - accuracy: 0.7048\n",
      "Epoch 140/200\n",
      "318/318 [==============================] - 0s 1ms/step - loss: 0.5758 - accuracy: 0.6981\n",
      "Epoch 141/200\n",
      "318/318 [==============================] - 0s 1ms/step - loss: 0.5804 - accuracy: 0.7004\n",
      "Epoch 142/200\n",
      "318/318 [==============================] - 0s 1ms/step - loss: 0.5842 - accuracy: 0.6895\n",
      "Epoch 143/200\n",
      "318/318 [==============================] - 0s 1ms/step - loss: 0.5723 - accuracy: 0.7001\n",
      "Epoch 144/200\n",
      "318/318 [==============================] - 0s 1ms/step - loss: 0.5679 - accuracy: 0.7065\n",
      "Epoch 145/200\n",
      "318/318 [==============================] - 0s 1ms/step - loss: 0.5751 - accuracy: 0.6944\n",
      "Epoch 146/200\n",
      "318/318 [==============================] - 0s 1ms/step - loss: 0.5785 - accuracy: 0.6873\n",
      "Epoch 147/200\n",
      "318/318 [==============================] - 0s 1ms/step - loss: 0.5832 - accuracy: 0.6945\n",
      "Epoch 148/200\n",
      "318/318 [==============================] - 0s 1ms/step - loss: 0.5774 - accuracy: 0.6994\n",
      "Epoch 149/200\n",
      "318/318 [==============================] - 0s 1ms/step - loss: 0.5789 - accuracy: 0.6938\n",
      "Epoch 150/200\n",
      "318/318 [==============================] - 0s 1ms/step - loss: 0.5711 - accuracy: 0.7052\n",
      "Epoch 151/200\n",
      "318/318 [==============================] - 0s 1ms/step - loss: 0.5804 - accuracy: 0.6937\n",
      "Epoch 152/200\n",
      "318/318 [==============================] - 0s 1ms/step - loss: 0.5863 - accuracy: 0.6867\n",
      "Epoch 153/200\n",
      "318/318 [==============================] - 0s 1ms/step - loss: 0.5702 - accuracy: 0.7044\n",
      "Epoch 154/200\n",
      "318/318 [==============================] - 0s 1ms/step - loss: 0.5715 - accuracy: 0.6981\n",
      "Epoch 155/200\n",
      "318/318 [==============================] - 0s 1ms/step - loss: 0.5815 - accuracy: 0.6952\n",
      "Epoch 156/200\n",
      "318/318 [==============================] - 0s 1ms/step - loss: 0.5754 - accuracy: 0.6947\n",
      "Epoch 157/200\n",
      "318/318 [==============================] - 0s 1ms/step - loss: 0.5660 - accuracy: 0.7085\n",
      "Epoch 158/200\n",
      "318/318 [==============================] - 0s 1ms/step - loss: 0.5665 - accuracy: 0.7128\n",
      "Epoch 159/200\n",
      "318/318 [==============================] - 0s 1ms/step - loss: 0.5697 - accuracy: 0.7092\n",
      "Epoch 160/200\n",
      "318/318 [==============================] - 0s 1ms/step - loss: 0.5661 - accuracy: 0.7102\n",
      "Epoch 161/200\n",
      "318/318 [==============================] - 0s 1ms/step - loss: 0.5783 - accuracy: 0.6938\n",
      "Epoch 162/200\n",
      "318/318 [==============================] - 0s 1ms/step - loss: 0.5688 - accuracy: 0.7075\n",
      "Epoch 163/200\n",
      "318/318 [==============================] - 0s 1ms/step - loss: 0.5779 - accuracy: 0.6982\n",
      "Epoch 164/200\n",
      "318/318 [==============================] - 0s 1ms/step - loss: 0.5639 - accuracy: 0.7106\n",
      "Epoch 165/200\n",
      "318/318 [==============================] - 0s 1ms/step - loss: 0.5756 - accuracy: 0.6941\n",
      "Epoch 166/200\n",
      "318/318 [==============================] - 0s 1ms/step - loss: 0.5647 - accuracy: 0.6991\n",
      "Epoch 167/200\n",
      "318/318 [==============================] - 0s 1ms/step - loss: 0.5827 - accuracy: 0.6908\n",
      "Epoch 168/200\n",
      "318/318 [==============================] - 0s 1ms/step - loss: 0.5725 - accuracy: 0.6961\n",
      "Epoch 169/200\n",
      "318/318 [==============================] - 0s 1ms/step - loss: 0.5655 - accuracy: 0.7128\n",
      "Epoch 170/200\n",
      "318/318 [==============================] - 0s 1ms/step - loss: 0.5759 - accuracy: 0.7022\n",
      "Epoch 171/200\n",
      "318/318 [==============================] - 0s 1ms/step - loss: 0.5883 - accuracy: 0.6752\n",
      "Epoch 172/200\n",
      "318/318 [==============================] - 0s 1ms/step - loss: 0.5820 - accuracy: 0.6961\n",
      "Epoch 173/200\n",
      "318/318 [==============================] - 0s 1ms/step - loss: 0.5691 - accuracy: 0.7127\n",
      "Epoch 174/200\n",
      "318/318 [==============================] - 0s 1ms/step - loss: 0.5692 - accuracy: 0.7045\n",
      "Epoch 175/200\n",
      "318/318 [==============================] - 0s 1ms/step - loss: 0.5632 - accuracy: 0.7175\n",
      "Epoch 176/200\n",
      "318/318 [==============================] - 0s 1ms/step - loss: 0.5727 - accuracy: 0.7040\n",
      "Epoch 177/200\n",
      "318/318 [==============================] - 0s 1ms/step - loss: 0.5712 - accuracy: 0.7009\n",
      "Epoch 178/200\n",
      "318/318 [==============================] - 0s 1ms/step - loss: 0.5641 - accuracy: 0.7058\n",
      "Epoch 179/200\n",
      "318/318 [==============================] - 0s 1ms/step - loss: 0.5729 - accuracy: 0.7002\n",
      "Epoch 180/200\n",
      "318/318 [==============================] - 0s 1ms/step - loss: 0.5673 - accuracy: 0.6965\n",
      "Epoch 181/200\n",
      "318/318 [==============================] - 0s 1ms/step - loss: 0.5710 - accuracy: 0.6975\n",
      "Epoch 182/200\n",
      "318/318 [==============================] - 0s 1ms/step - loss: 0.5619 - accuracy: 0.7189\n",
      "Epoch 183/200\n",
      "318/318 [==============================] - 0s 1ms/step - loss: 0.5622 - accuracy: 0.7103\n",
      "Epoch 184/200\n",
      "318/318 [==============================] - 0s 1ms/step - loss: 0.5767 - accuracy: 0.6940\n",
      "Epoch 185/200\n",
      "318/318 [==============================] - 0s 1ms/step - loss: 0.5591 - accuracy: 0.7121\n",
      "Epoch 186/200\n",
      "318/318 [==============================] - 0s 1ms/step - loss: 0.5658 - accuracy: 0.7099\n",
      "Epoch 187/200\n",
      "318/318 [==============================] - 0s 1ms/step - loss: 0.5639 - accuracy: 0.7117\n",
      "Epoch 188/200\n",
      "318/318 [==============================] - 0s 1ms/step - loss: 0.5681 - accuracy: 0.7109\n",
      "Epoch 189/200\n",
      "318/318 [==============================] - 0s 1ms/step - loss: 0.5753 - accuracy: 0.6976\n",
      "Epoch 190/200\n",
      "318/318 [==============================] - 0s 1ms/step - loss: 0.5675 - accuracy: 0.7064\n",
      "Epoch 191/200\n",
      "318/318 [==============================] - 0s 1ms/step - loss: 0.5716 - accuracy: 0.7055\n",
      "Epoch 192/200\n",
      "318/318 [==============================] - 0s 1ms/step - loss: 0.5720 - accuracy: 0.6998\n",
      "Epoch 193/200\n",
      "318/318 [==============================] - 0s 1ms/step - loss: 0.5673 - accuracy: 0.7026\n",
      "Epoch 194/200\n",
      "318/318 [==============================] - 0s 1ms/step - loss: 0.5725 - accuracy: 0.7017\n",
      "Epoch 195/200\n",
      "318/318 [==============================] - 0s 1ms/step - loss: 0.5642 - accuracy: 0.7042\n",
      "Epoch 196/200\n",
      "318/318 [==============================] - 0s 1ms/step - loss: 0.5658 - accuracy: 0.7033\n",
      "Epoch 197/200\n",
      "318/318 [==============================] - 0s 1ms/step - loss: 0.5779 - accuracy: 0.7005\n",
      "Epoch 198/200\n",
      "318/318 [==============================] - 0s 1ms/step - loss: 0.5671 - accuracy: 0.7074\n",
      "Epoch 199/200\n",
      "318/318 [==============================] - 0s 1ms/step - loss: 0.5685 - accuracy: 0.7005\n",
      "Epoch 200/200\n",
      "318/318 [==============================] - 0s 1ms/step - loss: 0.5637 - accuracy: 0.7099\n"
     ]
    },
    {
     "data": {
      "text/plain": [
       "<tensorflow.python.keras.callbacks.History at 0x7f51ecfee240>"
      ]
     },
     "execution_count": 130,
     "metadata": {
      "tags": []
     },
     "output_type": "execute_result"
    }
   ],
   "source": [
    "modelo.fit(x,y,epochs=200,batch_size=16)"
   ]
  },
  {
   "cell_type": "markdown",
   "metadata": {
    "id": "lpuHMYULH-MM"
   },
   "source": [
    "Evaluando el modelo keras obtuvimos una exactitud de 70.70%"
   ]
  },
  {
   "cell_type": "code",
   "execution_count": null,
   "metadata": {
    "colab": {
     "base_uri": "https://localhost:8080/"
    },
    "id": "ICOpA-UmH1Xw",
    "outputId": "c65591b6-4540-482f-a2a9-6e7f5b6a0bc2"
   },
   "outputs": [
    {
     "name": "stdout",
     "output_type": "stream",
     "text": [
      "159/159 [==============================] - 0s 904us/step - loss: 0.5681 - accuracy: 0.7070\n",
      "Accuracy: 70.70 \n"
     ]
    }
   ],
   "source": [
    "_, accuracy = modelo.evaluate(x,y)\n",
    "print('Accuracy: %.2f ' %(accuracy*100))"
   ]
  }
 ],
 "metadata": {
  "colab": {
   "name": "EXAMEN FINAL IA.ipynb",
   "provenance": []
  },
  "kernelspec": {
   "display_name": "Python 3",
   "language": "python",
   "name": "python3"
  },
  "language_info": {
   "codemirror_mode": {
    "name": "ipython",
    "version": 3
   },
   "file_extension": ".py",
   "mimetype": "text/x-python",
   "name": "python",
   "nbconvert_exporter": "python",
   "pygments_lexer": "ipython3",
   "version": "3.8.5"
  }
 },
 "nbformat": 4,
 "nbformat_minor": 1
}
